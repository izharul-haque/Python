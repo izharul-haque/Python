{
 "cells": [
  {
   "attachments": {
    "stack%20basic.JPG": {
     "image/jpeg": "[encoded data removed]"
    }
   },
   "cell_type": "markdown",
   "id": "bbd1d796",
   "metadata": {
    "id": "c7UdTv5UYKwv"
   },
   "source": [
    "## Stacks in Python\n",
    "![stack%20basic.JPG](attachment:stack%20basic.JPG)"
   ]
  },
  {
   "cell_type": "markdown",
   "id": "d8c66a10",
   "metadata": {
    "id": "9ApDTVG_YKw1"
   },
   "source": [
    "### Agenda:\n",
    "\n",
    "1. Basic stack operations\n",
    "    - Push\n",
    "    - Pop\n",
    "    - isEmpty\n",
    "    - Peek\n",
    "    - size\n",
    "    \n",
    "\n",
    "2. Balanced Paranthesis problem"
   ]
  },
  {
   "cell_type": "markdown",
   "id": "0931fbc3",
   "metadata": {
    "id": "DI_yl5JRYKw3"
   },
   "source": [
    "### Basic stack operations"
   ]
  },
  {
   "cell_type": "code",
   "execution_count": 1,
   "id": "03471bcf",
   "metadata": {
    "id": "DKY7I_J3YKw4"
   },
   "outputs": [],
   "source": [
    "class Stack:\n",
    "    \n",
    "    def __init__(self):\n",
    "        \"\"\"\n",
    "        init is a reserved method in Python that initialises the attributes/variables of a class. \n",
    "        It is called automatically once an object of class Stack is created.\n",
    "        \"\"\"\n",
    "        self.items=[]\n",
    "                \n",
    "    def push(self, item):\n",
    "        \"\"\"\n",
    "        push will add an item to the top of the stack. It takes the item to be pushed as an input parameter\n",
    "        and modifies the stack. Returns none.\n",
    "        \"\"\"\n",
    "        # There is no overflow condition here. why? we have created an empty list which\n",
    "        # has dynamic size. If we had created a list of fixed size, then we would have to \n",
    "        # check for overflow condition before pushing into the stack. \n",
    "        self.items.append(item)        \n",
    "        \n",
    "    def pop(self):\n",
    "        \"\"\"\n",
    "        removes the top most item from the stack and returns the item. The original stack is modified\n",
    "        \"\"\"     \n",
    "        #underflow condition. \n",
    "        if self.isEmpty():\n",
    "            return \"The stack is empty\"\n",
    "        \n",
    "        return self.items.pop()\n",
    "    \n",
    "    def isEmpty(self):\n",
    "        \"\"\"\n",
    "        returns True if the stack is empty, False otherwise. Needs no input parameter\n",
    "        \"\"\"\n",
    "        return self.items==[]\n",
    "    \n",
    "    def peek(self):\n",
    "        \"\"\"\n",
    "        returns the top most item of the stack. No parameter is required. The original stack is not modified\n",
    "        \"\"\"\n",
    "        return self.items[len(self.items)-1]\n",
    "    \n",
    "    def size(self):\n",
    "        \"\"\"\n",
    "        returns the number of items in the stack. No parameter is required.\n",
    "        \"\"\"\n",
    "        return len(self.items)"
   ]
  },
  {
   "cell_type": "code",
   "execution_count": 2,
   "id": "db2d76bc",
   "metadata": {
    "id": "OCydCb6VYKw8"
   },
   "outputs": [],
   "source": [
    "# Creating an object of class Stack\n",
    "\n",
    "s=Stack()"
   ]
  },
  {
   "cell_type": "code",
   "execution_count": 3,
   "id": "cf8c23ef",
   "metadata": {
    "id": "Hluo029vYKw9",
    "outputId": "146000d8-07e4-4a22-a5f5-5cee73c8b96c"
   },
   "outputs": [
    {
     "data": {
      "text/plain": [
       "[]"
      ]
     },
     "execution_count": 3,
     "metadata": {},
     "output_type": "execute_result"
    }
   ],
   "source": [
    "# Print the stack\n",
    "\n",
    "s.items"
   ]
  },
  {
   "cell_type": "code",
   "execution_count": 4,
   "id": "2857602f",
   "metadata": {
    "id": "LYuQrXIaYKw_",
    "outputId": "c39222b7-1686-48f4-ad14-2dd01aec947e"
   },
   "outputs": [
    {
     "data": {
      "text/plain": [
       "'The stack is empty'"
      ]
     },
     "execution_count": 4,
     "metadata": {},
     "output_type": "execute_result"
    }
   ],
   "source": [
    "# Remove the top element\n",
    "\n",
    "s.pop()"
   ]
  },
  {
   "cell_type": "code",
   "execution_count": 5,
   "id": "e851e3a4",
   "metadata": {
    "id": "rn9froZaYKxA",
    "outputId": "49e827f1-91d3-4629-d8c9-afe7c1784739"
   },
   "outputs": [
    {
     "data": {
      "text/plain": [
       "True"
      ]
     },
     "execution_count": 5,
     "metadata": {},
     "output_type": "execute_result"
    }
   ],
   "source": [
    "# Check if the stack is empty\n",
    "\n",
    "s.isEmpty()"
   ]
  },
  {
   "cell_type": "code",
   "execution_count": 6,
   "id": "58f19365",
   "metadata": {
    "id": "Z_IxecShYKxC"
   },
   "outputs": [],
   "source": [
    "# Insert an element to the stack\n",
    "\n",
    "s.push(\"A\")"
   ]
  },
  {
   "cell_type": "code",
   "execution_count": 7,
   "id": "5a5d010e",
   "metadata": {
    "id": "LRY9vQv1YKxD",
    "outputId": "7feedf63-2dde-474b-975e-4a5f73a285b1"
   },
   "outputs": [
    {
     "data": {
      "text/plain": [
       "['A']"
      ]
     },
     "execution_count": 7,
     "metadata": {},
     "output_type": "execute_result"
    }
   ],
   "source": [
    "s.items"
   ]
  },
  {
   "cell_type": "code",
   "execution_count": 8,
   "id": "b654a009",
   "metadata": {
    "id": "44ysLX0JYKxE",
    "outputId": "c675821d-924a-43f2-fa50-182ba8462927"
   },
   "outputs": [
    {
     "data": {
      "text/plain": [
       "1"
      ]
     },
     "execution_count": 8,
     "metadata": {},
     "output_type": "execute_result"
    }
   ],
   "source": [
    "# Get the size of stack\n",
    "\n",
    "s.size()"
   ]
  },
  {
   "cell_type": "code",
   "execution_count": 9,
   "id": "bc8df2a4",
   "metadata": {
    "id": "PNpOn-VjYKxF"
   },
   "outputs": [],
   "source": [
    "# Insert three more elements to the stack\n",
    "\n",
    "s.push(\"B\")\n",
    "s.push(\"C\")\n",
    "s.push(\"D\")"
   ]
  },
  {
   "cell_type": "code",
   "execution_count": 10,
   "id": "400a0534",
   "metadata": {
    "id": "CJ5DqRihYKxF",
    "outputId": "cdbb4c0c-cfe3-42db-d9c1-dcbd9f57cc09"
   },
   "outputs": [
    {
     "data": {
      "text/plain": [
       "['A', 'B', 'C', 'D']"
      ]
     },
     "execution_count": 10,
     "metadata": {},
     "output_type": "execute_result"
    }
   ],
   "source": [
    "# Using object name.attribute to access the contents of the list\n",
    "s.items"
   ]
  },
  {
   "cell_type": "code",
   "execution_count": 11,
   "id": "70c47968",
   "metadata": {
    "id": "mRVnltjcYKxG",
    "outputId": "45abce10-b749-4306-fa85-af7e537acfbc"
   },
   "outputs": [
    {
     "data": {
      "text/plain": [
       "4"
      ]
     },
     "execution_count": 11,
     "metadata": {},
     "output_type": "execute_result"
    }
   ],
   "source": [
    "# Get the size of stack\n",
    "s.size()"
   ]
  },
  {
   "cell_type": "code",
   "execution_count": 12,
   "id": "85377649",
   "metadata": {
    "id": "MAMLooXwYKxH",
    "outputId": "c3714456-3ab5-45b0-a0a2-1f1bcb9498c6"
   },
   "outputs": [
    {
     "data": {
      "text/plain": [
       "False"
      ]
     },
     "execution_count": 12,
     "metadata": {},
     "output_type": "execute_result"
    }
   ],
   "source": [
    "s.isEmpty()"
   ]
  },
  {
   "cell_type": "code",
   "execution_count": 13,
   "id": "1a697ab7",
   "metadata": {
    "id": "dx3a36aKYKxI",
    "outputId": "75cc45ac-8040-4688-d01c-2b55d070770a"
   },
   "outputs": [
    {
     "data": {
      "text/plain": [
       "'D'"
      ]
     },
     "execution_count": 13,
     "metadata": {},
     "output_type": "execute_result"
    }
   ],
   "source": [
    "# To get the top most element in stack\n",
    "s.peek()"
   ]
  },
  {
   "cell_type": "code",
   "execution_count": 14,
   "id": "87983c03",
   "metadata": {
    "id": "oYvhYeZ9YKxI",
    "outputId": "b3aa38c0-3c3a-4422-f0b9-106cf7b08b2a"
   },
   "outputs": [
    {
     "data": {
      "text/plain": [
       "['A', 'B', 'C', 'D']"
      ]
     },
     "execution_count": 14,
     "metadata": {},
     "output_type": "execute_result"
    }
   ],
   "source": [
    "# peek will not modify the original stack. It only gives the top most element\n",
    "s.items"
   ]
  },
  {
   "cell_type": "code",
   "execution_count": 15,
   "id": "04897721",
   "metadata": {
    "id": "tbdLqnhtYKxJ",
    "outputId": "4f4a8a2e-ef95-42ce-8349-8b9249104e18"
   },
   "outputs": [
    {
     "data": {
      "text/plain": [
       "'D'"
      ]
     },
     "execution_count": 15,
     "metadata": {},
     "output_type": "execute_result"
    }
   ],
   "source": [
    "s.pop()"
   ]
  },
  {
   "cell_type": "code",
   "execution_count": 16,
   "id": "199874df",
   "metadata": {
    "id": "ghiwZiofYKxK",
    "outputId": "3f88930d-68e4-40ce-d279-a77b0401dd54"
   },
   "outputs": [
    {
     "data": {
      "text/plain": [
       "['A', 'B', 'C']"
      ]
     },
     "execution_count": 16,
     "metadata": {},
     "output_type": "execute_result"
    }
   ],
   "source": [
    "# Printing the final stack after popping the top most element\n",
    "s.items"
   ]
  },
  {
   "cell_type": "markdown",
   "id": "5d58b73b",
   "metadata": {
    "id": "Vsn1wC8cYKxL"
   },
   "source": [
    "## Stack example problem"
   ]
  },
  {
   "cell_type": "markdown",
   "id": "44582590",
   "metadata": {
    "id": "EGUM_7beYKxL"
   },
   "source": [
    "### Balanced parantheses"
   ]
  },
  {
   "cell_type": "markdown",
   "id": "faceb34f",
   "metadata": {
    "id": "2iMNuVvoYKxL"
   },
   "source": [
    "Write an algorithm that returns \"True\" if a group of parentheses which are passed as input are balanced. If not, it returns \"False\". Note that the parentheses can only be of simple brackets '()' type.\n",
    "\n",
    "**Test Case - 1** \\\n",
    "Sample input: \n",
    "(()()()()) \\\n",
    "Sample Output:\n",
    "True\n",
    "\n",
    "**Test Case - 2** \\\n",
    "Sample input:\n",
    "(()((())())) \\\n",
    "Sample Output:\n",
    "True\n",
    "\n",
    "**Test Case - 3** \\\n",
    "Sample input:\n",
    "((((((())) \\\n",
    "Sample Output:\n",
    "False\n",
    "\n",
    "**Test Case - 4** \\\n",
    "Sample input:\n",
    ")()( \\\n",
    "Sample Output:\n",
    "False\n",
    "\n",
    "***Explanation:*** \n",
    "- In test case - 1 & 2, the number of '(' and ')' brackets are both equal to 5 and the order in which they appear ensures that every opening bracket has its corresponding closing bracket. Hence, it shows `True` in the output. \n",
    "- In test case - 3, the number of '(' is equal to 7 whereas the number of ')' is equal to 3. Hence it shows `False` in the output.\n",
    "- In test case - 4, although the number of opening and closing braces match, they are not in proper order, thus making it unbalanced. The function returns `False`."
   ]
  },
  {
   "cell_type": "code",
   "execution_count": 17,
   "id": "9a913d8b",
   "metadata": {},
   "outputs": [],
   "source": [
    "class Stack:\n",
    "    \n",
    "    def __init__(self):\n",
    "        self.items=[]\n",
    "                \n",
    "    def push(self, item):\n",
    "        self.items.append(item)        \n",
    "        \n",
    "    def pop(self):\n",
    "#         #underflow condition. \n",
    "#         if self.isEmpty():\n",
    "#             return \"The stack is empty\"\n",
    "        return self.items.pop()\n",
    "    \n",
    "    def isEmpty(self):\n",
    "        return self.items==[]\n",
    "    \n",
    "    def peek(self):\n",
    "        return self.items[len(self.items)-1]\n",
    "    \n",
    "    def size(self):\n",
    "        return len(self.items)"
   ]
  },
  {
   "cell_type": "code",
   "execution_count": 18,
   "id": "e87c087e",
   "metadata": {
    "id": "QIeMsnmmeF69"
   },
   "outputs": [],
   "source": [
    "# Base line model\n",
    "\n",
    "def balanced_paranthesis(string):\n",
    "    \"\"\"\n",
    "    returns True is the paranthesis are balanced, else False\n",
    "    \"\"\"\n",
    "    s=Stack()\n",
    "    index=0\n",
    "   \n",
    "    while (index<len(string)):\n",
    "        if string[index]=='(':\n",
    "            s.push(string[index])     \n",
    "        else:\n",
    "            s.pop()\n",
    "\n",
    "        index+=1\n",
    "\n",
    "    if s.isEmpty():\n",
    "        return True\n",
    "    else:\n",
    "        return False"
   ]
  },
  {
   "cell_type": "code",
   "execution_count": 19,
   "id": "6e5f5dbe",
   "metadata": {
    "colab": {
     "base_uri": "https://localhost:8080/"
    },
    "executionInfo": {
     "elapsed": 12,
     "status": "ok",
     "timestamp": 1632755046298,
     "user": {
      "displayName": "Vaishnavee M",
      "photoUrl": "https://lh3.googleusercontent.com/a/default-user=s64",
      "userId": "00238996371145262943"
     },
     "user_tz": -330
    },
    "id": "eQoaRofEffgE",
    "outputId": "c4712417-5f26-445d-c36a-dabfe3069483"
   },
   "outputs": [
    {
     "name": "stdout",
     "output_type": "stream",
     "text": [
      "True\n"
     ]
    }
   ],
   "source": [
    "print(balanced_paranthesis('(())'))"
   ]
  },
  {
   "cell_type": "code",
   "execution_count": 20,
   "id": "06af6e2a",
   "metadata": {
    "colab": {
     "base_uri": "https://localhost:8080/",
     "height": 306
    },
    "executionInfo": {
     "elapsed": 22,
     "status": "error",
     "timestamp": 1632755047993,
     "user": {
      "displayName": "Vaishnavee M",
      "photoUrl": "https://lh3.googleusercontent.com/a/default-user=s64",
      "userId": "00238996371145262943"
     },
     "user_tz": -330
    },
    "id": "5MZ5AhiWfhtv",
    "outputId": "280cdca2-2ff0-4d17-a5fb-79ca762ceba6"
   },
   "outputs": [
    {
     "ename": "IndexError",
     "evalue": "pop from empty list",
     "output_type": "error",
     "traceback": [
      "\u001b[1;31m---------------------------------------------------------------------------\u001b[0m",
      "\u001b[1;31mIndexError\u001b[0m                                Traceback (most recent call last)",
      "\u001b[1;32m<ipython-input-20-16dad3ad1d77>\u001b[0m in \u001b[0;36m<module>\u001b[1;34m\u001b[0m\n\u001b[1;32m----> 1\u001b[1;33m \u001b[0mprint\u001b[0m\u001b[1;33m(\u001b[0m\u001b[0mbalanced_paranthesis\u001b[0m\u001b[1;33m(\u001b[0m\u001b[1;34m'())'\u001b[0m\u001b[1;33m)\u001b[0m\u001b[1;33m)\u001b[0m\u001b[1;33m\u001b[0m\u001b[1;33m\u001b[0m\u001b[0m\n\u001b[0m\u001b[0;32m      2\u001b[0m \u001b[1;33m\u001b[0m\u001b[0m\n\u001b[0;32m      3\u001b[0m \u001b[1;31m# The error has occured due to stack underflow condition. We have commented out the return statement\u001b[0m\u001b[1;33m\u001b[0m\u001b[1;33m\u001b[0m\u001b[1;33m\u001b[0m\u001b[0m\n\u001b[0;32m      4\u001b[0m \u001b[1;31m# for stack underflow in our Stack class. If we do not comment that out, then we will get 'True' as output. Why?\u001b[0m\u001b[1;33m\u001b[0m\u001b[1;33m\u001b[0m\u001b[1;33m\u001b[0m\u001b[0m\n\u001b[0;32m      5\u001b[0m \u001b[1;31m# By returning \"The stack is empty\", we are actually suppressing the error and breaking the loop.\u001b[0m\u001b[1;33m\u001b[0m\u001b[1;33m\u001b[0m\u001b[1;33m\u001b[0m\u001b[0m\n",
      "\u001b[1;32m<ipython-input-18-79b64d3ee67a>\u001b[0m in \u001b[0;36mbalanced_paranthesis\u001b[1;34m(string)\u001b[0m\n\u001b[0;32m     12\u001b[0m             \u001b[0ms\u001b[0m\u001b[1;33m.\u001b[0m\u001b[0mpush\u001b[0m\u001b[1;33m(\u001b[0m\u001b[0mstring\u001b[0m\u001b[1;33m[\u001b[0m\u001b[0mindex\u001b[0m\u001b[1;33m]\u001b[0m\u001b[1;33m)\u001b[0m\u001b[1;33m\u001b[0m\u001b[1;33m\u001b[0m\u001b[0m\n\u001b[0;32m     13\u001b[0m         \u001b[1;32melse\u001b[0m\u001b[1;33m:\u001b[0m\u001b[1;33m\u001b[0m\u001b[1;33m\u001b[0m\u001b[0m\n\u001b[1;32m---> 14\u001b[1;33m             \u001b[0ms\u001b[0m\u001b[1;33m.\u001b[0m\u001b[0mpop\u001b[0m\u001b[1;33m(\u001b[0m\u001b[1;33m)\u001b[0m\u001b[1;33m\u001b[0m\u001b[1;33m\u001b[0m\u001b[0m\n\u001b[0m\u001b[0;32m     15\u001b[0m \u001b[1;33m\u001b[0m\u001b[0m\n\u001b[0;32m     16\u001b[0m         \u001b[0mindex\u001b[0m\u001b[1;33m+=\u001b[0m\u001b[1;36m1\u001b[0m\u001b[1;33m\u001b[0m\u001b[1;33m\u001b[0m\u001b[0m\n",
      "\u001b[1;32m<ipython-input-17-61a9b521ff7d>\u001b[0m in \u001b[0;36mpop\u001b[1;34m(self)\u001b[0m\n\u001b[0;32m     11\u001b[0m \u001b[1;31m#         if self.isEmpty():\u001b[0m\u001b[1;33m\u001b[0m\u001b[1;33m\u001b[0m\u001b[1;33m\u001b[0m\u001b[0m\n\u001b[0;32m     12\u001b[0m \u001b[1;31m#             return \"The stack is empty\"\u001b[0m\u001b[1;33m\u001b[0m\u001b[1;33m\u001b[0m\u001b[1;33m\u001b[0m\u001b[0m\n\u001b[1;32m---> 13\u001b[1;33m         \u001b[1;32mreturn\u001b[0m \u001b[0mself\u001b[0m\u001b[1;33m.\u001b[0m\u001b[0mitems\u001b[0m\u001b[1;33m.\u001b[0m\u001b[0mpop\u001b[0m\u001b[1;33m(\u001b[0m\u001b[1;33m)\u001b[0m\u001b[1;33m\u001b[0m\u001b[1;33m\u001b[0m\u001b[0m\n\u001b[0m\u001b[0;32m     14\u001b[0m \u001b[1;33m\u001b[0m\u001b[0m\n\u001b[0;32m     15\u001b[0m     \u001b[1;32mdef\u001b[0m \u001b[0misEmpty\u001b[0m\u001b[1;33m(\u001b[0m\u001b[0mself\u001b[0m\u001b[1;33m)\u001b[0m\u001b[1;33m:\u001b[0m\u001b[1;33m\u001b[0m\u001b[1;33m\u001b[0m\u001b[0m\n",
      "\u001b[1;31mIndexError\u001b[0m: pop from empty list"
     ]
    }
   ],
   "source": [
    "print(balanced_paranthesis('())'))\n",
    "\n",
    "# The error has occured due to stack underflow condition. We have commented out the return statement\n",
    "# for stack underflow in our Stack class. If we do not comment that out, then we will get 'True' as output. Why?\n",
    "# By returning \"The stack is empty\", we are actually suppressing the error and breaking the loop.\n",
    "# Now the control will pass to the if statement and the stack is actually empty currently and we get a True as output."
   ]
  },
  {
   "cell_type": "code",
   "execution_count": null,
   "id": "368712a0",
   "metadata": {
    "id": "rAVbfAn-fIpP"
   },
   "outputs": [],
   "source": [
    "# incorporating the condition for stack underflow - final model\n",
    "\n",
    "def balanced_paranthesis(string):\n",
    "    \"\"\"\n",
    "    returns True is the paranthesis are balanced, else False\n",
    "    \"\"\"\n",
    "    s=Stack()\n",
    "    index=0\n",
    "    \n",
    "   \n",
    "    while (index<len(string)):\n",
    "        if string[index]=='(':\n",
    "            s.push(string[index])     \n",
    "        else:\n",
    "            if s.isEmpty():\n",
    "                return False\n",
    "            else:\n",
    "                s.pop()\n",
    "        index+=1\n",
    "        \n",
    "\n",
    "    if s.isEmpty():\n",
    "        return True\n",
    "    else:\n",
    "        return False"
   ]
  },
  {
   "cell_type": "code",
   "execution_count": null,
   "id": "d26da985",
   "metadata": {
    "colab": {
     "base_uri": "https://localhost:8080/"
    },
    "executionInfo": {
     "elapsed": 491,
     "status": "ok",
     "timestamp": 1632803106737,
     "user": {
      "displayName": "Vaishnavee M",
      "photoUrl": "https://lh3.googleusercontent.com/a/default-user=s64",
      "userId": "00238996371145262943"
     },
     "user_tz": -330
    },
    "id": "Lljy7nDWiizt",
    "outputId": "7e3ae754-daad-4a64-cf16-b150161426ae"
   },
   "outputs": [],
   "source": [
    "string='((()))'\n",
    "print(balanced_paranthesis(string))\n",
    "print('---')\n",
    "print(balanced_paranthesis('((()))'))\n",
    "print(balanced_paranthesis('(()'))"
   ]
  },
  {
   "cell_type": "code",
   "execution_count": null,
   "id": "b19c163a",
   "metadata": {},
   "outputs": [],
   "source": [
    "# Python3 program to check for\n",
    "# balanced brackets.\n",
    "\n",
    "# function to check if\n",
    "# brackets are balanced\n",
    "\n",
    "\n",
    "def areBracketsBalanced(expr):\n",
    "    stack = []\n",
    "\n",
    "    # Traversing the Expression\n",
    "    for char in expr:\n",
    "        if char in [\"(\", \"{\", \"[\"]:\n",
    "\n",
    "            # Push the element in the stack\n",
    "            stack.append(char)\n",
    "        else:\n",
    "\n",
    "            # IF current character is not opening\n",
    "            # bracket, then it must be closing.\n",
    "            # So stack cannot be empty at this point.\n",
    "            if not stack:\n",
    "                return False\n",
    "            current_char = stack.pop()\n",
    "            if current_char == '(':\n",
    "                if char != \")\":\n",
    "                    return False\n",
    "            if current_char == '{':\n",
    "                if char != \"}\":\n",
    "                    return False\n",
    "            if current_char == '[':\n",
    "                if char != \"]\":\n",
    "                    return False\n",
    "\n",
    "    # Check Empty Stack\n",
    "    if stack:\n",
    "        return False\n",
    "    return True\n",
    "\n",
    "\n",
    "# Driver Code\n",
    "if __name__ == \"__main__\":\n",
    "    expr = \"{()}[]\"\n",
    "\n",
    "    # Function call\n",
    "    if areBracketsBalanced(expr):\n",
    "        print(\"Balanced\")\n",
    "    else:\n",
    "        print(\"Not Balanced\")"
   ]
  },
  {
   "cell_type": "code",
   "execution_count": null,
   "id": "8a2e23da",
   "metadata": {},
   "outputs": [],
   "source": [
    "\"\"\" the stack-based algorithm which you learnt in the previous video\n",
    "\n",
    " \n",
    "\n",
    "    Parse through the given string character by character\n",
    "\n",
    "    Every time you encounter an opening parenthesis ‘(‘ push it into the stack and every time you encounter a ‘)’ pop it out of the stack.\n",
    "\n",
    "    There are two correctness conditions to be checked\n",
    "\n",
    "        The stack should be empty at the end of the scan\n",
    "\n",
    "            If the stack is not empty at the end of the scan, it means that there are more opening parentheses than closing parentheses.\n",
    "\n",
    "             Pop() cannot be called on an empty stack. Example: ())()\n",
    "\n",
    "            Popping from an empty stack at any point of parsing means that there are closing parentheses \n",
    "            than opening parentheses. Parsing can be stopped as soon this condition is encountered to return \n",
    "        the given parentheses is not balanced. \"\"\"\n"
   ]
  },
  {
   "cell_type": "code",
   "execution_count": null,
   "id": "616050d0",
   "metadata": {},
   "outputs": [],
   "source": [
    "S1=[3, 5, 1, 6, 7, 9]"
   ]
  },
  {
   "cell_type": "code",
   "execution_count": null,
   "id": "4e481720",
   "metadata": {},
   "outputs": [],
   "source": [
    "x=Stack()"
   ]
  },
  {
   "cell_type": "code",
   "execution_count": null,
   "id": "a4e6fa0c",
   "metadata": {},
   "outputs": [],
   "source": [
    "x.push(9)\n",
    "x.push(7)\n",
    "x.push(6)\n",
    "x.push(1)\n",
    "x.push(5)\n",
    "x.push(3)"
   ]
  },
  {
   "cell_type": "code",
   "execution_count": null,
   "id": "4d69bbe7",
   "metadata": {},
   "outputs": [],
   "source": [
    "x.size()"
   ]
  },
  {
   "cell_type": "code",
   "execution_count": null,
   "id": "d46bc9c5",
   "metadata": {},
   "outputs": [],
   "source": [
    "x"
   ]
  },
  {
   "cell_type": "code",
   "execution_count": null,
   "id": "2ffbe4bf",
   "metadata": {},
   "outputs": [],
   "source": [
    "x.items"
   ]
  },
  {
   "cell_type": "code",
   "execution_count": null,
   "id": "2f0175eb",
   "metadata": {},
   "outputs": [],
   "source": [
    "while not x.isEmpty:\n",
    "    for i in x:\n",
    "        y=x.pop(i)\n",
    "    print(y)"
   ]
  },
  {
   "cell_type": "code",
   "execution_count": null,
   "id": "cf66c45f",
   "metadata": {},
   "outputs": [],
   "source": [
    "y=x.pop()"
   ]
  },
  {
   "cell_type": "code",
   "execution_count": null,
   "id": "ba66a294",
   "metadata": {},
   "outputs": [],
   "source": [
    "y.size"
   ]
  },
  {
   "cell_type": "markdown",
   "id": "15ec2952",
   "metadata": {},
   "source": [
    "#### Q. Given a stack, and you need to print the kth element from the top of the stack.\n",
    "- Input Format\n",
    "\n",
    "The first line contains n space-separated integers denoting the elements of the stack.\n",
    "\n",
    "The second line contains an integer 'k' denoting the position of the element to be printed from the top of the stack.\n",
    "\n",
    "\n",
    "- Output Format\n",
    "\n",
    "Print an integer. This should be the kth element from the top of the stack.\n",
    "\n",
    "Note: If the number of elements in the stack is less than k, then print “There are not enough elements in the stack”.\n",
    "\n",
    "\n",
    "\n",
    "\n",
    "\n"
   ]
  },
  {
   "cell_type": "code",
   "execution_count": null,
   "id": "525098a5",
   "metadata": {},
   "outputs": [],
   "source": [
    "\n",
    "class stack:\n",
    "    \n",
    "    def __init__(self,items):\n",
    "        self.items=[]\n",
    "        \n",
    "    def push(self,item):\n",
    "        self.items.append(item)\n",
    "        \n",
    "    def pop(self):\n",
    "        if self.isEmpty():\n",
    "            return 'stack is empty'\n",
    "        \n",
    "        return self.items.pop()\n",
    "    \n",
    "    def isEmpty(self):\n",
    "        return self.items==[]\n",
    "    \n",
    "    def peel(self):\n",
    "        return self.items[len(self.items)-1]\n",
    "        \n",
    "    def size(self):\n",
    "        return len(self.items)\n",
    "        \n",
    "\n",
    "\n",
    "        \n",
    "\n",
    "        \n",
    "        "
   ]
  },
  {
   "cell_type": "code",
   "execution_count": null,
   "id": "55d30345",
   "metadata": {},
   "outputs": [],
   "source": [
    "# sample_input= int(input())\n",
    "# kth_element=int(input())\n",
    "\n",
    "sample_input= 12343343224242\n",
    "kth_element= 8"
   ]
  },
  {
   "cell_type": "code",
   "execution_count": null,
   "id": "ccc6c76c",
   "metadata": {},
   "outputs": [],
   "source": [
    "def stack_value(sample_input, kth_element):   \n",
    "    for i in range(sample_input):\n",
    "        if i==kth_element:\n",
    "            print(i)"
   ]
  },
  {
   "cell_type": "code",
   "execution_count": null,
   "id": "9c72d362",
   "metadata": {},
   "outputs": [],
   "source": [
    "stack_value(sample_input, kth_element)"
   ]
  },
  {
   "cell_type": "code",
   "execution_count": null,
   "id": "e3eca44c",
   "metadata": {},
   "outputs": [],
   "source": [
    "def bal_parenthesis(string):\n",
    "    val=0\n",
    "    for i in string:\n",
    "        if i=='(':\n",
    "            val+=1\n",
    "        elif i==')':\n",
    "            val-=1\n",
    "    if val > 0:\n",
    "        print('unbalance')\n",
    "    else:\n",
    "        print('balanced')\n",
    "        "
   ]
  },
  {
   "cell_type": "code",
   "execution_count": null,
   "id": "14a58505",
   "metadata": {},
   "outputs": [],
   "source": [
    "a='(((())))'"
   ]
  },
  {
   "cell_type": "code",
   "execution_count": null,
   "id": "f0260058",
   "metadata": {},
   "outputs": [],
   "source": [
    "bal_parenthesis(a)"
   ]
  },
  {
   "cell_type": "code",
   "execution_count": 26,
   "id": "a47dc049",
   "metadata": {},
   "outputs": [],
   "source": [
    "def bal_parent(string):\n",
    "#     while len(string) <0:\n",
    "    y=[]\n",
    "    z=[]\n",
    "    for i in string:\n",
    "        if i=='(':\n",
    "            y+=1\n",
    "        elif i==')':\n",
    "            y-=1\n",
    "        elif i=='{':\n",
    "            z+=1\n",
    "        else:\n",
    "            z-=1\n",
    "            break\n",
    "    if y==1 and z==0:\n",
    "        return False\n",
    "    elif y==0 and z==1:\n",
    "        return False\n",
    "    else:\n",
    "        return True\n",
    "            \n",
    "        "
   ]
  },
  {
   "cell_type": "code",
   "execution_count": 27,
   "id": "aeacf04d",
   "metadata": {},
   "outputs": [],
   "source": [
    "b='([])'"
   ]
  },
  {
   "cell_type": "code",
   "execution_count": null,
   "id": "5621d536",
   "metadata": {},
   "outputs": [],
   "source": []
  }
 ],
 "metadata": {
  "colab": {
   "collapsed_sections": [],
   "name": "Stacks reference.ipynb",
   "provenance": []
  },
  "kernelspec": {
   "display_name": "Python 3",
   "language": "python",
   "name": "python3"
  },
  "language_info": {
   "codemirror_mode": {
    "name": "ipython",
    "version": 3
   },
   "file_extension": ".py",
   "mimetype": "text/x-python",
   "name": "python",
   "nbconvert_exporter": "python",
   "pygments_lexer": "ipython3",
   "version": "3.8.8"
  }
 },
 "nbformat": 4,
 "nbformat_minor": 5
}
