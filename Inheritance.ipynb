{
  "cells": [
    {
      "cell_type": "markdown",
      "metadata": {
        "id": "view-in-github",
        "colab_type": "text"
      },
      "source": [
        "<a href=\"https://colab.research.google.com/github/izharul-haque/Python/blob/main/Inheritance.ipynb\" target=\"_parent\"><img src=\"https://colab.research.google.com/assets/colab-badge.svg\" alt=\"Open In Colab\"/></a>"
      ]
    },
    {
      "cell_type": "markdown",
      "id": "0d80972f",
      "metadata": {
        "id": "0d80972f"
      },
      "source": [
        "Inheritance is the capability of one class to derive or inherit the properties from another class. "
      ]
    },
    {
      "cell_type": "markdown",
      "id": "14d44c3d",
      "metadata": {
        "id": "14d44c3d"
      },
      "source": [
        "## Benefits of inheritance are: \n",
        "\n",
        "It represents real-world relationships well.\n",
        "\n",
        "It provides the reusability of a code. We don’t have to write the same code again and again. Also, it allows us to add more features to a class without modifying it.\n",
        "\n",
        "It is transitive in nature, which means that if class B inherits from another class A, then all the subclasses of B would automatically inherit from class A.\n",
        "\n",
        "Python Inheritance Syntax"
      ]
    },
    {
      "cell_type": "code",
      "execution_count": null,
      "id": "f7bac431",
      "metadata": {
        "id": "f7bac431"
      },
      "outputs": [],
      "source": [
        "Class BaseClass:\n",
        "    {Body}\n",
        "Class DerivedClass(BaseClass):\n",
        "    {Body}"
      ]
    },
    {
      "cell_type": "code",
      "execution_count": null,
      "id": "da94e80c",
      "metadata": {
        "id": "da94e80c",
        "outputId": "8e9bd76f-d93e-4003-8ed7-9eb7d54cfe12"
      },
      "outputs": [
        {
          "name": "stdout",
          "output_type": "stream",
          "text": [
            "Satyam 102\n"
          ]
        }
      ],
      "source": [
        "## Creating a Parent Class\n",
        "\n",
        "##Creating a Person class with Display methods\n",
        "\n",
        "# A Python program to demonstrate inheritance\n",
        " \n",
        "class Person(object):\n",
        "   \n",
        "  # Constructor\n",
        "  def __init__(self, name, id):\n",
        "    self.name = name\n",
        "    self.id = id\n",
        " \n",
        "  # To check if this person is an employee\n",
        "  def Display(self):\n",
        "    print(self.name, self.id)\n",
        " \n",
        " \n",
        "# Driver code\n",
        "emp = Person(\"Satyam\", 102) # An Object of Person\n",
        "emp.Display()"
      ]
    },
    {
      "cell_type": "code",
      "execution_count": null,
      "id": "d2101817",
      "metadata": {
        "id": "d2101817",
        "outputId": "b3d837ee-9cd3-4d81-9446-79ad2d7c8544"
      },
      "outputs": [
        {
          "name": "stdout",
          "output_type": "stream",
          "text": [
            "Mayank 103\n",
            "Emp class called\n"
          ]
        }
      ],
      "source": [
        "## Creating a Child Class\n",
        "\n",
        "## Here Emp is another class which is going to inherit the properties of the Person class(base class).\n",
        "\n",
        "class Emp(Person):\n",
        "   \n",
        "  def Print(self):\n",
        "    print(\"Emp class called\")\n",
        "     \n",
        "Emp_details = Emp(\"Mayank\", 103)\n",
        " \n",
        "# calling parent class function\n",
        "Emp_details.Display()\n",
        " \n",
        "# Calling child class function\n",
        "Emp_details.Print()"
      ]
    },
    {
      "cell_type": "code",
      "execution_count": null,
      "id": "a191640b",
      "metadata": {
        "id": "a191640b",
        "outputId": "348e0163-beaa-4226-ec4e-265ca1540419"
      },
      "outputs": [
        {
          "name": "stdout",
          "output_type": "stream",
          "text": [
            "Geek1 False\n",
            "Geek2 True\n"
          ]
        }
      ],
      "source": [
        "# A Python program to demonstrate inheritance\n",
        " \n",
        "# Base or Super class. Note object in bracket.\n",
        "# (Generally, object is made ancestor of all classes)\n",
        "# In Python 3.x \"class Person\" is\n",
        "# equivalent to \"class Person(object)\"\n",
        " \n",
        " \n",
        "class Person(object):\n",
        " \n",
        "    # Constructor\n",
        "    def __init__(self, name):\n",
        "        self.name = name\n",
        " \n",
        "    # To get name\n",
        "    def getName(self):\n",
        "        return self.name\n",
        " \n",
        "    # To check if this person is an employee\n",
        "    def isEmployee(self):\n",
        "        return False\n",
        " \n",
        " \n",
        "# Inherited or Subclass (Note Person in bracket)\n",
        "class Employee(Person):\n",
        " \n",
        "    # Here we return true\n",
        "    def isEmployee(self):\n",
        "        return True\n",
        " \n",
        " \n",
        "# Driver code\n",
        "emp = Person(\"Geek1\")  # An Object of Person\n",
        "print(emp.getName(), emp.isEmployee())\n",
        " \n",
        "emp = Employee(\"Geek2\")  # An Object of Employee\n",
        "print(emp.getName(), emp.isEmployee())\n"
      ]
    },
    {
      "cell_type": "markdown",
      "id": "33f6843d",
      "metadata": {
        "id": "33f6843d"
      },
      "source": [
        "## Different types of Inheritance:"
      ]
    },
    {
      "cell_type": "markdown",
      "id": "4ac397f4",
      "metadata": {
        "id": "4ac397f4"
      },
      "source": [
        "**Single inheritance**: Single inheritance enables a derived class to inherit properties from a single parent class, thus enabling code reusability and the addition of new features to existing code."
      ]
    },
    {
      "cell_type": "markdown",
      "id": "3232dfb4",
      "metadata": {
        "id": "3232dfb4"
      },
      "source": [
        "![link_text](https://media.geeksforgeeks.org/wp-content/uploads/20200108135809/inheritance11.png)"
      ]
    },
    {
      "cell_type": "code",
      "execution_count": null,
      "id": "de4104fa",
      "metadata": {
        "id": "de4104fa",
        "outputId": "b017178a-e903-4654-a968-00585f8e62c9"
      },
      "outputs": [
        {
          "name": "stdout",
          "output_type": "stream",
          "text": [
            "This function is in parent class.\n",
            "This function is in child class.\n"
          ]
        }
      ],
      "source": [
        "# Python program to demonstrate\n",
        "# single inheritance\n",
        " \n",
        "# Base class\n",
        "class Parent:\n",
        "    def func1(self):\n",
        "        print(\"This function is in parent class.\")\n",
        " \n",
        "# Derived class\n",
        " \n",
        " \n",
        "class Child(Parent):\n",
        "    def func2(self):\n",
        "        print(\"This function is in child class.\")\n",
        " \n",
        " \n",
        "# Driver's code\n",
        "object = Child()\n",
        "object.func1()\n",
        "object.func2()"
      ]
    },
    {
      "cell_type": "markdown",
      "id": "c06ce930",
      "metadata": {
        "id": "c06ce930"
      },
      "source": [
        "**Multiple Inheritance** When a class can be derived from more than one base class this type of inheritance is called multiple inheritances. In multiple inheritances, all the features of the base classes are inherited into the derived class.\n",
        "\n",
        "![link_text](https://media.geeksforgeeks.org/wp-content/uploads/20200108144424/multiple-inheritance1.png)"
      ]
    },
    {
      "cell_type": "code",
      "execution_count": null,
      "id": "607db381",
      "metadata": {
        "id": "607db381",
        "outputId": "d1e993f4-0fdd-4bf3-bea5-6c0fa11e3caa"
      },
      "outputs": [
        {
          "name": "stdout",
          "output_type": "stream",
          "text": [
            "Father : RAM\n",
            "Mother : SITA\n"
          ]
        }
      ],
      "source": [
        "# Python program to demonstrate\n",
        "# multiple inheritance\n",
        " \n",
        "# Base class1\n",
        "class Mother:\n",
        "    mothername = \"\"\n",
        " \n",
        "    def mother(self):\n",
        "        print(self.mothername)\n",
        " \n",
        "# Base class2\n",
        " \n",
        " \n",
        "class Father:\n",
        "    fathername = \"\"\n",
        " \n",
        "    def father(self):\n",
        "        print(self.fathername)\n",
        " \n",
        "# Derived class\n",
        " \n",
        " \n",
        "class Son(Mother, Father):\n",
        "    def parents(self):\n",
        "        print(\"Father :\", self.fathername)\n",
        "        print(\"Mother :\", self.mothername)\n",
        " \n",
        " \n",
        "# Driver's code\n",
        "s1 = Son()\n",
        "s1.fathername = \"RAM\"\n",
        "s1.mothername = \"SITA\"\n",
        "s1.parents()"
      ]
    },
    {
      "cell_type": "markdown",
      "id": "88f36ec5",
      "metadata": {
        "id": "88f36ec5"
      },
      "source": [
        "**Multilevel Inheritance** In multilevel inheritance, features of the base class and the derived class are further inherited into the new derived class. This is similar to a relationship representing a child and a grandfather.\n",
        "\n",
        "![link_text](https://media.geeksforgeeks.org/wp-content/uploads/20200108144705/Multilevel-inheritance1.png)"
      ]
    },
    {
      "cell_type": "code",
      "execution_count": null,
      "id": "be9d9696",
      "metadata": {
        "id": "be9d9696",
        "outputId": "9f3b7de2-8771-48b4-c6de-e00a5c721c20"
      },
      "outputs": [
        {
          "name": "stdout",
          "output_type": "stream",
          "text": [
            "Lal mani\n",
            "Grandfather name : Lal mani\n",
            "Father name : Rampal\n",
            "Son name : Prince\n"
          ]
        }
      ],
      "source": [
        "# Python program to demonstrate\n",
        "# multilevel inheritance\n",
        " \n",
        "# Base class\n",
        " \n",
        " \n",
        "class Grandfather:\n",
        " \n",
        "    def __init__(self, grandfathername):\n",
        "        self.grandfathername = grandfathername\n",
        " \n",
        "# Intermediate class\n",
        " \n",
        " \n",
        "class Father(Grandfather):\n",
        "    def __init__(self, fathername, grandfathername):\n",
        "        self.fathername = fathername\n",
        " \n",
        "        # invoking constructor of Grandfather class\n",
        "        Grandfather.__init__(self, grandfathername)\n",
        " \n",
        "# Derived class\n",
        " \n",
        " \n",
        "class Son(Father):\n",
        "    def __init__(self, sonname, fathername, grandfathername):\n",
        "        self.sonname = sonname\n",
        " \n",
        "        # invoking constructor of Father class\n",
        "        Father.__init__(self, fathername, grandfathername)\n",
        " \n",
        "    def print_name(self):\n",
        "        print('Grandfather name :', self.grandfathername)\n",
        "        print(\"Father name :\", self.fathername)\n",
        "        print(\"Son name :\", self.sonname)\n",
        " \n",
        " \n",
        "#  Driver code\n",
        "s1 = Son('Prince', 'Rampal', 'Lal mani')\n",
        "print(s1.grandfathername)\n",
        "s1.print_name()"
      ]
    },
    {
      "cell_type": "code",
      "execution_count": null,
      "id": "d565ef07",
      "metadata": {
        "id": "d565ef07"
      },
      "outputs": [],
      "source": []
    }
  ],
  "metadata": {
    "kernelspec": {
      "display_name": "Python 3 (ipykernel)",
      "language": "python",
      "name": "python3"
    },
    "language_info": {
      "codemirror_mode": {
        "name": "ipython",
        "version": 3
      },
      "file_extension": ".py",
      "mimetype": "text/x-python",
      "name": "python",
      "nbconvert_exporter": "python",
      "pygments_lexer": "ipython3",
      "version": "3.9.7"
    },
    "colab": {
      "provenance": [],
      "include_colab_link": true
    }
  },
  "nbformat": 4,
  "nbformat_minor": 5
}