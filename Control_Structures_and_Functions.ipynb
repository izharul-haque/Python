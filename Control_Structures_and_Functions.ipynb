{
  "cells": [
    {
      "cell_type": "markdown",
      "metadata": {
        "id": "view-in-github",
        "colab_type": "text"
      },
      "source": [
        "<a href=\"https://colab.research.google.com/github/izharul-haque/Python-Refresher/blob/main/Control_Structures_and_Functions.ipynb\" target=\"_parent\"><img src=\"https://colab.research.google.com/assets/colab-badge.svg\" alt=\"Open In Colab\"/></a>"
      ]
    },
    {
      "cell_type": "markdown",
      "metadata": {
        "id": "VYHYWILh_QR_"
      },
      "source": [
        "# Control Structures and Functions\n",
        "Control structures are the essence of programming; they help computers do what they do best: automate repetitive tasks intelligently. The most common control structures are if-else statements, for and while loops, and list and dictionary comprehensions. This session will cover all these concepts."
      ]
    },
    {
      "cell_type": "markdown",
      "metadata": {
        "id": "8b4dnOz__g7J"
      },
      "source": [
        "### If statements\n",
        "\"IF\" statements are imperative in Python and they help us build programs that could make decisions based on a specified condition\n",
        "\n",
        "\n",
        "*   If I am tired, I'll go to bed\n",
        "\n",
        "*   If I am hungry, I'll order food\n",
        "\n",
        "Notice all these applications start with the word 'IF' and that is the first way we are going to control our applications.\n",
        "\n",
        "And before writing down a code to mimic a decision, let us first look at the relational operators that would help us test or define some kind of relation between two entities.\n",
        "\n",
        "Relational operators are used to test equality or inequality of a condition and that condition might change based on your preference.\n",
        "\n",
        "```\n",
        "Example -\n",
        "If its raining == True:\n",
        "  I'll get an umbrella\n",
        "\n",
        "```\n",
        "\n",
        "\n",
        "\n",
        "\n",
        "\n",
        "\n",
        "\n"
      ]
    },
    {
      "cell_type": "markdown",
      "metadata": {
        "id": "f4WSUQ-w3iuJ"
      },
      "source": [
        "<h2 style = \"color:Brown\"> Relational Operators</h2>\n",
        "\n",
        "- Compares the values on either side of the operator and returns and boolean value as True or False."
      ]
    },
    {
      "cell_type": "markdown",
      "metadata": {
        "id": "Gps_yrgv3iuL"
      },
      "source": [
        "#### Double equal to operator"
      ]
    },
    {
      "cell_type": "code",
      "execution_count": 1,
      "metadata": {
        "colab": {
          "base_uri": "https://localhost:8080/"
        },
        "id": "A5Z1SNdU3iuN",
        "outputId": "9d428ebc-c081-4f50-c3ac-83208ee236f3"
      },
      "outputs": [
        {
          "output_type": "execute_result",
          "data": {
            "text/plain": [
              "True"
            ]
          },
          "metadata": {},
          "execution_count": 1
        }
      ],
      "source": [
        "10 == 10"
      ]
    },
    {
      "cell_type": "markdown",
      "metadata": {
        "id": "EESTMWWj3iul"
      },
      "source": [
        "<h4 style = \"color:Red\">Note</h3>\n",
        "\n",
        "#####' = ' is an assignment operator; it is used to assign value to a variable on the left.\n",
        "\n",
        "#####'==' is a relational operator; it is used for comparision of equality."
      ]
    },
    {
      "cell_type": "code",
      "execution_count": 2,
      "metadata": {
        "colab": {
          "base_uri": "https://localhost:8080/"
        },
        "id": "-1KfbhEY3iuo",
        "outputId": "0ee482bd-d3cc-4025-a20e-5b5c1d5a5747"
      },
      "outputs": [
        {
          "output_type": "execute_result",
          "data": {
            "text/plain": [
              "False"
            ]
          },
          "metadata": {},
          "execution_count": 2
        }
      ],
      "source": [
        "10 == 5"
      ]
    },
    {
      "cell_type": "markdown",
      "metadata": {
        "id": "5fbw7E9z3iuz"
      },
      "source": [
        "#### Not equal to operator"
      ]
    },
    {
      "cell_type": "code",
      "execution_count": 3,
      "metadata": {
        "colab": {
          "base_uri": "https://localhost:8080/"
        },
        "id": "55-0vgdM3iu0",
        "outputId": "7a16270c-f098-486f-c4ed-2f43b7a45504"
      },
      "outputs": [
        {
          "output_type": "execute_result",
          "data": {
            "text/plain": [
              "True"
            ]
          },
          "metadata": {},
          "execution_count": 3
        }
      ],
      "source": [
        "10 != 5"
      ]
    },
    {
      "cell_type": "markdown",
      "metadata": {
        "id": "V06qe86n3iu7"
      },
      "source": [
        "#### Greater than operator"
      ]
    },
    {
      "cell_type": "code",
      "execution_count": 4,
      "metadata": {
        "colab": {
          "base_uri": "https://localhost:8080/"
        },
        "id": "8c2J3yHa3iu8",
        "outputId": "f973c5b2-ea79-4baa-ba00-df809e219124"
      },
      "outputs": [
        {
          "output_type": "execute_result",
          "data": {
            "text/plain": [
              "True"
            ]
          },
          "metadata": {},
          "execution_count": 4
        }
      ],
      "source": [
        "10 > 5"
      ]
    },
    {
      "cell_type": "markdown",
      "metadata": {
        "id": "uhsbgfZC3ivE"
      },
      "source": [
        "#### Less than operator"
      ]
    },
    {
      "cell_type": "code",
      "execution_count": 5,
      "metadata": {
        "colab": {
          "base_uri": "https://localhost:8080/"
        },
        "id": "HQsCDc2T3ivG",
        "outputId": "dc613261-3962-423f-f205-a7c7770e3f36"
      },
      "outputs": [
        {
          "output_type": "execute_result",
          "data": {
            "text/plain": [
              "False"
            ]
          },
          "metadata": {},
          "execution_count": 5
        }
      ],
      "source": [
        "10 < 5"
      ]
    },
    {
      "cell_type": "markdown",
      "metadata": {
        "id": "TRSrE9Tl3ivL"
      },
      "source": [
        "#### Greater than equal to operator"
      ]
    },
    {
      "cell_type": "code",
      "execution_count": 6,
      "metadata": {
        "colab": {
          "base_uri": "https://localhost:8080/"
        },
        "id": "l0cL7sHQ3ivN",
        "outputId": "398ef87f-7bfc-4bc4-f5d5-55d0e0670c09"
      },
      "outputs": [
        {
          "output_type": "execute_result",
          "data": {
            "text/plain": [
              "False"
            ]
          },
          "metadata": {},
          "execution_count": 6
        }
      ],
      "source": [
        "10 <= 5"
      ]
    },
    {
      "cell_type": "markdown",
      "metadata": {
        "id": "6Xy2aGJP3ivh"
      },
      "source": [
        "#### Less than equal to operator"
      ]
    },
    {
      "cell_type": "code",
      "execution_count": 7,
      "metadata": {
        "colab": {
          "base_uri": "https://localhost:8080/"
        },
        "id": "zRkIc8Xe3ivj",
        "outputId": "3836e87e-d5c8-4a3a-bdb2-7bad698e3627"
      },
      "outputs": [
        {
          "output_type": "execute_result",
          "data": {
            "text/plain": [
              "True"
            ]
          },
          "metadata": {},
          "execution_count": 7
        }
      ],
      "source": [
        "10 >= 5"
      ]
    },
    {
      "cell_type": "markdown",
      "metadata": {
        "id": "BbXHSZ1M3ivm"
      },
      "source": [
        "<h2 style = \"color:Brown\">Decision Making"
      ]
    },
    {
      "cell_type": "markdown",
      "metadata": {
        "id": "8p6uKB0lcSoF"
      },
      "source": [
        "Now let's get back to writing a conditional statement with the 'if' condition\n",
        "\n",
        "To do that we would write it 'if' followed by an expression"
      ]
    },
    {
      "cell_type": "markdown",
      "metadata": {
        "id": "KfhONX4H3ivn"
      },
      "source": [
        "#### Write a program to check value in variable x is less than 99"
      ]
    },
    {
      "cell_type": "code",
      "execution_count": 35,
      "metadata": {
        "colab": {
          "base_uri": "https://localhost:8080/"
        },
        "id": "4ZDYkAze3ivo",
        "outputId": "b2b0b7c0-23c1-4911-a564-38f2c7b65807"
      },
      "outputs": [
        {
          "output_type": "stream",
          "name": "stdout",
          "text": [
            "45 is less than 99\n"
          ]
        }
      ],
      "source": [
        "x = 45\n",
        "# x= int(input(\"please enter the number?\"))\n",
        "\n",
        "if x < 99:\n",
        "    print(x, \"is less than 99\")\n",
        "else:\n",
        "    print(x, \"is more than 99\")"
      ]
    },
    {
      "cell_type": "code",
      "execution_count": 9,
      "metadata": {
        "colab": {
          "base_uri": "https://localhost:8080/"
        },
        "id": "l6aIIucEm94-",
        "outputId": "1c81e7d7-a321-4775-9b2e-33f5c1b1869a"
      },
      "outputs": [
        {
          "output_type": "stream",
          "name": "stdout",
          "text": [
            "919  is more than 99\n"
          ]
        }
      ],
      "source": [
        "x = 919\n",
        "\n",
        "if x < 99:\n",
        "    print(x, \"is less than equal to 99\")\n",
        "elif x == 99:\n",
        "    print(x, \"is equal to 99\")\n",
        "else:\n",
        "    print(x, \" is more than 99\") "
      ]
    },
    {
      "cell_type": "markdown",
      "metadata": {
        "id": "B-_K63jpUlnP"
      },
      "source": [
        "## Logical Operators\n",
        "We use logical operators in situations where we have multiple conditions\n",
        "\n",
        "####   AND\n",
        "####   OR\n",
        "####   NOR\n",
        "####   XOR\n",
        "\n",
        "Are some of the common and most widely used logical operators\n",
        "You can learn more about them from this link: https://www.geeksforgeeks.org/logic-gates-in-python/\n",
        "\n"
      ]
    },
    {
      "cell_type": "markdown",
      "metadata": {
        "id": "_3rFgEsl3ivu"
      },
      "source": [
        "#### Write a program to record the age of visitor and allows him to an exclusive children's day party hosted by Mr Obama only if he or she is above 60 years or below 18 years of age"
      ]
    },
    {
      "cell_type": "code",
      "execution_count": 10,
      "metadata": {
        "colab": {
          "base_uri": "https://localhost:8080/"
        },
        "id": "iLt7oLKA3ivv",
        "outputId": "e99588ab-5577-435c-b5d7-b900baf12a70"
      },
      "outputs": [
        {
          "output_type": "stream",
          "name": "stdout",
          "text": [
            "Enter your age : 30\n",
            "Sorry!! you do not fit in the age criteria\n"
          ]
        }
      ],
      "source": [
        "x = int(input(\"Enter your age : \"))\n",
        "\n",
        "if x <= 18 or x >= 60 :\n",
        "    print(\"Welcome to Party!!\")\n",
        "else:\n",
        "    print(\"Sorry!! you do not fit in the age criteria\")"
      ]
    },
    {
      "cell_type": "markdown",
      "metadata": {
        "id": "9hzS6trQ3ivy"
      },
      "source": [
        "#### Write a program which offers various discounts based on purchase bills"
      ]
    },
    {
      "cell_type": "code",
      "execution_count": 11,
      "metadata": {
        "colab": {
          "base_uri": "https://localhost:8080/"
        },
        "id": "dsV8l-O_3iv2",
        "outputId": "87e4f556-0e20-420a-84aa-506b54b8fb0f"
      },
      "outputs": [
        {
          "output_type": "stream",
          "name": "stdout",
          "text": [
            "You won a discount voucher of flat 1000 on next purchase\n"
          ]
        }
      ],
      "source": [
        "shoppinng_total = 550\n",
        "\n",
        "if shoppinng_total >= 500:\n",
        "    print(\"You won a discount voucher of flat 1000 on next purchase\")\n",
        "elif shoppinng_total >= 250:\n",
        "    print(\"You won a discount voucher of flat 500 on next purchase\")\n",
        "elif shoppinng_total >= 100:\n",
        "    print(\"You won a discount voucher of flat 100 on next purchase\")    \n",
        "else:\n",
        "    print(\"OOPS!! no discount for you!!!\")"
      ]
    },
    {
      "cell_type": "markdown",
      "metadata": {
        "id": "3eUbaeYR3iv9"
      },
      "source": [
        "#### Example on nested if-else"
      ]
    },
    {
      "cell_type": "code",
      "execution_count": 38,
      "metadata": {
        "colab": {
          "base_uri": "https://localhost:8080/"
        },
        "id": "CE2giXPg3iv-",
        "outputId": "10c1679c-1eab-4382-e986-853b8eee62fe"
      },
      "outputs": [
        {
          "output_type": "stream",
          "name": "stdout",
          "text": [
            "Enter year to check New Zealand made it to Finals in 20th century : 2004\n",
            "World cup wasn't played in 2004\n"
          ]
        }
      ],
      "source": [
        "world_cups = {2019 : ['England', 'New Zealand'], 2015:[\"Australia\", \"New Zealand\"], 2011 : [\"India\", \"Sri Lanka\"], 2007: [\"Australia\", \"Sri Lanka\"], 2003: [\"Australia\", \"India\"]}\n",
        "\n",
        "year = int(input(\"Enter year to check New Zealand made it to Finals in 20th century : \"))\n",
        "\n",
        "if year in world_cups :\n",
        "    if \"New Zealand\" in world_cups[year] :\n",
        "        print(\"New Zealand made it to Finals\")\n",
        "    else:\n",
        "        print(\"New Zealand could not make it to Finals\")\n",
        "        \n",
        "else:\n",
        "    print(\"World cup wasn't played in\", year)\n"
      ]
    },
    {
      "cell_type": "markdown",
      "metadata": {
        "id": "5tqQiXz03iwC"
      },
      "source": [
        "<h2 style = \"color:Brown\">Loops and Iterations\n"
      ]
    },
    {
      "cell_type": "markdown",
      "metadata": {
        "id": "IAgap-5oyzJk"
      },
      "source": [
        "Let’s look at a small example where you have a person’s income and expense data across five months in the form of a list, and you want to compute his savings across these five months. You may be thinking of doing this manually by taking the first elements from the two lists and subtracting them, then again taking the second elements and subtracting, and so on. This may look simple, but let’s say it is across 10 or 20 years. Would you do the same? \n",
        "\n",
        " \n",
        "\n",
        "This is where the concept of iteration comes in handy, as you are repeating the same operation multiple times. With this in mind, let’s learn more about it."
      ]
    },
    {
      "cell_type": "markdown",
      "metadata": {
        "id": "-Cx71ieozcRb"
      },
      "source": [
        "Let's start with a simple 'While' loop - \n",
        "##### A while loop begins with a keyword 'While' followed by an expression \n",
        "##### So While this condition is satisfied keep running the loop"
      ]
    },
    {
      "cell_type": "code",
      "execution_count": 13,
      "metadata": {
        "colab": {
          "base_uri": "https://localhost:8080/"
        },
        "id": "zjDKltm_0_wQ",
        "outputId": "3de8473b-c8e5-4f3e-cb50-631a42c936e1"
      },
      "outputs": [
        {
          "output_type": "stream",
          "name": "stdout",
          "text": [
            "Enter your four digit pin: 1111\n",
            "Invalid input, please try again: 1234\n",
            "Pin validation successful.\n"
          ]
        }
      ],
      "source": [
        "# Let's create a pin checker which we generally have in our phones or ATMs\n",
        "pin = input(\"Enter your four digit pin: \")\n",
        "while pin != '1234':\n",
        "    pin = input('Invalid input, please try again: ')  \n",
        "print(\"Pin validation successful.\")"
      ]
    },
    {
      "cell_type": "code",
      "execution_count": 14,
      "metadata": {
        "colab": {
          "base_uri": "https://localhost:8080/"
        },
        "id": "FgRx4FMl2-dI",
        "outputId": "5142bf9b-03df-4147-dfaf-3fa0c9475158"
      },
      "outputs": [
        {
          "output_type": "stream",
          "name": "stdout",
          "text": [
            "Enter your four digit pin: 1234\n",
            "Pin validation successful.\n"
          ]
        }
      ],
      "source": [
        "# Now if we want to add a maximum number of tries allowed condition we'll use the if loop\n",
        "\n",
        "import sys    #required for exiting the code and displaying an error\n",
        "\n",
        "pin = input(\"Enter your four digit pin: \")\n",
        "attempt_count = 1\n",
        "while pin != '1234':\n",
        "    if attempt_count >= 3:\n",
        "     sys.exit(\"Too many invalid attempts\")   #error code\n",
        "    pin = input('Invalid input, please try again: ')  \n",
        "    attempt_count += 1\n",
        "print(\"Pin validation successful.\")"
      ]
    },
    {
      "cell_type": "code",
      "execution_count": 15,
      "metadata": {
        "colab": {
          "base_uri": "https://localhost:8080/"
        },
        "id": "UkSzDrOZ3iwD",
        "outputId": "a3c83116-f154-4e2a-cf7a-9351baf91e9e"
      },
      "outputs": [
        {
          "output_type": "stream",
          "name": "stdout",
          "text": [
            "1\n",
            "3\n",
            "4\n",
            "2\n",
            "5\n",
            "6\n"
          ]
        }
      ],
      "source": [
        "# iterate over list of integers\n",
        "\n",
        "l = [1,3,4,2,5,6]\n",
        "for i in l : \n",
        "    print(i)"
      ]
    },
    {
      "cell_type": "code",
      "execution_count": 16,
      "metadata": {
        "colab": {
          "base_uri": "https://localhost:8080/"
        },
        "id": "lfc9wsgq3iwK",
        "outputId": "211b820a-c5dc-486f-b12a-e4fbb487dfb1"
      },
      "outputs": [
        {
          "output_type": "stream",
          "name": "stdout",
          "text": [
            "N\n",
            "e\n",
            "w\n",
            " \n",
            "Y\n",
            "o\n",
            "r\n",
            "k\n"
          ]
        }
      ],
      "source": [
        "# iterate over a string\n",
        "\n",
        "string = \"New York\"\n",
        "for ch in string:\n",
        "    print(ch)"
      ]
    },
    {
      "cell_type": "code",
      "execution_count": 17,
      "metadata": {
        "colab": {
          "base_uri": "https://localhost:8080/"
        },
        "id": "9x7XZeZR3iwT",
        "outputId": "89b78c7e-bc0d-4e29-80e7-6371721d186f"
      },
      "outputs": [
        {
          "output_type": "stream",
          "name": "stdout",
          "text": [
            "N:e:w: :Y:o:r:k:"
          ]
        }
      ],
      "source": [
        "# iterate over a string - modify print using end\n",
        "\n",
        "string = \"New York\"\n",
        "for ch in string:\n",
        "    print(ch, end = \":\") # default value of end = \"\\n\""
      ]
    },
    {
      "cell_type": "code",
      "execution_count": 18,
      "metadata": {
        "colab": {
          "base_uri": "https://localhost:8080/"
        },
        "id": "duDv2EGB3iwX",
        "outputId": "c4ade3dc-eb34-4151-a5ca-5a6bd1604d2a"
      },
      "outputs": [
        {
          "output_type": "stream",
          "name": "stdout",
          "text": [
            "1 ['Sam', 24]\n",
            "2 ['Rob', 25]\n",
            "3 ['Jack', 26]\n",
            "4 ['Cornor', 24]\n",
            "5 ['Trump', 27]\n"
          ]
        }
      ],
      "source": [
        "# iterating over a dictionary\n",
        "\n",
        "students_data = {1:['Sam', 24] , 2:['Rob',25], 3:['Jack', 26], 4:['Cornor',24], 5:['Trump',27]}\n",
        "for key, val in students_data.items():\n",
        "    print(key, val)"
      ]
    },
    {
      "cell_type": "code",
      "execution_count": 19,
      "metadata": {
        "colab": {
          "base_uri": "https://localhost:8080/"
        },
        "id": "LW6SLLMI3iwf",
        "outputId": "0c3f333a-f822-4335-8544-2f6b4abce546"
      },
      "outputs": [
        {
          "output_type": "stream",
          "name": "stdout",
          "text": [
            "1\n",
            "2\n",
            "3\n",
            "4\n",
            "5\n"
          ]
        }
      ],
      "source": [
        "# iterate over keys of a dictionary\n",
        "for key in students_data.keys():\n",
        "    print(key)"
      ]
    },
    {
      "cell_type": "code",
      "execution_count": 20,
      "metadata": {
        "colab": {
          "base_uri": "https://localhost:8080/"
        },
        "id": "1TGQErz23iwk",
        "outputId": "c07f80b5-ac95-43bc-faf6-b69745547e9f"
      },
      "outputs": [
        {
          "output_type": "execute_result",
          "data": {
            "text/plain": [
              "range(1, 101)"
            ]
          },
          "metadata": {},
          "execution_count": 20
        }
      ],
      "source": [
        "# Generate range of values.\n",
        "range(1, 101)"
      ]
    },
    {
      "cell_type": "code",
      "execution_count": 21,
      "metadata": {
        "colab": {
          "base_uri": "https://localhost:8080/"
        },
        "id": "UZsdmFak3iwr",
        "outputId": "1dc4b044-9c3a-40d7-dc94-8313ed9684f9"
      },
      "outputs": [
        {
          "output_type": "execute_result",
          "data": {
            "text/plain": [
              "[1,\n",
              " 2,\n",
              " 3,\n",
              " 4,\n",
              " 5,\n",
              " 6,\n",
              " 7,\n",
              " 8,\n",
              " 9,\n",
              " 10,\n",
              " 11,\n",
              " 12,\n",
              " 13,\n",
              " 14,\n",
              " 15,\n",
              " 16,\n",
              " 17,\n",
              " 18,\n",
              " 19,\n",
              " 20,\n",
              " 21,\n",
              " 22,\n",
              " 23,\n",
              " 24,\n",
              " 25,\n",
              " 26,\n",
              " 27,\n",
              " 28,\n",
              " 29,\n",
              " 30,\n",
              " 31,\n",
              " 32,\n",
              " 33,\n",
              " 34,\n",
              " 35,\n",
              " 36,\n",
              " 37,\n",
              " 38,\n",
              " 39,\n",
              " 40,\n",
              " 41,\n",
              " 42,\n",
              " 43,\n",
              " 44,\n",
              " 45,\n",
              " 46,\n",
              " 47,\n",
              " 48,\n",
              " 49,\n",
              " 50,\n",
              " 51,\n",
              " 52,\n",
              " 53,\n",
              " 54,\n",
              " 55,\n",
              " 56,\n",
              " 57,\n",
              " 58,\n",
              " 59,\n",
              " 60,\n",
              " 61,\n",
              " 62,\n",
              " 63,\n",
              " 64,\n",
              " 65,\n",
              " 66,\n",
              " 67,\n",
              " 68,\n",
              " 69,\n",
              " 70,\n",
              " 71,\n",
              " 72,\n",
              " 73,\n",
              " 74,\n",
              " 75,\n",
              " 76,\n",
              " 77,\n",
              " 78,\n",
              " 79,\n",
              " 80,\n",
              " 81,\n",
              " 82,\n",
              " 83,\n",
              " 84,\n",
              " 85,\n",
              " 86,\n",
              " 87,\n",
              " 88,\n",
              " 89,\n",
              " 90,\n",
              " 91,\n",
              " 92,\n",
              " 93,\n",
              " 94,\n",
              " 95,\n",
              " 96,\n",
              " 97,\n",
              " 98,\n",
              " 99,\n",
              " 100]"
            ]
          },
          "metadata": {},
          "execution_count": 21
        }
      ],
      "source": [
        "l = list(range(1,101))\n",
        "l"
      ]
    },
    {
      "cell_type": "code",
      "execution_count": 22,
      "metadata": {
        "colab": {
          "base_uri": "https://localhost:8080/"
        },
        "id": "SUy2Ac_u3iww",
        "outputId": "951bd7ca-fd60-4807-8db3-285480a61b68"
      },
      "outputs": [
        {
          "output_type": "stream",
          "name": "stdout",
          "text": [
            "1 2 3 4 5 6 7 8 9 10 11 12 13 14 15 16 17 18 19 20 21 22 23 24 25 26 27 28 29 30 31 32 33 34 35 36 37 38 39 40 41 42 43 44 45 46 47 48 49 50 51 52 53 54 55 56 57 58 59 60 61 62 63 64 65 66 67 68 69 70 71 72 73 74 75 76 77 78 79 80 81 82 83 84 85 86 87 88 89 90 91 92 93 94 95 96 97 98 99 100 "
          ]
        }
      ],
      "source": [
        "# Iterate over range of values\n",
        "\n",
        "for i in range(1, 101):\n",
        "    print(i, end = \" \")"
      ]
    },
    {
      "cell_type": "code",
      "execution_count": 23,
      "metadata": {
        "colab": {
          "base_uri": "https://localhost:8080/"
        },
        "id": "64kf2bNG3iw0",
        "outputId": "e2b0f15a-7269-460e-8f39-bdc643d7f71b"
      },
      "outputs": [
        {
          "output_type": "stream",
          "name": "stdout",
          "text": [
            "[1, 3, 5, 7, 9, 11, 13, 15, 17, 19, 21, 23, 25, 27, 29, 31, 33, 35, 37, 39, 41, 43, 45, 47, 49, 51, 53, 55, 57, 59, 61, 63, 65, 67, 69, 71, 73, 75, 77, 79, 81, 83, 85, 87, 89, 91, 93, 95, 97, 99]\n",
            "[100, 99, 98, 97, 96, 95, 94, 93, 92, 91, 90, 89, 88, 87, 86, 85, 84, 83, 82, 81, 80, 79, 78, 77, 76, 75, 74, 73, 72, 71, 70, 69, 68, 67, 66, 65, 64, 63, 62, 61, 60, 59, 58, 57, 56, 55, 54, 53, 52, 51, 50, 49, 48, 47, 46, 45, 44, 43, 42, 41, 40, 39, 38, 37, 36, 35, 34, 33, 32, 31, 30, 29, 28, 27, 26, 25, 24, 23, 22, 21, 20, 19, 18, 17, 16, 15, 14, 13, 12, 11, 10, 9, 8, 7, 6, 5, 4, 3, 2, 1]\n"
          ]
        }
      ],
      "source": [
        "# different variations in range\n",
        "\n",
        "print(list(range(1, 100, 2) ))# gives numbers from 1 to 100 with a step count of 2\n",
        "print(list(range(100, 0, -1))) # gives a reversed sequence of numbers from 100 to 1"
      ]
    },
    {
      "cell_type": "markdown",
      "metadata": {
        "id": "IkvsCbO03iw4"
      },
      "source": [
        "#### Ex. Write a program to print prime numbers between 1 to 20"
      ]
    },
    {
      "cell_type": "code",
      "execution_count": 24,
      "metadata": {
        "colab": {
          "base_uri": "https://localhost:8080/"
        },
        "id": "1MX9b5vR3iw5",
        "outputId": "11fbf000-0bc1-4562-8655-3c56a455e41a"
      },
      "outputs": [
        {
          "output_type": "stream",
          "name": "stdout",
          "text": [
            "1\n",
            "2\n",
            "3\n",
            "5\n",
            "7\n",
            "11\n",
            "13\n",
            "17\n",
            "19\n"
          ]
        }
      ],
      "source": [
        "for n in range(1, 20):\n",
        "    flag = True\n",
        "    for i in range(2, n):\n",
        "        if n % i == 0:\n",
        "            flag = False\n",
        "            break   \n",
        "    if flag :\n",
        "        print(n)"
      ]
    },
    {
      "cell_type": "markdown",
      "metadata": {
        "id": "l2HAhe0H3ixL"
      },
      "source": [
        "<h2 style = \"color:Brown\">Comprehensions"
      ]
    },
    {
      "cell_type": "code",
      "execution_count": 25,
      "metadata": {
        "colab": {
          "base_uri": "https://localhost:8080/"
        },
        "id": "q4QFdX0Q3ixN",
        "outputId": "b6dd305a-8871-48f5-e6e6-6fb806a8a8e7"
      },
      "outputs": [
        {
          "output_type": "execute_result",
          "data": {
            "text/plain": [
              "[11, 5, 4, 6, 14]"
            ]
          },
          "metadata": {},
          "execution_count": 25
        }
      ],
      "source": [
        "l1 = [\"automobiles\", \"Honda\", \"Benz\", \"Suzuki\", \"Morris Garages\" ]\n",
        "\n",
        "l2 = []\n",
        "\n",
        "for i in l1 :\n",
        "    l2.append(len(i))\n",
        "    \n",
        "l2 "
      ]
    },
    {
      "cell_type": "markdown",
      "metadata": {
        "id": "iT-0Q4eE3ixR"
      },
      "source": [
        "#### The Functional Approach"
      ]
    },
    {
      "cell_type": "code",
      "execution_count": 26,
      "metadata": {
        "colab": {
          "base_uri": "https://localhost:8080/"
        },
        "id": "xUShDG1-3ixS",
        "outputId": "462358ba-e0e6-4bad-a586-30ff9e2e1377"
      },
      "outputs": [
        {
          "output_type": "stream",
          "name": "stdout",
          "text": [
            "[11, 5, 4, 6, 14]\n"
          ]
        }
      ],
      "source": [
        "# Example on list comprehension\n",
        "\n",
        "l1 = [\"automobiles\", \"Honda\", \"Benz\", \"Suzuki\", \"Morris Garages\" ]\n",
        "\n",
        "# Create a list consisting of length of each element from the above list\n",
        "\n",
        "l2 = [len(i) for i in l1]\n",
        "\n",
        "print(l2)"
      ]
    },
    {
      "cell_type": "code",
      "execution_count": 27,
      "metadata": {
        "colab": {
          "base_uri": "https://localhost:8080/"
        },
        "id": "VJgNB5f43ixc",
        "outputId": "d08407f1-953c-4d7e-9527-bf9afd5f791d"
      },
      "outputs": [
        {
          "output_type": "stream",
          "name": "stdout",
          "text": [
            "automobiles  -  11\n",
            "Honda  -  5\n",
            "Benz  -  4\n",
            "Suzuki  -  6\n",
            "Morris Garages  -  14\n"
          ]
        }
      ],
      "source": [
        "# iterating over l1 and l2 simultaneously\n",
        "\n",
        "for i,j in zip(l1,l2):\n",
        "    print(i, \" - \", j)"
      ]
    },
    {
      "cell_type": "markdown",
      "metadata": {
        "id": "iK_zyRqO3ixi"
      },
      "source": [
        "#### Dictionary comprehension"
      ]
    },
    {
      "cell_type": "code",
      "execution_count": 28,
      "metadata": {
        "colab": {
          "base_uri": "https://localhost:8080/"
        },
        "id": "I3h6sW-I3ixj",
        "outputId": "2e7c7b37-4edb-473e-a949-44ec35a2565d"
      },
      "outputs": [
        {
          "output_type": "stream",
          "name": "stdout",
          "text": [
            "{'automobiles': 11, 'Honda': 5, 'Benz': 4, 'Suzuki': 6, 'Morris Garages': 14}\n"
          ]
        }
      ],
      "source": [
        "# Example on dictionary comprehension\n",
        "\n",
        "l1 = [\"automobiles\", \"Honda\", \"Benz\", \"Suzuki\", \"Morris Garages\" ]\n",
        "\n",
        "# Create a dictionary consisting of element and length of each element from the above list\n",
        "\n",
        "d = {i : len(i) for i in l1}\n",
        "\n",
        "print(d)"
      ]
    },
    {
      "cell_type": "markdown",
      "metadata": {
        "id": "yQ_-6lEg3ixs"
      },
      "source": [
        "#### Set Comprehensions\n",
        "\n",
        "#### Ex . Write a program which takes a word as input from user and returns vowels from the word"
      ]
    },
    {
      "cell_type": "code",
      "execution_count": 29,
      "metadata": {
        "colab": {
          "base_uri": "https://localhost:8080/"
        },
        "id": "cydGA87j3ixu",
        "outputId": "3b59b668-4a67-4731-ca73-5b2186ab64a3"
      },
      "outputs": [
        {
          "name": "stdout",
          "output_type": "stream",
          "text": [
            "Enter a word : fake\n"
          ]
        },
        {
          "output_type": "execute_result",
          "data": {
            "text/plain": [
              "{'a', 'e'}"
            ]
          },
          "metadata": {},
          "execution_count": 29
        }
      ],
      "source": [
        "word = input(\"Enter a word : \")\n",
        "vowels = {i for i in word if i in \"aeiou\"}\n",
        "vowels"
      ]
    },
    {
      "cell_type": "markdown",
      "metadata": {
        "id": "YU9T02GC3ix5"
      },
      "source": [
        "<h2 style = \"color:Brown\">Functions</h2>\n",
        "\n",
        "#### Ex. Write a function which takes a value as a parameter and returns its factorial"
      ]
    },
    {
      "cell_type": "code",
      "execution_count": 30,
      "metadata": {
        "colab": {
          "base_uri": "https://localhost:8080/"
        },
        "id": "_BLzz8K_3ix6",
        "outputId": "2eb45751-e121-4069-b6af-dc9b149e0b78"
      },
      "outputs": [
        {
          "output_type": "execute_result",
          "data": {
            "text/plain": [
              "120"
            ]
          },
          "metadata": {},
          "execution_count": 30
        }
      ],
      "source": [
        "def factorial(n):\n",
        "    \n",
        "    fact = 1\n",
        "    \n",
        "    for i in range(1, n+1):\n",
        "        fact *= i\n",
        "    \n",
        "    return fact\n",
        "\n",
        "factorial(5)"
      ]
    },
    {
      "cell_type": "code",
      "execution_count": 31,
      "metadata": {
        "colab": {
          "base_uri": "https://localhost:8080/",
          "height": 171
        },
        "id": "9WzZPKob3iyA",
        "outputId": "e6635151-7007-47d7-a6cd-9bc071ccfad0"
      },
      "outputs": [
        {
          "output_type": "error",
          "ename": "TypeError",
          "evalue": "ignored",
          "traceback": [
            "\u001b[0;31m---------------------------------------------------------------------------\u001b[0m",
            "\u001b[0;31mTypeError\u001b[0m                                 Traceback (most recent call last)",
            "\u001b[0;32m<ipython-input-31-46dc121ebbf1>\u001b[0m in \u001b[0;36m<module>\u001b[0;34m\u001b[0m\n\u001b[0;32m----> 1\u001b[0;31m \u001b[0mfactorial\u001b[0m\u001b[0;34m(\u001b[0m\u001b[0;34m)\u001b[0m\u001b[0;34m\u001b[0m\u001b[0;34m\u001b[0m\u001b[0m\n\u001b[0m",
            "\u001b[0;31mTypeError\u001b[0m: factorial() missing 1 required positional argument: 'n'"
          ]
        }
      ],
      "source": [
        "factorial()"
      ]
    },
    {
      "cell_type": "markdown",
      "metadata": {
        "id": "j4eld4EW3iyO"
      },
      "source": [
        "#### Function Arguments"
      ]
    },
    {
      "cell_type": "code",
      "execution_count": null,
      "metadata": {
        "id": "TBrV-SMN3iyQ"
      },
      "outputs": [],
      "source": [
        "def func(name, age = 35):  # default parameter\n",
        "    print(\"name : \", name)\n",
        "    print(\"age : \", age)"
      ]
    },
    {
      "cell_type": "code",
      "execution_count": null,
      "metadata": {
        "id": "Kjhs3xXB3iya"
      },
      "outputs": [],
      "source": [
        "func(\"Jane\", 25)"
      ]
    },
    {
      "cell_type": "code",
      "execution_count": null,
      "metadata": {
        "id": "gcFhQfK63iyg"
      },
      "outputs": [],
      "source": [
        "func(\"Jane\")"
      ]
    },
    {
      "cell_type": "code",
      "execution_count": null,
      "metadata": {
        "id": "-ru45WBK3iym"
      },
      "outputs": [],
      "source": [
        "def func(name, age = 35, city = \"New York\"):\n",
        "    print(\"name : \", name)\n",
        "    print(\"age : \", age)\n",
        "    print(\"city : \", city)\n",
        "    \n",
        "func(\"Jane\", city = \"Seattle\") # key-word argument"
      ]
    },
    {
      "cell_type": "code",
      "execution_count": null,
      "metadata": {
        "id": "3GQBDj2c3iys"
      },
      "outputs": [],
      "source": [
        "def var_func(*args):\n",
        "    print(args)\n",
        "    \n",
        "var_func(1,3,\"abc\") # variable-length argument"
      ]
    },
    {
      "cell_type": "markdown",
      "metadata": {
        "id": "a8Wi284I3iy0"
      },
      "source": [
        "<h2 style = \"color:Brown\"> Lambda Function"
      ]
    },
    {
      "cell_type": "code",
      "execution_count": null,
      "metadata": {
        "id": "ma5T10Ms3iy4"
      },
      "outputs": [],
      "source": [
        "# Write a lambda function to check a number is even or odd\n",
        "\n",
        "f = lambda x: \"even\" if x % 2 == 0 else \"odd\"\n",
        "\n",
        "f(10)"
      ]
    },
    {
      "cell_type": "markdown",
      "metadata": {
        "id": "uE3EmGA03izN"
      },
      "source": [
        "<h2 style = \"color:Brown\">map - filter - reduce"
      ]
    },
    {
      "cell_type": "markdown",
      "metadata": {
        "id": "InpYMIOS3izQ"
      },
      "source": [
        "#### Some more examples on map - filter - reduce"
      ]
    },
    {
      "cell_type": "code",
      "execution_count": null,
      "metadata": {
        "id": "W8koNAG93izR"
      },
      "outputs": [],
      "source": [
        "L1 = [2,4,5]\n",
        "print(map(lambda x: x**2, L1))\n",
        "print(list(map(lambda x: x**2, L1)))"
      ]
    },
    {
      "cell_type": "markdown",
      "metadata": {
        "id": "LGwFbuqB3izb"
      },
      "source": [
        "#### Defining a function and using it in map"
      ]
    },
    {
      "cell_type": "code",
      "execution_count": null,
      "metadata": {
        "id": "dp-JDMou3izc"
      },
      "outputs": [],
      "source": [
        "L1 = [2,4,5]\n",
        "def squareit(n):\n",
        "    return n**2\n",
        "\n",
        "print(list(map(squareit, L1)))"
      ]
    },
    {
      "cell_type": "markdown",
      "metadata": {
        "id": "KFDLcV613izj"
      },
      "source": [
        "#### Filter function to return the multiples of 3 "
      ]
    },
    {
      "cell_type": "code",
      "execution_count": null,
      "metadata": {
        "id": "exVB0r-D3izm"
      },
      "outputs": [],
      "source": [
        "my_list = [3,4,5,6,7,8,9]\n",
        "\n",
        "divby3 = lambda x:  x % 3 == 0\n",
        "\n",
        "div = filter(divby3, my_list)\n",
        "print(list(div))\n"
      ]
    },
    {
      "cell_type": "markdown",
      "metadata": {
        "id": "OkOrezsB3izr"
      },
      "source": [
        "#### Ex. Write a python program to count the students above age 18"
      ]
    },
    {
      "cell_type": "code",
      "execution_count": null,
      "metadata": {
        "id": "smQD9y3U3iz0"
      },
      "outputs": [],
      "source": [
        "students_data = {1:['Sam', 15] , 2:['Rob',18], 3:['Kyle', 16], 4:['Cornor',19], 5:['Trump',20]}\n",
        "\n",
        "len(list(filter(lambda x : x[1] > 18, students_data.values())))"
      ]
    },
    {
      "cell_type": "markdown",
      "metadata": {
        "id": "Bg9TKPmO3iz7"
      },
      "source": [
        "#### Reduce to return product of elements"
      ]
    },
    {
      "cell_type": "code",
      "execution_count": null,
      "metadata": {
        "id": "UWwryD4z3iz-"
      },
      "outputs": [],
      "source": [
        "from functools import reduce\n",
        "\n",
        "q  = reduce(lambda x, y: x*y, range(1,4))\n",
        "\n",
        "print(q)"
      ]
    }
  ],
  "metadata": {
    "colab": {
      "collapsed_sections": [],
      "provenance": [],
      "include_colab_link": true
    },
    "kernelspec": {
      "display_name": "Python 3",
      "language": "python",
      "name": "python3"
    },
    "language_info": {
      "codemirror_mode": {
        "name": "ipython",
        "version": 3
      },
      "file_extension": ".py",
      "mimetype": "text/x-python",
      "name": "python",
      "nbconvert_exporter": "python",
      "pygments_lexer": "ipython3",
      "version": "3.7.4"
    }
  },
  "nbformat": 4,
  "nbformat_minor": 0
}