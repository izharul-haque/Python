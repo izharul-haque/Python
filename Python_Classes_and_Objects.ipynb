{
  "cells": [
    {
      "cell_type": "markdown",
      "metadata": {
        "id": "view-in-github",
        "colab_type": "text"
      },
      "source": [
        "<a href=\"https://colab.research.google.com/github/izharul-haque/Python/blob/main/Python_Classes_and_Objects.ipynb\" target=\"_parent\"><img src=\"https://colab.research.google.com/assets/colab-badge.svg\" alt=\"Open In Colab\"/></a>"
      ]
    },
    {
      "cell_type": "markdown",
      "id": "6cad2d9d",
      "metadata": {
        "id": "6cad2d9d"
      },
      "source": [
        "## Desgin Pattern Python\n",
        "\n",
        "•\tDeeper understanding of Object-Oriented Programming\n",
        "\n",
        "•\tLearn Python Concepts: ABCMeta, Exception Handling, Lists, Dictionaries, Tuples, Sets, id, Dunder Attributes and Methods, Time, Decimal, *Args and more.\n",
        "\n",
        "•\tCreational, Structural & Behavioral Python design patterns implementation & understanding \n",
        "\n",
        "•\tLearn Quality Software Design Standards using Pep8, Pylint and MyPy"
      ]
    },
    {
      "cell_type": "markdown",
      "id": "45b9df99",
      "metadata": {
        "id": "45b9df99"
      },
      "source": [
        "## What are Classes and Objects?\n",
        "\n",
        "A class is a user-defined blueprint or prototype from which objects are created. Classes provide a means of bundling data and functionality together\n",
        "\n",
        "\n",
        "Well, it logically groups the data in such a way that code reusability becomes easy. Let's take can real-life example- think of an office going ’employee’ as a class and all the attributes related to it like ’emp_name’, ’emp_age’, ’emp_salary’, ’emp_id’ as the objects in Python. Let us see from the coding perspective that how do you instantiate a class and an object.\n",
        "\n",
        "\n",
        "Class is defined under a “Class” Keyword."
      ]
    },
    {
      "cell_type": "code",
      "execution_count": null,
      "id": "10d9739d",
      "metadata": {
        "id": "10d9739d"
      },
      "outputs": [],
      "source": [
        "class class1(): // class 1 is the name of the class"
      ]
    },
    {
      "cell_type": "code",
      "execution_count": null,
      "id": "8d44f8e8",
      "metadata": {
        "id": "8d44f8e8"
      },
      "outputs": [],
      "source": [
        "class ClassName:\n",
        "    # Statement\n",
        "    \n",
        "obj = ClassName()\n",
        "print(obj.atrr)"
      ]
    },
    {
      "cell_type": "markdown",
      "id": "d3bb4d52",
      "metadata": {
        "id": "d3bb4d52"
      },
      "source": [
        "Class creates a user-defined data structure, which holds its own data members and member functions, which can be accessed and used by creating an instance of that class. A class is like a blueprint for an object."
      ]
    },
    {
      "cell_type": "markdown",
      "id": "de963ef7",
      "metadata": {
        "id": "de963ef7"
      },
      "source": [
        "let’s say you wanted to track the number of dogs that may have different attributes like breed, and age."
      ]
    },
    {
      "cell_type": "code",
      "execution_count": null,
      "id": "7c1271a4",
      "metadata": {
        "id": "7c1271a4"
      },
      "outputs": [],
      "source": [
        "# Python3 program to\n",
        "# demonstrate defining\n",
        "# a class\n",
        "\n",
        "\n",
        "class Dog:\n",
        "    pass\n",
        "\n",
        "##In the above example, the class keyword indicates that you are creating a class followed by the name of the class (Dog in this case)."
      ]
    },
    {
      "cell_type": "markdown",
      "id": "14790947",
      "metadata": {
        "id": "14790947"
      },
      "source": [
        "## Class Object\n",
        "\n",
        "An Object is an instance of a Class. A class is like a blueprint while an instance is a copy of the class with actual values. It’s not an idea anymore, it’s an actual dog, like a dog of breed pug who’s seven years old. You can have many dogs to create many different instances, but without the class as a guide, you would be lost, not knowing what information is required.\n",
        "\n",
        "An object consists of : \n",
        "\n",
        "State: It is represented by the attributes of an object. It also reflects the properties of an object.\n",
        "\n",
        "Behaviour: It is represented by the methods of an object. It also reflects the response of an object to other objects.\n",
        "\n",
        "Identity: It gives a unique name to an object and enables one object to interact with other objects."
      ]
    },
    {
      "cell_type": "markdown",
      "id": "851f59dd",
      "metadata": {
        "id": "851f59dd"
      },
      "source": [
        "![link text](https://media.geeksforgeeks.org/wp-content/uploads/Blank-Diagram-Page-1-5.png)"
      ]
    },
    {
      "cell_type": "markdown",
      "id": "0abc6500",
      "metadata": {
        "id": "0abc6500"
      },
      "source": [
        "## Declaring Objects (Also called instantiating a class)\n",
        "\n",
        "\n",
        "\n",
        "When an object of a class is created, the class is said to be instantiated. All the instances share the attributes and the behavior of the class. But the values of those attributes, i.e. the state are unique for each object. A single class may have any number of instances."
      ]
    },
    {
      "cell_type": "markdown",
      "id": "a4fae0c7",
      "metadata": {
        "id": "a4fae0c7"
      },
      "source": [
        "![link text](https://media.geeksforgeeks.org/wp-content/uploads/Blank-Diagram-Page-1-3.png)"
      ]
    },
    {
      "cell_type": "code",
      "execution_count": null,
      "id": "85f605e5",
      "metadata": {
        "id": "85f605e5",
        "outputId": "ba0f28e2-e435-4021-a354-8eebd88df29b"
      },
      "outputs": [
        {
          "name": "stdout",
          "output_type": "stream",
          "text": [
            "mammal\n",
            "I'm a mammal\n",
            "I'm a dog\n"
          ]
        }
      ],
      "source": [
        "# Python3 program to\n",
        "# demonstrate instantiating\n",
        "# a class\n",
        " \n",
        " \n",
        "class Dog:\n",
        " \n",
        "    # A simple class\n",
        "    # attribute\n",
        "    attr1 = \"mammal\"\n",
        "    attr2 = \"dog\"\n",
        " \n",
        "    # A sample method\n",
        "    def fun(self):\n",
        "        print(\"I'm a\", self.attr1)\n",
        "        print(\"I'm a\", self.attr2)\n",
        " \n",
        " \n",
        "# Driver code\n",
        "# Object instantiation\n",
        "Rodger = Dog()\n",
        " \n",
        "# Accessing class attributes\n",
        "# and method through objects\n",
        "print(Rodger.attr1)\n",
        "Rodger.fun()"
      ]
    },
    {
      "cell_type": "markdown",
      "id": "7151045d",
      "metadata": {
        "id": "7151045d"
      },
      "source": [
        "In the above example, an object is created which is basically a dog named Rodger. This class only has two class attributes that tell us that Rodger is a dog and a mammal."
      ]
    },
    {
      "cell_type": "markdown",
      "id": "81528e42",
      "metadata": {
        "id": "81528e42"
      },
      "source": [
        "## The self\n",
        "\n",
        "Class methods must have an extra first parameter in the method definition. We do not give a value for this parameter when we call the method, Python provides it.\n",
        "If we have a method that takes no arguments, we still have one argument.\n",
        "This is similar to this pointer in C++ and this reference in Java.\n",
        "\n",
        "## Constructors\n",
        "\n",
        "Constructors are generally used for instantiating an object. The task of constructors is to initialize(assign values) to the data members of the class when an object of the class is created. In Python the __init__() method is called the constructor and is always called when an object is created."
      ]
    },
    {
      "cell_type": "code",
      "execution_count": null,
      "id": "f982710c",
      "metadata": {
        "id": "f982710c"
      },
      "outputs": [],
      "source": [
        "def __init__(self):\n",
        "    # body of the constructor"
      ]
    },
    {
      "cell_type": "markdown",
      "id": "17804cb6",
      "metadata": {
        "id": "17804cb6"
      },
      "source": [
        "## Types of constructors : \n",
        "\n",
        "\n",
        "Default constructor\n",
        "\n",
        "Parameterized constructor"
      ]
    },
    {
      "cell_type": "markdown",
      "id": "1e0358d1",
      "metadata": {
        "id": "1e0358d1"
      },
      "source": [
        "The default constructor is a simple constructor which doesn’t accept any arguments. Its definition has only one argument which is a reference to the instance being constructed."
      ]
    },
    {
      "cell_type": "code",
      "execution_count": null,
      "id": "ff4f0c3a",
      "metadata": {
        "id": "ff4f0c3a",
        "outputId": "e403b651-8622-47f7-804d-6075ff297d27"
      },
      "outputs": [
        {
          "name": "stdout",
          "output_type": "stream",
          "text": [
            "GeekforGeeks\n"
          ]
        }
      ],
      "source": [
        "class GeekforGeeks:\n",
        " \n",
        "    # default constructor\n",
        "    def __init__(self):\n",
        "        self.geek = \"GeekforGeeks\"\n",
        " \n",
        "    # a method for printing data members\n",
        "    def print_Geek(self):\n",
        "        print(self.geek)\n",
        " \n",
        " \n",
        "# creating object of the class\n",
        "obj = GeekforGeeks()\n",
        " \n",
        "# calling the instance method using the object obj\n",
        "obj.print_Geek()"
      ]
    },
    {
      "cell_type": "markdown",
      "id": "07d5a141",
      "metadata": {
        "id": "07d5a141"
      },
      "source": [
        "Constructor with parameters is known as parameterized constructor. The parameterized constructor takes its first argument as a reference to the instance being constructed known as self and the rest of the arguments are provided by the programmer."
      ]
    },
    {
      "cell_type": "code",
      "execution_count": null,
      "id": "e0dd42a8",
      "metadata": {
        "id": "e0dd42a8",
        "outputId": "dbf1dfdf-7de2-435a-8116-421457782ccc"
      },
      "outputs": [
        {
          "name": "stdout",
          "output_type": "stream",
          "text": [
            "First number = 1000\n",
            "Second number = 2000\n",
            "Addition of two numbers = 3000\n"
          ]
        }
      ],
      "source": [
        "class Addition:\n",
        "    first = 0\n",
        "    second = 0\n",
        "    answer = 0\n",
        "     \n",
        "    # parameterized constructor\n",
        "    def __init__(self, f, s):\n",
        "        self.first = f\n",
        "        self.second = s\n",
        "     \n",
        "    def display(self):\n",
        "        print(\"First number = \" + str(self.first))\n",
        "        print(\"Second number = \" + str(self.second))\n",
        "        print(\"Addition of two numbers = \" + str(self.answer))\n",
        " \n",
        "    def calculate(self):\n",
        "        self.answer = self.first + self.second\n",
        " \n",
        "# creating object of the class\n",
        "# this will invoke parameterized constructor\n",
        "obj = Addition(1000, 2000)\n",
        " \n",
        "# perform Addition\n",
        "obj.calculate()\n",
        " \n",
        "# display result\n",
        "obj.display()"
      ]
    },
    {
      "cell_type": "markdown",
      "id": "2e2f4649",
      "metadata": {
        "id": "2e2f4649"
      },
      "source": [
        "## Class and Instance Variables\n",
        "\n",
        "Instance variables are for data, unique to each instance and class variables are for attributes and methods shared by all instances of the class. Instance variables are variables whose value is assigned inside a constructor or method with self whereas class variables are variables whose value is assigned in the class."
      ]
    },
    {
      "cell_type": "code",
      "execution_count": null,
      "id": "ad026892",
      "metadata": {
        "id": "ad026892",
        "outputId": "436f0543-a6e1-4357-fe55-4937c41e770e"
      },
      "outputs": [
        {
          "name": "stdout",
          "output_type": "stream",
          "text": [
            "Rodger details:\n",
            "Rodger is a dog\n",
            "Breed:  Pug\n",
            "Color:  brown\n",
            "\n",
            "Buzo details:\n",
            "Buzo is a dog\n",
            "Breed:  Bulldog\n",
            "Color:  black\n",
            "\n",
            "Accessing class variable using class name\n",
            "dog\n"
          ]
        }
      ],
      "source": [
        "# Python3 program to show that the variables with a value\n",
        "# assigned in the class declaration, are class variables and\n",
        "# variables inside methods and constructors are instance\n",
        "# variables.\n",
        " \n",
        "# Class for Dog\n",
        " \n",
        " \n",
        "class Dog:\n",
        " \n",
        "    # Class Variable\n",
        "    animal = 'dog'\n",
        " \n",
        "    # The init method or constructor\n",
        "    def __init__(self, breed, color):\n",
        " \n",
        "        # Instance Variable\n",
        "        self.breed = breed\n",
        "        self.color = color\n",
        " \n",
        " \n",
        "# Objects of Dog class\n",
        "Rodger = Dog(\"Pug\", \"brown\")\n",
        "Buzo = Dog(\"Bulldog\", \"black\")\n",
        " \n",
        "print('Rodger details:')\n",
        "print('Rodger is a', Rodger.animal)\n",
        "print('Breed: ', Rodger.breed)\n",
        "print('Color: ', Rodger.color)\n",
        " \n",
        "print('\\nBuzo details:')\n",
        "print('Buzo is a', Buzo.animal)\n",
        "print('Breed: ', Buzo.breed)\n",
        "print('Color: ', Buzo.color)\n",
        " \n",
        "# Class variables can be accessed using class\n",
        "# name also\n",
        "print(\"\\nAccessing class variable using class name\")\n",
        "print(Dog.animal)"
      ]
    },
    {
      "cell_type": "code",
      "execution_count": null,
      "id": "b7b1f465",
      "metadata": {
        "id": "b7b1f465",
        "outputId": "72f21d40-7943-431c-f48b-9f1e512e0d59"
      },
      "outputs": [
        {
          "name": "stdout",
          "output_type": "stream",
          "text": [
            "brown\n"
          ]
        }
      ],
      "source": [
        "# Python3 program to show that we can create\n",
        "# instance variables inside methods\n",
        " \n",
        "# Class for Dog\n",
        " \n",
        " \n",
        "class Dog:\n",
        " \n",
        "    # Class Variable\n",
        "    animal = 'dog'\n",
        " \n",
        "    # The init method or constructor\n",
        "    def __init__(self, breed):\n",
        " \n",
        "        # Instance Variable\n",
        "        self.breed = breed\n",
        " \n",
        "    # Adds an instance variable\n",
        "    def setColor(self, color):\n",
        "        self.color = color\n",
        " \n",
        "    # Retrieves instance variable\n",
        "    def getColor(self):\n",
        "        return self.color\n",
        " \n",
        " \n",
        "# Driver Code\n",
        "Rodger = Dog(\"pug\")\n",
        "Rodger.setColor(\"brown\")\n",
        "print(Rodger.getColor())"
      ]
    },
    {
      "cell_type": "code",
      "execution_count": null,
      "id": "92146502",
      "metadata": {
        "id": "92146502"
      },
      "outputs": [],
      "source": []
    }
  ],
  "metadata": {
    "kernelspec": {
      "display_name": "Python 3 (ipykernel)",
      "language": "python",
      "name": "python3"
    },
    "language_info": {
      "codemirror_mode": {
        "name": "ipython",
        "version": 3
      },
      "file_extension": ".py",
      "mimetype": "text/x-python",
      "name": "python",
      "nbconvert_exporter": "python",
      "pygments_lexer": "ipython3",
      "version": "3.9.7"
    },
    "colab": {
      "provenance": [],
      "include_colab_link": true
    }
  },
  "nbformat": 4,
  "nbformat_minor": 5
}