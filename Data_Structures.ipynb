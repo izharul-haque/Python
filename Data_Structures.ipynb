{
  "cells": [
    {
      "cell_type": "markdown",
      "metadata": {
        "id": "view-in-github",
        "colab_type": "text"
      },
      "source": [
        "<a href=\"https://colab.research.google.com/github/izharul-haque/Python-Refresher/blob/main/Data_Structures.ipynb\" target=\"_parent\"><img src=\"https://colab.research.google.com/assets/colab-badge.svg\" alt=\"Open In Colab\"/></a>"
      ]
    },
    {
      "cell_type": "code",
      "source": [],
      "metadata": {
        "id": "ozhUqZl7VUC7"
      },
      "execution_count": null,
      "outputs": []
    },
    {
      "cell_type": "markdown",
      "source": [
        "# **Data Structures**"
      ],
      "metadata": {
        "id": "PInii2xQ-ryS"
      }
    },
    {
      "cell_type": "markdown",
      "source": [
        "## **List**"
      ],
      "metadata": {
        "id": "VXloPHzJ-w0K"
      }
    },
    {
      "cell_type": "markdown",
      "metadata": {
        "id": "EBR-i0B7H_07"
      },
      "source": [
        "In the last session, we had a look at the String data type which could be used to store character values. Now let's try building an application which records a customer's detail and assign it a unique user id number generated randomly."
      ]
    },
    {
      "cell_type": "code",
      "execution_count": null,
      "metadata": {
        "colab": {
          "base_uri": "https://localhost:8080/"
        },
        "id": "rf6E8TiOIc4I",
        "outputId": "6ea88689-46aa-4d33-dd57-8fb0427888da"
      },
      "outputs": [
        {
          "name": "stdout",
          "output_type": "stream",
          "text": [
            "What's your name Izhar\n",
            "What's your number 9\n"
          ]
        }
      ],
      "source": [
        "#We would ask the user for his name and mobile number\n",
        "name= input(\"What's your name \")\n",
        "number= input(\"What's your number \")"
      ]
    },
    {
      "cell_type": "code",
      "execution_count": null,
      "metadata": {
        "colab": {
          "base_uri": "https://localhost:8080/"
        },
        "id": "8q1xBtdUJ1zu",
        "outputId": "717ffa01-87a0-42fa-daa6-0ddde7b041d0"
      },
      "outputs": [
        {
          "output_type": "stream",
          "name": "stdout",
          "text": [
            "790\n"
          ]
        }
      ],
      "source": [
        "from random import seed\n",
        "from random import randint\n",
        "\n",
        "# generate a three digit random integers for user id\n",
        "value = randint(100, 999)\n",
        "print(value)"
      ]
    },
    {
      "cell_type": "code",
      "execution_count": null,
      "metadata": {
        "colab": {
          "base_uri": "https://localhost:8080/"
        },
        "id": "HiRqwupiLFiH",
        "outputId": "74994eee-2f4b-406c-b395-00d8b50149fd"
      },
      "outputs": [
        {
          "name": "stdout",
          "output_type": "stream",
          "text": [
            "What's your name Izee\n",
            "What's your number 9\n"
          ]
        }
      ],
      "source": [
        "#Now if I want to store these values together I can create a list data type\n",
        "name= input(\"What's your name \")\n",
        "number= input(\"What's your number \")\n",
        "value = randint(100, 999)\n",
        "#Creating a list\n"
      ]
    },
    {
      "cell_type": "code",
      "execution_count": null,
      "metadata": {
        "colab": {
          "base_uri": "https://localhost:8080/"
        },
        "id": "2-YhuCWbL2G0",
        "outputId": "cb5cf7e0-a1ca-4a0a-8fc3-0027039fdd46"
      },
      "outputs": [
        {
          "output_type": "stream",
          "name": "stdout",
          "text": [
            "Izee 9 253\n"
          ]
        }
      ],
      "source": [
        "print(name, number, value)"
      ]
    },
    {
      "cell_type": "markdown",
      "source": [
        "## **Lists**"
      ],
      "metadata": {
        "id": "ucqW8gXVBiH6"
      }
    },
    {
      "cell_type": "markdown",
      "source": [
        "- List are an ordered sequence of mixed data types.\n",
        "- Llists are written as comma-separated elements within square brackets."
      ],
      "metadata": {
        "id": "1z2b9uiRBzrX"
      }
    },
    {
      "cell_type": "code",
      "source": [
        "list1 = (name, number, value)\n",
        "list1"
      ],
      "metadata": {
        "colab": {
          "base_uri": "https://localhost:8080/"
        },
        "id": "OGAjIN8IBr_M",
        "outputId": "488057b8-8499-4ffa-8d9c-44514b7c483f"
      },
      "execution_count": null,
      "outputs": [
        {
          "output_type": "execute_result",
          "data": {
            "text/plain": [
              "('Izee', '9', 253)"
            ]
          },
          "metadata": {},
          "execution_count": 8
        }
      ]
    },
    {
      "cell_type": "code",
      "source": [
        "# Introduction\n",
        "L = [\"India\", 23, 6, \"Mumbai\"]\n",
        "L"
      ],
      "metadata": {
        "colab": {
          "base_uri": "https://localhost:8080/"
        },
        "id": "zQcqzWJfCMAv",
        "outputId": "41c20f15-8b43-4127-a4e9-3d1da88dc142"
      },
      "execution_count": null,
      "outputs": [
        {
          "output_type": "execute_result",
          "data": {
            "text/plain": [
              "['India', 23, 6, 'Mumbai']"
            ]
          },
          "metadata": {},
          "execution_count": 9
        }
      ]
    },
    {
      "cell_type": "code",
      "source": [
        "# Nested List\n",
        "L = ['Chemistry', ' Biology', [1994, 2004], 4]\n",
        "L"
      ],
      "metadata": {
        "colab": {
          "base_uri": "https://localhost:8080/"
        },
        "id": "ZkH9qnwjCTe2",
        "outputId": "4b42f784-8d4a-4f7b-f7eb-7814967c821a"
      },
      "execution_count": null,
      "outputs": [
        {
          "output_type": "execute_result",
          "data": {
            "text/plain": [
              "['Chemistry', ' Biology', [1994, 2004], 4]"
            ]
          },
          "metadata": {},
          "execution_count": 10
        }
      ]
    },
    {
      "cell_type": "code",
      "source": [
        "# Indexing\n",
        "L[2][1]"
      ],
      "metadata": {
        "colab": {
          "base_uri": "https://localhost:8080/"
        },
        "id": "pueMUrFMCpzo",
        "outputId": "83d8caf6-e63b-4b15-eb20-9b5374dc7e4d"
      },
      "execution_count": null,
      "outputs": [
        {
          "output_type": "execute_result",
          "data": {
            "text/plain": [
              "2004"
            ]
          },
          "metadata": {},
          "execution_count": 12
        }
      ]
    },
    {
      "cell_type": "code",
      "source": [
        "# Slicing\n",
        "L[1:3]"
      ],
      "metadata": {
        "colab": {
          "base_uri": "https://localhost:8080/"
        },
        "id": "_T5KMDrGDSr8",
        "outputId": "898f7320-0225-4a2b-b68a-821267113110"
      },
      "execution_count": null,
      "outputs": [
        {
          "output_type": "execute_result",
          "data": {
            "text/plain": [
              "[' Biology', [1994, 2004]]"
            ]
          },
          "metadata": {},
          "execution_count": 13
        }
      ]
    },
    {
      "cell_type": "code",
      "source": [
        "L[:] # to slice elements"
      ],
      "metadata": {
        "colab": {
          "base_uri": "https://localhost:8080/"
        },
        "id": "ub-nUPr1DiLF",
        "outputId": "7bcb7792-539d-4760-cfb9-27943249c962"
      },
      "execution_count": null,
      "outputs": [
        {
          "output_type": "execute_result",
          "data": {
            "text/plain": [
              "['Chemistry', ' Biology', [1994, 2004], 4]"
            ]
          },
          "metadata": {},
          "execution_count": 15
        }
      ]
    },
    {
      "cell_type": "code",
      "source": [
        "# to slice first 2 element\n",
        "L[:-2]"
      ],
      "metadata": {
        "colab": {
          "base_uri": "https://localhost:8080/"
        },
        "id": "m_DY1VtTD1dn",
        "outputId": "0c6ebdf1-57b4-43d5-dd8d-14517da737ab"
      },
      "execution_count": null,
      "outputs": [
        {
          "output_type": "execute_result",
          "data": {
            "text/plain": [
              "['Chemistry', ' Biology']"
            ]
          },
          "metadata": {},
          "execution_count": 17
        }
      ]
    },
    {
      "cell_type": "code",
      "source": [
        "# to slice last 2 elements\n",
        "L[-2:]"
      ],
      "metadata": {
        "colab": {
          "base_uri": "https://localhost:8080/"
        },
        "id": "F2BXaldDEFEd",
        "outputId": "5bab7bc4-7b29-4a56-bda7-e215a9453b33"
      },
      "execution_count": null,
      "outputs": [
        {
          "output_type": "execute_result",
          "data": {
            "text/plain": [
              "[[1994, 2004], 4]"
            ]
          },
          "metadata": {},
          "execution_count": 20
        }
      ]
    },
    {
      "cell_type": "code",
      "source": [
        "# membership in lists\n",
        "L1 = [1,2,3,4]\n",
        "print(1 in L1)\n",
        "print(20 in L1)"
      ],
      "metadata": {
        "colab": {
          "base_uri": "https://localhost:8080/"
        },
        "id": "RI3SBpr1Etuj",
        "outputId": "9ed31eb7-d690-427e-b42e-d6a1e7222ba4"
      },
      "execution_count": null,
      "outputs": [
        {
          "output_type": "stream",
          "name": "stdout",
          "text": [
            "True\n",
            "False\n"
          ]
        }
      ]
    },
    {
      "cell_type": "code",
      "source": [
        "# List Concatenation\n",
        "L"
      ],
      "metadata": {
        "colab": {
          "base_uri": "https://localhost:8080/"
        },
        "id": "9W4qsb6zFr36",
        "outputId": "f08ab4e3-6ed0-4958-e21f-0ac322302e9b"
      },
      "execution_count": null,
      "outputs": [
        {
          "output_type": "execute_result",
          "data": {
            "text/plain": [
              "['Chemistry', ' Biology', [1994, 2004], 4]"
            ]
          },
          "metadata": {},
          "execution_count": 26
        }
      ]
    },
    {
      "cell_type": "code",
      "source": [
        "new_L =L +[5,8]\n",
        "new_L"
      ],
      "metadata": {
        "colab": {
          "base_uri": "https://localhost:8080/"
        },
        "id": "-b-0-rGKF_aH",
        "outputId": "1695cc2a-5a22-4f84-89aa-30ae056597d6"
      },
      "execution_count": null,
      "outputs": [
        {
          "output_type": "execute_result",
          "data": {
            "text/plain": [
              "['Chemistry', ' Biology', [1994, 2004], 4, 5, 8]"
            ]
          },
          "metadata": {},
          "execution_count": 28
        }
      ]
    },
    {
      "cell_type": "code",
      "source": [
        "# Replace \" Biology\" with \" Physics\"\n",
        "L[1] = \" Physics\"\n",
        "L"
      ],
      "metadata": {
        "colab": {
          "base_uri": "https://localhost:8080/"
        },
        "id": "Zn_3eMVPGOdG",
        "outputId": "ad8508c9-df9f-405b-b382-9179057161d1"
      },
      "execution_count": null,
      "outputs": [
        {
          "output_type": "execute_result",
          "data": {
            "text/plain": [
              "['Chemistry', ' Physics', [1994, 2004], 4]"
            ]
          },
          "metadata": {},
          "execution_count": 29
        }
      ]
    },
    {
      "cell_type": "code",
      "source": [
        "# Remove from list\n",
        "L.remove(4)\n",
        "L"
      ],
      "metadata": {
        "colab": {
          "base_uri": "https://localhost:8080/"
        },
        "id": "qrfSxKo1H9vD",
        "outputId": "2f7d34c3-f78e-42d2-edec-095aff0a19a0"
      },
      "execution_count": null,
      "outputs": [
        {
          "output_type": "execute_result",
          "data": {
            "text/plain": [
              "['Chemistry', ' Physics', [1994, 2004]]"
            ]
          },
          "metadata": {},
          "execution_count": 34
        }
      ]
    },
    {
      "cell_type": "code",
      "source": [
        "# Sorting Lists\n",
        "L = [32, 24, 1, 3, 8]\n",
        "L.sort()"
      ],
      "metadata": {
        "id": "aRBwSGulIq0g"
      },
      "execution_count": null,
      "outputs": []
    },
    {
      "cell_type": "code",
      "source": [
        "I = sorted(L)\n",
        "print(L)\n",
        "print(I)"
      ],
      "metadata": {
        "colab": {
          "base_uri": "https://localhost:8080/"
        },
        "id": "znCddQPyI5tc",
        "outputId": "5aebf206-0036-4ae6-fd17-8832d392bf59"
      },
      "execution_count": null,
      "outputs": [
        {
          "output_type": "stream",
          "name": "stdout",
          "text": [
            "[32, 24, 1, 3, 8]\n",
            "[1, 3, 8, 24, 32]\n"
          ]
        }
      ]
    },
    {
      "cell_type": "code",
      "source": [
        "# Shadow Copying\n",
        "A = ['Orange', 'Apple', 'Pitch', 'Mango']\n",
        "B = A\n",
        "print(A, B)"
      ],
      "metadata": {
        "colab": {
          "base_uri": "https://localhost:8080/"
        },
        "id": "8drd8uPgJtet",
        "outputId": "568fce85-84f2-4570-b16a-a130381feea5"
      },
      "execution_count": null,
      "outputs": [
        {
          "output_type": "stream",
          "name": "stdout",
          "text": [
            "['Orange', 'Apple', 'Pitch', 'Mango'] ['Orange', 'Apple', 'Pitch', 'Mango']\n"
          ]
        }
      ]
    },
    {
      "cell_type": "code",
      "source": [
        "# to avoid shadow coping\n",
        "A = ['Orange', 'Apple', 'Pitch', 'Mango']\n",
        "B = A[:]\n",
        "B[0] = 'Pineapple'\n",
        "print(A, B)"
      ],
      "metadata": {
        "colab": {
          "base_uri": "https://localhost:8080/"
        },
        "id": "ijjin6LMKXd0",
        "outputId": "3d50da28-fc92-40e7-845d-a0c9b782018e"
      },
      "execution_count": null,
      "outputs": [
        {
          "output_type": "stream",
          "name": "stdout",
          "text": [
            "['Orange', 'Apple', 'Pitch', 'Mango'] ['Pineapple', 'Apple', 'Pitch', 'Mango']\n"
          ]
        }
      ]
    },
    {
      "cell_type": "code",
      "execution_count": null,
      "metadata": {
        "colab": {
          "base_uri": "https://localhost:8080/"
        },
        "id": "EzFn8Qkux7vS",
        "outputId": "67131c1c-0925-497d-9828-7bcacb442a15"
      },
      "outputs": [
        {
          "output_type": "execute_result",
          "data": {
            "text/plain": [
              "['USA', 23, 6, 'New York']"
            ]
          },
          "metadata": {},
          "execution_count": 69
        }
      ],
      "source": [
        "L = [\"USA\", 23, 6, \"New York\"]\n",
        "\n",
        "L"
      ]
    },
    {
      "cell_type": "code",
      "execution_count": null,
      "metadata": {
        "colab": {
          "base_uri": "https://localhost:8080/"
        },
        "id": "ZmEshiIlx7vV",
        "outputId": "b619798a-385e-4758-d0f9-cff4daedb636"
      },
      "outputs": [
        {
          "output_type": "execute_result",
          "data": {
            "text/plain": [
              "['Chemistry', 'Biology', [1989, 2004], ('Oreily', 'Pearson')]"
            ]
          },
          "metadata": {},
          "execution_count": 70
        }
      ],
      "source": [
        "# Nested List\n",
        "L = [\"Chemistry\", \"Biology\", [1989, 2004], (\"Oreily\", \"Pearson\")]\n",
        "\n",
        "L"
      ]
    },
    {
      "cell_type": "code",
      "execution_count": null,
      "metadata": {
        "colab": {
          "base_uri": "https://localhost:8080/",
          "height": 36
        },
        "id": "eCmBWZCMx7vY",
        "outputId": "e241642b-77e6-40c0-c654-8db8c3bd2b26"
      },
      "outputs": [
        {
          "output_type": "execute_result",
          "data": {
            "text/plain": [
              "'Chemistry'"
            ],
            "application/vnd.google.colaboratory.intrinsic+json": {
              "type": "string"
            }
          },
          "metadata": {},
          "execution_count": 71
        }
      ],
      "source": [
        "# Indexing\n",
        "L = [\"Chemistry\", \"Biology\", [1989, 2004], (\"Oreily\", \"Pearson\")]\n",
        "\n",
        "L[0]"
      ]
    },
    {
      "cell_type": "code",
      "execution_count": null,
      "metadata": {
        "colab": {
          "base_uri": "https://localhost:8080/",
          "height": 36
        },
        "id": "7AwJ_GDhx7vf",
        "outputId": "3ff43e1b-3f10-493a-87f5-73884658c877"
      },
      "outputs": [
        {
          "output_type": "execute_result",
          "data": {
            "text/plain": [
              "'Biology'"
            ],
            "application/vnd.google.colaboratory.intrinsic+json": {
              "type": "string"
            }
          },
          "metadata": {},
          "execution_count": 72
        }
      ],
      "source": [
        "L[-3]"
      ]
    },
    {
      "cell_type": "code",
      "execution_count": null,
      "metadata": {
        "colab": {
          "base_uri": "https://localhost:8080/",
          "height": 36
        },
        "id": "sg_eiobWx7vh",
        "outputId": "28abf8da-8ee8-46d5-c605-03c8d13c17fc"
      },
      "outputs": [
        {
          "output_type": "execute_result",
          "data": {
            "text/plain": [
              "'Pearson'"
            ],
            "application/vnd.google.colaboratory.intrinsic+json": {
              "type": "string"
            }
          },
          "metadata": {},
          "execution_count": 73
        }
      ],
      "source": [
        "L[-1][-1]"
      ]
    },
    {
      "cell_type": "code",
      "execution_count": null,
      "metadata": {
        "colab": {
          "base_uri": "https://localhost:8080/"
        },
        "id": "k0416Q_Qx7vk",
        "outputId": "de87f15f-f61b-4085-c34c-652df311173d"
      },
      "outputs": [
        {
          "output_type": "execute_result",
          "data": {
            "text/plain": [
              "['Chemistry', 'Biology', [1989, 2004]]"
            ]
          },
          "metadata": {},
          "execution_count": 74
        }
      ],
      "source": [
        "# Slicing\n",
        "\n",
        "L[0:3]"
      ]
    },
    {
      "cell_type": "code",
      "execution_count": null,
      "metadata": {
        "colab": {
          "base_uri": "https://localhost:8080/"
        },
        "id": "s0bEjiD1x7vm",
        "outputId": "10597290-c4bd-433d-d624-72c5ca60fbe1"
      },
      "outputs": [
        {
          "output_type": "stream",
          "name": "stdout",
          "text": [
            "True\n",
            "True\n"
          ]
        }
      ],
      "source": [
        "#Membership in Lists\n",
        "\n",
        "L1 = [1,2,3,4]\n",
        "print(1 in L1)  # True\n",
        "print (8 not in L1)  # True"
      ]
    },
    {
      "cell_type": "code",
      "execution_count": null,
      "metadata": {
        "colab": {
          "base_uri": "https://localhost:8080/"
        },
        "id": "Q7UXSFpjx7vp",
        "outputId": "0ad67970-a9d6-4bad-c31d-67fb9a42a31d"
      },
      "outputs": [
        {
          "output_type": "execute_result",
          "data": {
            "text/plain": [
              "['Chemistry', 'Biology', [1989, 2004], ('Oreily', 'Pearson'), 5, 8]"
            ]
          },
          "metadata": {},
          "execution_count": 76
        }
      ],
      "source": [
        "# List Concatanetion\n",
        "\n",
        "L = [\"Chemistry\", \"Biology\", [1989, 2004], (\"Oreily\", \"Pearson\")]\n",
        "new_L = L + [5, 8]\n",
        "new_L"
      ]
    },
    {
      "cell_type": "code",
      "execution_count": null,
      "metadata": {
        "colab": {
          "base_uri": "https://localhost:8080/"
        },
        "id": "xnPiiDAVx7vr",
        "outputId": "fe3862e5-6238-4c7e-fb5e-129e7d2a915d"
      },
      "outputs": [
        {
          "output_type": "execute_result",
          "data": {
            "text/plain": [
              "['Chemistry', 'Physics', [1989, 2004], ('Oreily', 'Pearson')]"
            ]
          },
          "metadata": {},
          "execution_count": 77
        }
      ],
      "source": [
        "# Replace \"Biology\" with \"Physics\"\n",
        "\n",
        "L = [\"Chemistry\", \"Biology\", [1989, 2004], (\"Oreily\", \"Pearson\")]\n",
        "\n",
        "L[1] = \"Physics\"\n",
        "\n",
        "L"
      ]
    },
    {
      "cell_type": "code",
      "execution_count": null,
      "metadata": {
        "colab": {
          "base_uri": "https://localhost:8080/"
        },
        "id": "4DH98Wsux7vw",
        "outputId": "a9e5e86d-872f-427e-ed4d-52c7c4e105e5"
      },
      "outputs": [
        {
          "output_type": "execute_result",
          "data": {
            "text/plain": [
              "['Chemistry', 'Biology', [1989, 2004], ('Oreily', 'Pearson'), 5, 8]"
            ]
          },
          "metadata": {},
          "execution_count": 78
        }
      ],
      "source": [
        "# extend()\n",
        "\n",
        "L = [\"Chemistry\", \"Biology\", [1989, 2004], (\"Oreily\", \"Pearson\")]\n",
        "L.extend([5, 8])\n",
        "L"
      ]
    },
    {
      "cell_type": "code",
      "execution_count": null,
      "metadata": {
        "colab": {
          "base_uri": "https://localhost:8080/"
        },
        "id": "MpoRElIQx7vz",
        "outputId": "670f050f-645f-4a15-cb96-85ea149f3a38"
      },
      "outputs": [
        {
          "output_type": "execute_result",
          "data": {
            "text/plain": [
              "['Chemistry', 'Biology', [1989, 2004], ('Oreily', 'Pearson'), [5, 8]]"
            ]
          },
          "metadata": {},
          "execution_count": 79
        }
      ],
      "source": [
        "# append()\n",
        "\n",
        "L = [\"Chemistry\", \"Biology\", [1989, 2004], (\"Oreily\", \"Pearson\")]\n",
        "L.append([5, 8])\n",
        "L"
      ]
    },
    {
      "cell_type": "code",
      "execution_count": null,
      "metadata": {
        "colab": {
          "base_uri": "https://localhost:8080/"
        },
        "id": "6zyeBmykx7v2",
        "outputId": "09c4a25e-af8e-494b-e2e8-9879c28346bc"
      },
      "outputs": [
        {
          "output_type": "execute_result",
          "data": {
            "text/plain": [
              "['Biology', [1989, 2004], ('Oreily', 'Pearson')]"
            ]
          },
          "metadata": {},
          "execution_count": 80
        }
      ],
      "source": [
        "# del Command\n",
        "\n",
        "L = [\"Chemistry\", \"Biology\", [1989, 2004], (\"Oreily\", \"Pearson\")]\n",
        "del L[0]\n",
        "L"
      ]
    },
    {
      "cell_type": "code",
      "execution_count": null,
      "metadata": {
        "colab": {
          "base_uri": "https://localhost:8080/"
        },
        "id": "0sPpI_ESx7v5",
        "outputId": "73b4f07b-e095-41a3-ab31-f679ec2e743d"
      },
      "outputs": [
        {
          "output_type": "execute_result",
          "data": {
            "text/plain": [
              "[('Oreily', 'Pearson')]"
            ]
          },
          "metadata": {},
          "execution_count": 81
        }
      ],
      "source": [
        "del L[0:2]\n",
        "\n",
        "L"
      ]
    },
    {
      "cell_type": "code",
      "execution_count": null,
      "metadata": {
        "colab": {
          "base_uri": "https://localhost:8080/"
        },
        "id": "3SEWBox5x7v9",
        "outputId": "451e056d-ca1c-4970-8282-8147282cebe9"
      },
      "outputs": [
        {
          "output_type": "execute_result",
          "data": {
            "text/plain": [
              "['Chemistry', 'Biology', [1989, 2004]]"
            ]
          },
          "metadata": {},
          "execution_count": 82
        }
      ],
      "source": [
        "# pop() \n",
        "\n",
        "L = [\"Chemistry\", \"Biology\", [1989, 2004], (\"Oreily\", \"Pearson\")]\n",
        "\n",
        "L.pop()\n",
        "\n",
        "L"
      ]
    },
    {
      "cell_type": "code",
      "execution_count": null,
      "metadata": {
        "colab": {
          "base_uri": "https://localhost:8080/"
        },
        "id": "ONBhLdiXx7wC",
        "outputId": "391af290-ad18-42e8-a78f-f54bf5c98299"
      },
      "outputs": [
        {
          "output_type": "execute_result",
          "data": {
            "text/plain": [
              "['Biology', [1989, 2004], ('Oreily', 'Pearson')]"
            ]
          },
          "metadata": {},
          "execution_count": 83
        }
      ],
      "source": [
        "# remove()\n",
        "\n",
        "L = [\"Chemistry\", \"Biology\", [1989, 2004], (\"Oreily\", \"Pearson\")]\n",
        "\n",
        "L.remove(\"Chemistry\")\n",
        "\n",
        "L"
      ]
    },
    {
      "cell_type": "code",
      "execution_count": null,
      "metadata": {
        "colab": {
          "base_uri": "https://localhost:8080/"
        },
        "id": "KRWVucN9x7wF",
        "outputId": "19bc4575-72e1-42c2-d426-e06f44f7ad9e"
      },
      "outputs": [
        {
          "output_type": "execute_result",
          "data": {
            "text/plain": [
              "[9, 24, 32, 65]"
            ]
          },
          "metadata": {},
          "execution_count": 84
        }
      ],
      "source": [
        "# Sorting Lists\n",
        "\n",
        "l = [32, 24, 65, 9]\n",
        "l.sort()\n",
        "l"
      ]
    },
    {
      "cell_type": "code",
      "execution_count": null,
      "metadata": {
        "colab": {
          "base_uri": "https://localhost:8080/"
        },
        "id": "-Q6mESCsx7wI",
        "outputId": "446f52b2-f064-42d3-e630-7c4066c37cfb"
      },
      "outputs": [
        {
          "output_type": "execute_result",
          "data": {
            "text/plain": [
              "[65, 32, 24, 9]"
            ]
          },
          "metadata": {},
          "execution_count": 85
        }
      ],
      "source": [
        "l.sort(reverse= True)\n",
        "l"
      ]
    },
    {
      "cell_type": "markdown",
      "metadata": {
        "id": "2S1E7CUFx7wK"
      },
      "source": [
        "#### Difference between sort and sorted\n"
      ]
    },
    {
      "cell_type": "code",
      "execution_count": null,
      "metadata": {
        "id": "9NhuhQt5x7wL",
        "outputId": "5c5ab88f-d33a-4197-d2bd-dfc0c719b6cb"
      },
      "outputs": [
        {
          "name": "stdout",
          "output_type": "stream",
          "text": [
            "['Mango', 'Orange', 'Strawberry']\n",
            "None\n"
          ]
        }
      ],
      "source": [
        "A = [\"Orange\", \"Strawberry\", \"Mango\"]\n",
        "B = A.sort()\n",
        "print(A)\n",
        "print(B)"
      ]
    },
    {
      "cell_type": "code",
      "execution_count": null,
      "metadata": {
        "id": "olgbu2a6x7wQ",
        "outputId": "ea98a507-6eb9-4668-b402-eee43aea8d69"
      },
      "outputs": [
        {
          "name": "stdout",
          "output_type": "stream",
          "text": [
            "['Orange', 'Strawberry', 'Mango']\n",
            "['Mango', 'Orange', 'Strawberry']\n"
          ]
        }
      ],
      "source": [
        "A = [\"Orange\", \"Strawberry\", \"Mango\"]\n",
        "C = sorted(A)\n",
        "\n",
        "print(A)\n",
        "print(C)"
      ]
    },
    {
      "cell_type": "markdown",
      "metadata": {
        "id": "GKHI_Fjgx7wU"
      },
      "source": [
        "#### Shadow Copying "
      ]
    },
    {
      "cell_type": "code",
      "execution_count": null,
      "metadata": {
        "id": "2NiNL-qRx7wV"
      },
      "outputs": [],
      "source": [
        "A = [\"Orange\", \"Strawberry\", \"Mango\"]\n",
        "B = A\n",
        "\n",
        "A[0] = \"Apple\""
      ]
    },
    {
      "cell_type": "code",
      "execution_count": null,
      "metadata": {
        "id": "bgcD9vzRx7wZ",
        "outputId": "b0b257e6-fb5e-4804-f249-c6609560059b"
      },
      "outputs": [
        {
          "data": {
            "text/plain": [
              "['Apple', 'Strawberry', 'Mango']"
            ]
          },
          "execution_count": 12,
          "metadata": {
            "tags": []
          },
          "output_type": "execute_result"
        }
      ],
      "source": [
        "A"
      ]
    },
    {
      "cell_type": "code",
      "execution_count": null,
      "metadata": {
        "id": "2wOQUzgCx7wd",
        "outputId": "dc70881c-b570-403a-fe70-29bc88cb88a5"
      },
      "outputs": [
        {
          "data": {
            "text/plain": [
              "['Apple', 'Strawberry', 'Mango']"
            ]
          },
          "execution_count": 13,
          "metadata": {
            "tags": []
          },
          "output_type": "execute_result"
        }
      ],
      "source": [
        "B"
      ]
    },
    {
      "cell_type": "code",
      "execution_count": null,
      "metadata": {
        "id": "ra1eMY0Ox7wh"
      },
      "outputs": [],
      "source": [
        "A = [\"Orange\", \"Strawberry\", \"Mango\"]\n",
        "B = A[:]    #Note 'A[:]' is used to call all the values stored in A\n",
        "#Now B has all the values of A but isn't a shadow copy of A\n",
        "#Shadow copy is basically assigning multiple labels to a single reference point or memory location\n",
        "\n",
        "A[0] = \"Apple\""
      ]
    },
    {
      "cell_type": "code",
      "execution_count": null,
      "metadata": {
        "colab": {
          "base_uri": "https://localhost:8080/",
          "height": 35
        },
        "id": "wWEuNQORx7wm",
        "outputId": "4f7547ba-9d2d-4e09-da8e-b2b79556f412"
      },
      "outputs": [
        {
          "data": {
            "text/plain": [
              "['Apple', 'Strawberry', 'Mango']"
            ]
          },
          "execution_count": 3,
          "metadata": {
            "tags": []
          },
          "output_type": "execute_result"
        }
      ],
      "source": [
        "A"
      ]
    },
    {
      "cell_type": "code",
      "execution_count": null,
      "metadata": {
        "id": "3iXwsOmzx7wp",
        "outputId": "4ddb3646-ebab-446d-846d-bcb16e9bc783"
      },
      "outputs": [
        {
          "data": {
            "text/plain": [
              "['Orange', 'Strawberry', 'Mango']"
            ]
          },
          "execution_count": 16,
          "metadata": {
            "tags": []
          },
          "output_type": "execute_result"
        }
      ],
      "source": [
        "B"
      ]
    },
    {
      "cell_type": "markdown",
      "metadata": {
        "id": "pFQ6WjPZMW8h"
      },
      "source": [
        "Hmm, that works. But what if I would like to add some security and make user id un-changeable or as we call it in programming - immutable, in that case, we'll use a tuple. \n",
        "\n",
        "So in this session, we are going to learn more about another new word or a data type actually which is called \"Tuple\"\n"
      ]
    },
    {
      "cell_type": "markdown",
      "metadata": {
        "id": "Xyqh0MJlx7tr"
      },
      "source": [
        "<h1 style=\"color:Brown\"> Tuples </h1>\n",
        "\n",
        "- Tuples are an ordered sequence of mixed data types.\n",
        "- Tuples are written as comma-separated  elements within parenthesis\n",
        "- Tuples are immutable unlike list(mutable).\n"
      ]
    },
    {
      "cell_type": "code",
      "execution_count": null,
      "metadata": {
        "colab": {
          "base_uri": "https://localhost:8080/"
        },
        "id": "6YXvoJPax7ts",
        "outputId": "01a27530-11a4-4c49-b7d4-ef648c4988ff"
      },
      "outputs": [
        {
          "output_type": "execute_result",
          "data": {
            "text/plain": [
              "('disco', 12, 4.5)"
            ]
          },
          "metadata": {},
          "execution_count": 46
        }
      ],
      "source": [
        "t = (\"disco\", 12, 4.5)\n",
        "t"
      ]
    },
    {
      "cell_type": "code",
      "execution_count": null,
      "metadata": {
        "colab": {
          "base_uri": "https://localhost:8080/"
        },
        "id": "fXqQjadkx7tx",
        "outputId": "f43af87e-50de-42de-bb13-5d06565932e4"
      },
      "outputs": [
        {
          "output_type": "execute_result",
          "data": {
            "text/plain": [
              "tuple"
            ]
          },
          "metadata": {},
          "execution_count": 47
        }
      ],
      "source": [
        "type(t)"
      ]
    },
    {
      "cell_type": "markdown",
      "metadata": {
        "id": "IGbcUO05x7t1"
      },
      "source": [
        "<h3> Tuples can be defined is various ways </h3>"
      ]
    },
    {
      "cell_type": "markdown",
      "metadata": {
        "id": "jo8Ws7jlx7t1"
      },
      "source": [
        "#### A tuple can be defined without using parenthesis "
      ]
    },
    {
      "cell_type": "code",
      "execution_count": null,
      "metadata": {
        "colab": {
          "base_uri": "https://localhost:8080/"
        },
        "id": "5skAlIKMx7t2",
        "outputId": "f881d627-2ae3-49a3-cc03-6e59684719d0"
      },
      "outputs": [
        {
          "output_type": "stream",
          "name": "stdout",
          "text": [
            "(1, 2, 3, 4)\n"
          ]
        }
      ],
      "source": [
        "sample_tuple = 1,2,3,4\n",
        "\n",
        "print(sample_tuple)"
      ]
    },
    {
      "cell_type": "markdown",
      "metadata": {
        "id": "Bsg6FL0Sx7t7"
      },
      "source": [
        "#### Single value tuple"
      ]
    },
    {
      "cell_type": "code",
      "execution_count": null,
      "metadata": {
        "colab": {
          "base_uri": "https://localhost:8080/"
        },
        "id": "Klvbt3t1x7t7",
        "outputId": "76a232fd-35ba-4439-9712-6d9393449f2f"
      },
      "outputs": [
        {
          "output_type": "stream",
          "name": "stdout",
          "text": [
            "(1,)\n"
          ]
        }
      ],
      "source": [
        "sample_tuple = 1,  \n",
        "print(sample_tuple)"
      ]
    },
    {
      "cell_type": "code",
      "execution_count": null,
      "metadata": {
        "colab": {
          "base_uri": "https://localhost:8080/"
        },
        "id": "OwR83NNBx7t_",
        "outputId": "d0572b11-3615-4e68-cc2e-46646be89cb4"
      },
      "outputs": [
        {
          "output_type": "stream",
          "name": "stdout",
          "text": [
            "(1,)\n"
          ]
        }
      ],
      "source": [
        "sample_tuple = (1,)  \n",
        "print(sample_tuple)"
      ]
    },
    {
      "cell_type": "code",
      "execution_count": null,
      "metadata": {
        "id": "CRG6Lmfjx7uE"
      },
      "outputs": [],
      "source": [
        "sample_tuple1 = 1   # This is not a tuple"
      ]
    },
    {
      "cell_type": "code",
      "execution_count": null,
      "metadata": {
        "id": "rZPL8Lr_x7uI"
      },
      "outputs": [],
      "source": [
        "sample_tuple2 = (1) # This is not a tuple"
      ]
    },
    {
      "cell_type": "markdown",
      "metadata": {
        "id": "Yppn4X0jx7uM"
      },
      "source": [
        "### Indexing in tuples"
      ]
    },
    {
      "cell_type": "code",
      "execution_count": null,
      "metadata": {
        "id": "qu5TyAOqx7uN"
      },
      "outputs": [],
      "source": [
        "t = (\"Mumbai\", 84, \"Python\",)"
      ]
    },
    {
      "cell_type": "code",
      "execution_count": null,
      "metadata": {
        "colab": {
          "base_uri": "https://localhost:8080/"
        },
        "id": "rAEz0yjOx7uQ",
        "outputId": "8f2ee22b-099e-476b-a34b-d359faf8c2f9"
      },
      "outputs": [
        {
          "output_type": "execute_result",
          "data": {
            "text/plain": [
              "84"
            ]
          },
          "metadata": {},
          "execution_count": 53
        }
      ],
      "source": [
        "# gives the element at index location 1\n",
        "t[1]"
      ]
    },
    {
      "cell_type": "code",
      "execution_count": null,
      "metadata": {
        "colab": {
          "base_uri": "https://localhost:8080/",
          "height": 36
        },
        "id": "mqX3hCRSx7uU",
        "outputId": "4c4baf8e-5e8b-4896-811d-811d43b64c9a"
      },
      "outputs": [
        {
          "output_type": "execute_result",
          "data": {
            "text/plain": [
              "'Python'"
            ],
            "application/vnd.google.colaboratory.intrinsic+json": {
              "type": "string"
            }
          },
          "metadata": {},
          "execution_count": 54
        }
      ],
      "source": [
        "# gives the last element from tuple\n",
        "t[-1]"
      ]
    },
    {
      "cell_type": "code",
      "execution_count": null,
      "metadata": {
        "id": "U_OhHbFDx7uX"
      },
      "outputs": [],
      "source": []
    },
    {
      "cell_type": "markdown",
      "metadata": {
        "id": "YM3BUz1hx7uc"
      },
      "source": [
        "### Slicing"
      ]
    },
    {
      "cell_type": "code",
      "execution_count": null,
      "metadata": {
        "colab": {
          "base_uri": "https://localhost:8080/"
        },
        "id": "tPP0_Pqex7uc",
        "outputId": "c29019c2-77de-4c67-e24c-0ca842f43885"
      },
      "outputs": [
        {
          "output_type": "execute_result",
          "data": {
            "text/plain": [
              "('Seattle', 84, 'Python')"
            ]
          },
          "metadata": {},
          "execution_count": 55
        }
      ],
      "source": [
        "# Slicing first 3 elements from t\n",
        "\n",
        "t = (\"Seattle\", 84, \"Python\", 5, 2, 1)\n",
        "\n",
        "t[0:3]"
      ]
    },
    {
      "cell_type": "code",
      "execution_count": null,
      "metadata": {
        "colab": {
          "base_uri": "https://localhost:8080/"
        },
        "id": "vNXGkaYPx7ug",
        "outputId": "99720405-5039-4ee6-b95e-737fb8f28a8b"
      },
      "outputs": [
        {
          "output_type": "execute_result",
          "data": {
            "text/plain": [
              "(2, 1)"
            ]
          },
          "metadata": {},
          "execution_count": 56
        }
      ],
      "source": [
        "# Slicing last 2 elements from t\n",
        "\n",
        "t = (\"Seattle\", 84, \"Python\", 5, 2, 1)\n",
        "\n",
        "t[-2:]"
      ]
    },
    {
      "cell_type": "code",
      "execution_count": null,
      "metadata": {
        "colab": {
          "base_uri": "https://localhost:8080/"
        },
        "id": "l5lWQS4Tx7ui",
        "outputId": "a94dcb3e-9ebb-422e-b738-7a3ed8ba4007"
      },
      "outputs": [
        {
          "output_type": "execute_result",
          "data": {
            "text/plain": [
              "6"
            ]
          },
          "metadata": {},
          "execution_count": 57
        }
      ],
      "source": [
        "# no. of elements in tuple t\n",
        "t = (\"Seattle\", 84, \"Python\", 5, 2, 1)\n",
        "len(t)"
      ]
    },
    {
      "cell_type": "markdown",
      "metadata": {
        "id": "dfaI2Nqgx7ul"
      },
      "source": [
        "#### Cancatenating tuples"
      ]
    },
    {
      "cell_type": "code",
      "execution_count": null,
      "metadata": {
        "colab": {
          "base_uri": "https://localhost:8080/"
        },
        "id": "fL0waJTCx7um",
        "outputId": "59d89914-ac24-4bb9-e6b2-63b51b30b815"
      },
      "outputs": [
        {
          "output_type": "execute_result",
          "data": {
            "text/plain": [
              "('This', 'is', 'Session', 2, 'on', 'Tuples')"
            ]
          },
          "metadata": {},
          "execution_count": 58
        }
      ],
      "source": [
        "tup1 = (\"This\", \"is\", \"Session\", 2)\n",
        "tup2 = (\"on\", \"Tuples\")\n",
        "\n",
        "# Adding contents of tup2 to tup1 and storing in tup3\n",
        "\n",
        "tup3 = tup1 + tup2\n",
        "\n",
        "tup3"
      ]
    },
    {
      "cell_type": "markdown",
      "metadata": {
        "id": "q9Z0-2hcx7up"
      },
      "source": [
        "#### sum() - min() - max()"
      ]
    },
    {
      "cell_type": "code",
      "execution_count": null,
      "metadata": {
        "colab": {
          "base_uri": "https://localhost:8080/"
        },
        "id": "KhMnnZCux7uq",
        "outputId": "26685679-2c8e-48e8-bae0-cc1d16b5fa64"
      },
      "outputs": [
        {
          "output_type": "execute_result",
          "data": {
            "text/plain": [
              "21"
            ]
          },
          "metadata": {},
          "execution_count": 59
        }
      ],
      "source": [
        "t = (2, 4, 3, 5, 7)\n",
        "sum(t)"
      ]
    },
    {
      "cell_type": "code",
      "execution_count": null,
      "metadata": {
        "colab": {
          "base_uri": "https://localhost:8080/"
        },
        "id": "AwOw8Gmyx7ut",
        "outputId": "dedd0fcb-6ada-4e01-df11-4967b561e5b9"
      },
      "outputs": [
        {
          "output_type": "execute_result",
          "data": {
            "text/plain": [
              "2"
            ]
          },
          "metadata": {},
          "execution_count": 60
        }
      ],
      "source": [
        "t = (2, 4, 3, 5, 7)\n",
        "min(t)"
      ]
    },
    {
      "cell_type": "code",
      "execution_count": null,
      "metadata": {
        "colab": {
          "base_uri": "https://localhost:8080/"
        },
        "id": "ak8rmV4Zx7ux",
        "outputId": "bc5e0f6f-9657-496f-b945-90dbc393b651"
      },
      "outputs": [
        {
          "output_type": "execute_result",
          "data": {
            "text/plain": [
              "7"
            ]
          },
          "metadata": {},
          "execution_count": 61
        }
      ],
      "source": [
        "t = (2, 4, 3, 5, 7)\n",
        "max(t)"
      ]
    },
    {
      "cell_type": "markdown",
      "metadata": {
        "id": "CvpFRcNcx7u0"
      },
      "source": [
        "### Immutability of tuples"
      ]
    },
    {
      "cell_type": "code",
      "execution_count": null,
      "metadata": {
        "colab": {
          "base_uri": "https://localhost:8080/",
          "height": 207
        },
        "id": "EqwWhfs7x7u1",
        "outputId": "957830fb-fe30-43e0-e355-ffd462d66e7c"
      },
      "outputs": [
        {
          "output_type": "error",
          "ename": "TypeError",
          "evalue": "ignored",
          "traceback": [
            "\u001b[0;31m---------------------------------------------------------------------------\u001b[0m",
            "\u001b[0;31mTypeError\u001b[0m                                 Traceback (most recent call last)",
            "\u001b[0;32m<ipython-input-62-6471cd842493>\u001b[0m in \u001b[0;36m<module>\u001b[0;34m\u001b[0m\n\u001b[1;32m      1\u001b[0m \u001b[0mt\u001b[0m \u001b[0;34m=\u001b[0m \u001b[0;34m(\u001b[0m\u001b[0;34m\"USA\"\u001b[0m\u001b[0;34m,\u001b[0m \u001b[0;36m4\u001b[0m\u001b[0;34m,\u001b[0m \u001b[0;36m3\u001b[0m\u001b[0;34m,\u001b[0m \u001b[0;34m\"Disco\"\u001b[0m\u001b[0;34m,\u001b[0m \u001b[0;36m7.5\u001b[0m\u001b[0;34m)\u001b[0m\u001b[0;34m\u001b[0m\u001b[0;34m\u001b[0m\u001b[0m\n\u001b[1;32m      2\u001b[0m \u001b[0;34m\u001b[0m\u001b[0m\n\u001b[0;32m----> 3\u001b[0;31m \u001b[0mt\u001b[0m\u001b[0;34m[\u001b[0m\u001b[0;36m3\u001b[0m\u001b[0;34m]\u001b[0m \u001b[0;34m=\u001b[0m \u001b[0;34m\"Hard Rock\"\u001b[0m\u001b[0;34m\u001b[0m\u001b[0;34m\u001b[0m\u001b[0m\n\u001b[0m",
            "\u001b[0;31mTypeError\u001b[0m: 'tuple' object does not support item assignment"
          ]
        }
      ],
      "source": [
        "t = (\"USA\", 4, 3, \"Disco\", 7.5)\n",
        "\n",
        "t[3] = \"Hard Rock\""
      ]
    },
    {
      "cell_type": "code",
      "execution_count": null,
      "metadata": {
        "colab": {
          "base_uri": "https://localhost:8080/"
        },
        "id": "jRjPAQw9x7u4",
        "outputId": "73997d88-f8e4-4f8a-b723-871258f538e3"
      },
      "outputs": [
        {
          "output_type": "execute_result",
          "data": {
            "text/plain": [
              "('USA', 4, 3, 'Hard Rock', 7.5)"
            ]
          },
          "metadata": {},
          "execution_count": 63
        }
      ],
      "source": [
        "new_t = t[0:3] + (\"Hard Rock\",) + t[4:]\n",
        "new_t"
      ]
    },
    {
      "cell_type": "markdown",
      "metadata": {
        "id": "nUeqxCYqx7u6"
      },
      "source": [
        "### Sorting a tuple"
      ]
    },
    {
      "cell_type": "code",
      "execution_count": null,
      "metadata": {
        "colab": {
          "base_uri": "https://localhost:8080/"
        },
        "id": "eymTG_7hx7u8",
        "outputId": "44e71434-1083-4cd5-84fd-606539c3ffb0"
      },
      "outputs": [
        {
          "output_type": "execute_result",
          "data": {
            "text/plain": [
              "[2, 3, 4, 5, 6, 8]"
            ]
          },
          "metadata": {},
          "execution_count": 64
        }
      ],
      "source": [
        "t = (2,3,6,4,8,5)\n",
        "\n",
        "sorted(t)"
      ]
    },
    {
      "cell_type": "code",
      "execution_count": null,
      "metadata": {
        "colab": {
          "base_uri": "https://localhost:8080/"
        },
        "id": "hljAjaa4x7u_",
        "outputId": "f7b8fb07-7fe4-4fc9-ece1-b6ee7c40e341"
      },
      "outputs": [
        {
          "output_type": "execute_result",
          "data": {
            "text/plain": [
              "(2, 3, 4, 5, 6, 8)"
            ]
          },
          "metadata": {},
          "execution_count": 65
        }
      ],
      "source": [
        "x = sorted(t)\n",
        "\n",
        "tuple(x)"
      ]
    },
    {
      "cell_type": "code",
      "execution_count": null,
      "metadata": {
        "colab": {
          "base_uri": "https://localhost:8080/",
          "height": 36
        },
        "id": "YERCWJbWx7vD",
        "outputId": "eee6a969-8f7d-4082-8a56-0f8256ed4942"
      },
      "outputs": [
        {
          "output_type": "execute_result",
          "data": {
            "text/plain": [
              "'Java'"
            ],
            "application/vnd.google.colaboratory.intrinsic+json": {
              "type": "string"
            }
          },
          "metadata": {},
          "execution_count": 66
        }
      ],
      "source": [
        "# Nested Tuples\n",
        "\n",
        "t = (1,5,\"Disco\", (\"Python\", \"Java\"))\n",
        "\n",
        "# Access \"Java\" from the nested tuple\n",
        "t[3][1]"
      ]
    },
    {
      "cell_type": "markdown",
      "metadata": {
        "id": "uW5tx7dPx7vH"
      },
      "source": [
        "### Packing and Unpacking In Tuples"
      ]
    },
    {
      "cell_type": "code",
      "execution_count": null,
      "metadata": {
        "colab": {
          "base_uri": "https://localhost:8080/"
        },
        "id": "ZvNrF_5dx7vJ",
        "outputId": "9f8eb4aa-7bda-4eb4-b328-e40f08613927"
      },
      "outputs": [
        {
          "output_type": "stream",
          "name": "stdout",
          "text": [
            "1\n"
          ]
        }
      ],
      "source": [
        "t = (1,2,3,4)     # Packing \n",
        "(a,b,c,d) = t     # Unpacking \n",
        "print (a)"
      ]
    },
    {
      "cell_type": "markdown",
      "metadata": {
        "id": "uIZxFBdCx7vO"
      },
      "source": [
        "#### dir() - to view the attributes or methods of an object"
      ]
    },
    {
      "cell_type": "code",
      "execution_count": null,
      "metadata": {
        "colab": {
          "base_uri": "https://localhost:8080/"
        },
        "id": "hsvllf0nx7vP",
        "outputId": "a5c58dda-33ae-4547-8c15-69402f56f276"
      },
      "outputs": [
        {
          "output_type": "stream",
          "name": "stdout",
          "text": [
            "['__add__', '__class__', '__contains__', '__delattr__', '__dir__', '__doc__', '__eq__', '__format__', '__ge__', '__getattribute__', '__getitem__', '__getnewargs__', '__gt__', '__hash__', '__init__', '__init_subclass__', '__iter__', '__le__', '__len__', '__lt__', '__mul__', '__ne__', '__new__', '__reduce__', '__reduce_ex__', '__repr__', '__rmul__', '__setattr__', '__sizeof__', '__str__', '__subclasshook__', 'count', 'index']\n"
          ]
        }
      ],
      "source": [
        "t = ()\n",
        "print(dir(t))"
      ]
    },
    {
      "cell_type": "markdown",
      "metadata": {
        "id": "FbnoE9TJT5m-"
      },
      "source": [
        "Now that we know how to store multiple items together let us build another app that could store userid of our customers, which were randomly generated.\n",
        "\n",
        "We have the following requirements from the app -\n",
        "1. It shouldn't store duplicate values in the data-set\n",
        "2. Since the userid are randomly generated the order doesn't matter\n",
        "3. We need mutability i.e. if we want to delete a particular value we should be able to do so\n",
        "4. We might frequently want to check whether a user-id is part of the existing data set so it should be able to perform this operation fast\n",
        "\n",
        "For this use case, we could either use a unique function and maintain our list, but that would be comparatively time-consuming, so let's look at another data type provided by Python, which would be the best fit here.\n"
      ]
    },
    {
      "cell_type": "markdown",
      "metadata": {
        "id": "uIA9Guy-x7wy"
      },
      "source": [
        "<h1 style=\"color:Brown\"> Sets </h1>\n",
        "\n",
        "- Sets are a type of collection like lists and tuples, storing mixed data.\n",
        "- Sets are enclosed within curly brackets and elements are written as comma-separated.\n",
        "- Sets are unordered\n",
        "- Sets do not allow duplicates\n",
        "- Sets can't be indexed"
      ]
    },
    {
      "cell_type": "code",
      "execution_count": null,
      "metadata": {
        "colab": {
          "base_uri": "https://localhost:8080/"
        },
        "id": "nGP1V2Acx7wy",
        "outputId": "39fb0178-62b2-4b2b-a417-7de855d75a1d"
      },
      "outputs": [
        {
          "output_type": "execute_result",
          "data": {
            "text/plain": [
              "{1, 2, 3, 4, 5}"
            ]
          },
          "metadata": {},
          "execution_count": 88
        }
      ],
      "source": [
        "l = [1,3,2,4,5,5]\n",
        "\n",
        "set_l = set(l)\n",
        "\n",
        "set_l"
      ]
    },
    {
      "cell_type": "code",
      "execution_count": null,
      "metadata": {
        "colab": {
          "base_uri": "https://localhost:8080/"
        },
        "id": "Ot7CFivOx7w2",
        "outputId": "dda2cb87-e00c-4cad-8622-4ed95fabfc07"
      },
      "outputs": [
        {
          "output_type": "execute_result",
          "data": {
            "text/plain": [
              "5"
            ]
          },
          "metadata": {},
          "execution_count": 89
        }
      ],
      "source": [
        "len(set_l)"
      ]
    },
    {
      "cell_type": "code",
      "execution_count": null,
      "metadata": {
        "colab": {
          "base_uri": "https://localhost:8080/"
        },
        "id": "v6zO64NZx7w7",
        "outputId": "2630d129-ef38-4fc1-cdea-a07eb7682199"
      },
      "outputs": [
        {
          "output_type": "execute_result",
          "data": {
            "text/plain": [
              "{1, 2, 3, 4, 5, 'Australia'}"
            ]
          },
          "metadata": {},
          "execution_count": 90
        }
      ],
      "source": [
        "a = {1, 2, 3, 4, 5}\n",
        "\n",
        "a.add(\"Australia\")\n",
        "\n",
        "a"
      ]
    },
    {
      "cell_type": "code",
      "execution_count": null,
      "metadata": {
        "colab": {
          "base_uri": "https://localhost:8080/"
        },
        "id": "IYzT8uPlx7w_",
        "outputId": "b25973c4-b494-4f7d-a42c-fe6fa50de9c9"
      },
      "outputs": [
        {
          "output_type": "execute_result",
          "data": {
            "text/plain": [
              "{1, 2, 3, 4, 5}"
            ]
          },
          "metadata": {},
          "execution_count": 93
        }
      ],
      "source": [
        "a = {1, 2, 3, 4, 5, \"Australia\"}\n",
        "a.remove(\"Australia\")\n",
        "a"
      ]
    },
    {
      "cell_type": "code",
      "execution_count": null,
      "metadata": {
        "id": "hZZpzqA9x7xB"
      },
      "outputs": [],
      "source": [
        "# Set Operations\n",
        "\n",
        "A = {0, 2, 4, 6, 8}\n",
        "B = {1, 2, 3, 4, 5}"
      ]
    },
    {
      "cell_type": "code",
      "execution_count": null,
      "metadata": {
        "colab": {
          "base_uri": "https://localhost:8080/"
        },
        "id": "NbEYt-_9x7xD",
        "outputId": "867dcec2-bbaa-4cd6-e39a-344eaab3f6ea"
      },
      "outputs": [
        {
          "output_type": "stream",
          "name": "stdout",
          "text": [
            "{0, 1, 2, 3, 4, 5, 6, 8}\n",
            "{0, 1, 2, 3, 4, 5, 6, 8}\n"
          ]
        }
      ],
      "source": [
        "print(A | B) # Union\n",
        "print (A.union(B))"
      ]
    },
    {
      "cell_type": "code",
      "execution_count": null,
      "metadata": {
        "colab": {
          "base_uri": "https://localhost:8080/"
        },
        "id": "BTkATS76x7xF",
        "outputId": "2802f5ce-c694-4e44-c4b9-604742cb1446"
      },
      "outputs": [
        {
          "output_type": "stream",
          "name": "stdout",
          "text": [
            "{2, 4}\n",
            "{2, 4}\n"
          ]
        }
      ],
      "source": [
        "print(A & B) # Intersection (values that is both in A and B)\n",
        "print(A.intersection(B))"
      ]
    },
    {
      "cell_type": "code",
      "execution_count": null,
      "metadata": {
        "id": "5dO6UvEEx7xK",
        "outputId": "6781da24-8c2f-4bcf-c642-81ecf509b6c9"
      },
      "outputs": [
        {
          "name": "stdout",
          "output_type": "stream",
          "text": [
            "{0, 8, 6}\n",
            "{0, 8, 6}\n"
          ]
        }
      ],
      "source": [
        "print(A - B) # Difference (It gives an output what A has but missing in B)\n",
        "print(A.difference(B))  # only A elements"
      ]
    },
    {
      "cell_type": "code",
      "execution_count": null,
      "metadata": {
        "colab": {
          "base_uri": "https://localhost:8080/"
        },
        "id": "hserTb8Cx7xM",
        "outputId": "13919d9e-6a8d-45de-fb0c-88033038392c"
      },
      "outputs": [
        {
          "output_type": "stream",
          "name": "stdout",
          "text": [
            "{0, 1, 3, 5, 6, 8}\n"
          ]
        }
      ],
      "source": [
        "print(A ^ B) # Symmetric Difference (it's either in A or B but not in both)"
      ]
    },
    {
      "cell_type": "markdown",
      "metadata": {
        "id": "hxqIx1YeWojE"
      },
      "source": [
        "In this session, we are going to talk about dictionaries. In Python, we use dictionaries to store key-value pairs.\n",
        "Here is an example -\n",
        "Let's take the example of a customer as seen earlier.\n",
        "Now a customer could have multiple attributes such as \n",
        "1. Name\n",
        "2. Email\n",
        "3. Userid\n",
        "4. Address \n",
        "5. Phone number\n",
        "\n",
        "Now each of these attributes would be our key and corresponding we'll have values against each on them\n",
        "\n",
        "With a dictionary, we can store a bunch of key-value pairs, let us now see have a look at the 'Dictionary' data type in Python"
      ]
    },
    {
      "cell_type": "markdown",
      "metadata": {
        "id": "4w64upQvx7xP"
      },
      "source": [
        "<h1 style=\"color:Brown\"> Dictionaries </h1>\n",
        "\n",
        "- A dictionary stores element as keys and values pairs.\n",
        "- The key is like an index, it's is always unique and immutable. \n",
        "- The values are the objects that contain information.\n",
        "- Values are accessed using their keys.\n",
        "- Each key is followed by a value separated by a colon. \n",
        "- The values can be immutable, mutable, and duplicates. \n",
        "- Each key and value pair is separated by a comma enclosed inside curly brackets."
      ]
    },
    {
      "cell_type": "code",
      "execution_count": 101,
      "metadata": {
        "colab": {
          "base_uri": "https://localhost:8080/",
          "height": 36
        },
        "id": "EF0ApV2Bx7xQ",
        "outputId": "468e964b-9b3f-4523-8dfb-f8c6c44685e3"
      },
      "outputs": [
        {
          "output_type": "execute_result",
          "data": {
            "text/plain": [
              "'USD'"
            ],
            "application/vnd.google.colaboratory.intrinsic+json": {
              "type": "string"
            }
          },
          "metadata": {},
          "execution_count": 101
        }
      ],
      "source": [
        "# Creating a dictionary\n",
        "\n",
        "d = {\"India\" : \"INR\", \"USA\" : \"USD\", \"France\" : \"Euros\"}\n",
        "\n",
        "# Access value using keys\n",
        "\n",
        "d[\"USA\"]"
      ]
    },
    {
      "cell_type": "code",
      "execution_count": 102,
      "metadata": {
        "colab": {
          "base_uri": "https://localhost:8080/"
        },
        "id": "VBZnEVMAx7xS",
        "outputId": "d2619e13-ff02-4fda-c9a1-ac45a2dc065b"
      },
      "outputs": [
        {
          "output_type": "execute_result",
          "data": {
            "text/plain": [
              "{'India': 'INR', 'USA': '$', 'France': 'Euros'}"
            ]
          },
          "metadata": {},
          "execution_count": 102
        }
      ],
      "source": [
        "# Replace the value for a key in a dictionary\n",
        "\n",
        "d[\"USA\"] = \"$\"\n",
        "\n",
        "d"
      ]
    },
    {
      "cell_type": "code",
      "execution_count": 103,
      "metadata": {
        "colab": {
          "base_uri": "https://localhost:8080/"
        },
        "id": "-yHHWpeqx7xU",
        "outputId": "c932a3b0-1a71-4f01-be13-b0b35faf83a9"
      },
      "outputs": [
        {
          "output_type": "execute_result",
          "data": {
            "text/plain": [
              "{'India': 'INR', 'USA': '$', 'France': 'Euros', 'Japan': 'Yen'}"
            ]
          },
          "metadata": {},
          "execution_count": 103
        }
      ],
      "source": [
        "# Insert new key value pair into a dictionary\n",
        "\n",
        "d[\"Japan\"] = \"Yen\"\n",
        "\n",
        "d"
      ]
    },
    {
      "cell_type": "code",
      "execution_count": 104,
      "metadata": {
        "colab": {
          "base_uri": "https://localhost:8080/"
        },
        "id": "sCW7FVM8x7xX",
        "outputId": "e5894f01-6ebb-41f7-d1f6-2d9de98e751e"
      },
      "outputs": [
        {
          "output_type": "execute_result",
          "data": {
            "text/plain": [
              "{'India': 'INR', 'USA': '$', 'Japan': 'Yen'}"
            ]
          },
          "metadata": {},
          "execution_count": 104
        }
      ],
      "source": [
        "# Deleting a key value pair\n",
        "\n",
        "del d[\"France\"]\n",
        "\n",
        "d"
      ]
    },
    {
      "cell_type": "code",
      "execution_count": 105,
      "metadata": {
        "colab": {
          "base_uri": "https://localhost:8080/"
        },
        "id": "7zY-tFUSx7xa",
        "outputId": "52cf2c47-da12-44ce-9df2-cb527e2e979c"
      },
      "outputs": [
        {
          "output_type": "execute_result",
          "data": {
            "text/plain": [
              "['India', 'Japan', 'USA']"
            ]
          },
          "metadata": {},
          "execution_count": 105
        }
      ],
      "source": [
        "# Sorting a dictionary\n",
        "\n",
        "sorted(d)"
      ]
    },
    {
      "cell_type": "code",
      "execution_count": 106,
      "metadata": {
        "colab": {
          "base_uri": "https://localhost:8080/"
        },
        "id": "yGvItflRx7xd",
        "outputId": "5fe75a6c-eb08-4762-dfb7-22364d663267"
      },
      "outputs": [
        {
          "output_type": "execute_result",
          "data": {
            "text/plain": [
              "dict_values(['INR', 'USD', 'Euros'])"
            ]
          },
          "metadata": {},
          "execution_count": 106
        }
      ],
      "source": [
        "# values() Method\n",
        "\n",
        "d = {\"India\" : \"INR\", \"USA\" : \"USD\", \"France\" : \"Euros\"}\n",
        "\n",
        "d.values()\n"
      ]
    },
    {
      "cell_type": "code",
      "execution_count": 107,
      "metadata": {
        "id": "QxE6EhJSx7xf",
        "outputId": "9d5e6006-e1ae-4453-cbba-07b035c95cea",
        "colab": {
          "base_uri": "https://localhost:8080/"
        }
      },
      "outputs": [
        {
          "output_type": "execute_result",
          "data": {
            "text/plain": [
              "dict_keys(['India', 'USA', 'France'])"
            ]
          },
          "metadata": {},
          "execution_count": 107
        }
      ],
      "source": [
        "# Keys() Method\n",
        "\n",
        "d.keys()\n"
      ]
    },
    {
      "cell_type": "code",
      "execution_count": 108,
      "metadata": {
        "colab": {
          "base_uri": "https://localhost:8080/"
        },
        "id": "lZX31ugUx7xj",
        "outputId": "33cca403-fe30-4166-c309-a53a12fea51b"
      },
      "outputs": [
        {
          "output_type": "execute_result",
          "data": {
            "text/plain": [
              "{'India': 'INR', 'USA': '$', 'France': 'Euros'}"
            ]
          },
          "metadata": {},
          "execution_count": 108
        }
      ],
      "source": [
        "# Update() Method\n",
        "\n",
        "d.update({'USA':'$'})\n",
        "d"
      ]
    },
    {
      "cell_type": "code",
      "source": [],
      "metadata": {
        "id": "kuHz0nEUWJll"
      },
      "execution_count": null,
      "outputs": []
    }
  ],
  "metadata": {
    "colab": {
      "collapsed_sections": [
        "dfaI2Nqgx7ul",
        "q9Z0-2hcx7up",
        "uIZxFBdCx7vO",
        "2S1E7CUFx7wK"
      ],
      "provenance": [],
      "include_colab_link": true
    },
    "kernelspec": {
      "display_name": "Python 3",
      "language": "python",
      "name": "python3"
    },
    "language_info": {
      "codemirror_mode": {
        "name": "ipython",
        "version": 3
      },
      "file_extension": ".py",
      "mimetype": "text/x-python",
      "name": "python",
      "nbconvert_exporter": "python",
      "pygments_lexer": "ipython3",
      "version": "3.7.4"
    }
  },
  "nbformat": 4,
  "nbformat_minor": 0
}