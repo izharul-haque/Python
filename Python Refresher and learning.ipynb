{
 "cells": [
  {
   "cell_type": "markdown",
   "id": "1a566948",
   "metadata": {},
   "source": [
    "import numpy as np\n",
    "import pandas as pd"
   ]
  },
  {
   "cell_type": "markdown",
   "id": "3331396f",
   "metadata": {},
   "source": [
    "### Multiline statements and strings"
   ]
  },
  {
   "cell_type": "code",
   "execution_count": 15,
   "id": "49a6cf80",
   "metadata": {},
   "outputs": [],
   "source": [
    "a = [1,\n",
    "    2, #two\n",
    "    4]"
   ]
  },
  {
   "cell_type": "code",
   "execution_count": 16,
   "id": "c636eee7",
   "metadata": {},
   "outputs": [],
   "source": [
    "b = [3,\n",
    "    3,\n",
    "    3]\n"
   ]
  },
  {
   "cell_type": "code",
   "execution_count": 37,
   "id": "228bd455",
   "metadata": {},
   "outputs": [],
   "source": [
    "def my_func(a, #comment\n",
    "           b, # comments\n",
    "           c #now here parenthesis shoud be inline with above parenthesis\n",
    "           ):\n",
    "    print(a,b,c)"
   ]
  },
  {
   "cell_type": "code",
   "execution_count": 38,
   "id": "34143aa3",
   "metadata": {},
   "outputs": [
    {
     "name": "stdout",
     "output_type": "stream",
     "text": [
      "10 20 70\n"
     ]
    }
   ],
   "source": [
    "my_func(10, #comments if  required\n",
    "       20,\n",
    "       70 #comments if req\n",
    "       )"
   ]
  },
  {
   "cell_type": "markdown",
   "id": "a2d43410",
   "metadata": {},
   "source": [
    "### How to add List"
   ]
  },
  {
   "cell_type": "code",
   "execution_count": 39,
   "id": "92b9d36a",
   "metadata": {},
   "outputs": [
    {
     "data": {
      "text/plain": [
       "array([[1, 2, 4, 3, 3, 3]])"
      ]
     },
     "execution_count": 39,
     "metadata": {},
     "output_type": "execute_result"
    }
   ],
   "source": [
    "c = np.array([a+b])\n",
    "c"
   ]
  },
  {
   "cell_type": "code",
   "execution_count": 43,
   "id": "44830986",
   "metadata": {},
   "outputs": [
    {
     "name": "stdout",
     "output_type": "stream",
     "text": [
      "[12, 15, 18]\n"
     ]
    }
   ],
   "source": [
    "list1 = [1, 2, 3]\n",
    "list2 = [4, 5, 6]\n",
    "list3 = [7,8,9]\n",
    "\n",
    "zipped_lists = zip(list1, list2,list3)\n",
    "\n",
    "sum = [x + y + z for (x, y, z) in zipped_lists]\n",
    "\n",
    "\n",
    "print(sum)"
   ]
  },
  {
   "cell_type": "markdown",
   "id": "66898fb6",
   "metadata": {},
   "source": [
    "### of \\n or \\t to break the string"
   ]
  },
  {
   "cell_type": "code",
   "execution_count": 44,
   "id": "8594645f",
   "metadata": {},
   "outputs": [
    {
     "name": "stdout",
     "output_type": "stream",
     "text": [
      "let wait fot it to see codes\n"
     ]
    }
   ],
   "source": [
    "print('let wait fot it'\\\n",
    "     ' to see codes')"
   ]
  },
  {
   "cell_type": "code",
   "execution_count": 45,
   "id": "b9b9be9b",
   "metadata": {},
   "outputs": [
    {
     "name": "stdout",
     "output_type": "stream",
     "text": [
      "let wait fot it\n",
      "to see codes\n"
     ]
    }
   ],
   "source": [
    "print('let wait fot it\\nto see codes')"
   ]
  },
  {
   "cell_type": "markdown",
   "id": "d345b3dd",
   "metadata": {},
   "source": [
    "### Line continuation Character"
   ]
  },
  {
   "cell_type": "code",
   "execution_count": 61,
   "id": "ad0f1cf2",
   "metadata": {},
   "outputs": [
    {
     "name": "stdout",
     "output_type": "stream",
     "text": [
      "Yes\n"
     ]
    }
   ],
   "source": [
    "a = 4\n",
    "b = 20\n",
    "c = 25\n",
    "\n",
    "if a > 2 \\\n",
    "and b > 10 \\\n",
    "and c > 12:\n",
    "    print('Yes') #comments"
   ]
  },
  {
   "cell_type": "markdown",
   "id": "2df7d206",
   "metadata": {},
   "source": [
    "### Multi line string"
   ]
  },
  {
   "cell_type": "code",
   "execution_count": 62,
   "id": "15688c3e",
   "metadata": {},
   "outputs": [
    {
     "data": {
      "text/plain": [
       "'this is a \\nstring'"
      ]
     },
     "execution_count": 62,
     "metadata": {},
     "output_type": "execute_result"
    }
   ],
   "source": [
    "a = '''this is a \n",
    "string'''\n",
    "a"
   ]
  },
  {
   "cell_type": "code",
   "execution_count": 63,
   "id": "5e2b4210",
   "metadata": {},
   "outputs": [
    {
     "name": "stdout",
     "output_type": "stream",
     "text": [
      "this is a \n",
      "string\n"
     ]
    }
   ],
   "source": [
    "print(a)"
   ]
  },
  {
   "cell_type": "code",
   "execution_count": 65,
   "id": "5256ced3",
   "metadata": {},
   "outputs": [
    {
     "name": "stdout",
     "output_type": "stream",
     "text": [
      "How you\n",
      "       doing and it captues all the spaces \n",
      "    and characters\n"
     ]
    }
   ],
   "source": [
    "b = '''How you\n",
    "       doing and it captues all the spaces \n",
    "    and characters'''\n",
    "print(b)"
   ]
  },
  {
   "cell_type": "code",
   "execution_count": 69,
   "id": "2a633c0c",
   "metadata": {},
   "outputs": [
    {
     "data": {
      "text/plain": [
       "'this also captures any \\n          of the spaces of \\n          character mentioned'"
      ]
     },
     "execution_count": 69,
     "metadata": {},
     "output_type": "execute_result"
    }
   ],
   "source": [
    "c=\"\"\"this also captures any \n",
    "          of the spaces of \n",
    "          character mentioned\"\"\"\n",
    "c"
   ]
  },
  {
   "cell_type": "code",
   "execution_count": 70,
   "id": "49aa0464",
   "metadata": {},
   "outputs": [
    {
     "name": "stdout",
     "output_type": "stream",
     "text": [
      "this also captures any \n",
      "          of the spaces of \n",
      "          character mentioned\n"
     ]
    }
   ],
   "source": [
    "print(c)"
   ]
  },
  {
   "cell_type": "markdown",
   "id": "89f65429",
   "metadata": {},
   "source": [
    "### Define function and Usuage of Lambda function"
   ]
  },
  {
   "cell_type": "code",
   "execution_count": 73,
   "id": "b623c453",
   "metadata": {},
   "outputs": [],
   "source": [
    "def my_func(a,b):\n",
    "    return a * b"
   ]
  },
  {
   "cell_type": "code",
   "execution_count": 74,
   "id": "0f4dfb63",
   "metadata": {},
   "outputs": [
    {
     "data": {
      "text/plain": [
       "[1, 3, 1, 3, 1, 3]"
      ]
     },
     "execution_count": 74,
     "metadata": {},
     "output_type": "execute_result"
    }
   ],
   "source": [
    "my_func([1,3], 3)"
   ]
  },
  {
   "cell_type": "code",
   "execution_count": 75,
   "id": "7c3381d6",
   "metadata": {},
   "outputs": [],
   "source": [
    "# how to define function that is not even created as python gives option to create function before calling it\n",
    "def my_func1():\n",
    "    return func2()\n",
    "\n",
    "def func2():\n",
    "    return 'running func2'"
   ]
  },
  {
   "cell_type": "code",
   "execution_count": 76,
   "id": "4e5d02b3",
   "metadata": {},
   "outputs": [
    {
     "data": {
      "text/plain": [
       "'running func2'"
      ]
     },
     "execution_count": 76,
     "metadata": {},
     "output_type": "execute_result"
    }
   ],
   "source": [
    "my_func1()"
   ]
  },
  {
   "cell_type": "code",
   "execution_count": 78,
   "id": "2233187d",
   "metadata": {},
   "outputs": [
    {
     "data": {
      "text/plain": [
       "function"
      ]
     },
     "execution_count": 78,
     "metadata": {},
     "output_type": "execute_result"
    }
   ],
   "source": [
    "type(func2)"
   ]
  },
  {
   "cell_type": "code",
   "execution_count": 79,
   "id": "3393c85e",
   "metadata": {},
   "outputs": [
    {
     "data": {
      "text/plain": [
       "<function __main__.<lambda>(x)>"
      ]
     },
     "execution_count": 79,
     "metadata": {},
     "output_type": "execute_result"
    }
   ],
   "source": [
    "# Lamda define function however doesn't give a name\n",
    "lambda x: x**2"
   ]
  },
  {
   "cell_type": "code",
   "execution_count": 80,
   "id": "f725807d",
   "metadata": {},
   "outputs": [
    {
     "data": {
      "text/plain": [
       "4"
      ]
     },
     "execution_count": 80,
     "metadata": {},
     "output_type": "execute_result"
    }
   ],
   "source": [
    "f1 = lambda x: x**2\n",
    "f1(2)"
   ]
  },
  {
   "cell_type": "code",
   "execution_count": 84,
   "id": "87046a64",
   "metadata": {},
   "outputs": [
    {
     "data": {
      "text/plain": [
       "'running func2'"
      ]
     },
     "execution_count": 84,
     "metadata": {},
     "output_type": "execute_result"
    }
   ],
   "source": [
    "# how to see assign function to other function\n",
    "func3 = my_func1\n",
    "func3()"
   ]
  },
  {
   "cell_type": "markdown",
   "id": "65cc617d",
   "metadata": {},
   "source": [
    "### While Loop\n",
    "It repeats the block of codes as long as it's true"
   ]
  },
  {
   "cell_type": "code",
   "execution_count": null,
   "id": "c0a5815f",
   "metadata": {},
   "outputs": [],
   "source": [
    "i= 0\n",
    "while i < 5:\n",
    "    i+1\n",
    "print(i)"
   ]
  },
  {
   "cell_type": "code",
   "execution_count": 93,
   "id": "5e4c5608",
   "metadata": {},
   "outputs": [
    {
     "name": "stdout",
     "output_type": "stream",
     "text": [
      "0\n",
      "1\n",
      "2\n",
      "3\n",
      "4\n"
     ]
    }
   ],
   "source": [
    "i = 0\n",
    "while i < 5:\n",
    "    print(i)\n",
    "    i+=1"
   ]
  },
  {
   "cell_type": "code",
   "execution_count": 95,
   "id": "b1f79e05",
   "metadata": {},
   "outputs": [
    {
     "name": "stdout",
     "output_type": "stream",
     "text": [
      "Please enter your name:hame\n",
      "Hello, hame\n"
     ]
    }
   ],
   "source": [
    "min_length = 2\n",
    "\n",
    "while True:\n",
    "    name = input('Please enter your name:')\n",
    "    if len(name) >= min_length and name.isprintable() and name.isalpha():\n",
    "        break\n",
    "print('Hello, {0}'.format(name))"
   ]
  },
  {
   "cell_type": "code",
   "execution_count": 67,
   "id": "3b9aaa8c",
   "metadata": {},
   "outputs": [
    {
     "name": "stdout",
     "output_type": "stream",
     "text": [
      "False\n"
     ]
    }
   ],
   "source": [
    "# to find out text is alpha or alpha-numeric\n",
    "txt = \"Company10\"\n",
    "\n",
    "x = txt.isalpha()\n",
    "\n",
    "print(x)"
   ]
  },
  {
   "cell_type": "markdown",
   "id": "129a597f",
   "metadata": {},
   "source": [
    "### For Loop\n",
    "It iterates on range(), list[], 'string', tuples()"
   ]
  },
  {
   "cell_type": "code",
   "execution_count": 106,
   "id": "36efea21",
   "metadata": {},
   "outputs": [
    {
     "name": "stdout",
     "output_type": "stream",
     "text": [
      "1 2\n",
      "2 3\n",
      "3 4\n",
      "4 5\n"
     ]
    }
   ],
   "source": [
    "# to iterates on tuple in list and unpack it\n",
    "for i , j in [(1,2), (2,3), (3,4), (4,5)]:\n",
    "    print(i,j)"
   ]
  },
  {
   "cell_type": "code",
   "execution_count": 107,
   "id": "cacece40",
   "metadata": {},
   "outputs": [
    {
     "name": "stdout",
     "output_type": "stream",
     "text": [
      "s\n",
      "t\n",
      "r\n",
      "i\n",
      "n\n",
      "g\n"
     ]
    }
   ],
   "source": [
    "# to iterate over string\n",
    "for i in 'string':\n",
    "    print(i)"
   ]
  },
  {
   "cell_type": "code",
   "execution_count": 73,
   "id": "3672c54d",
   "metadata": {},
   "outputs": [
    {
     "name": "stdout",
     "output_type": "stream",
     "text": [
      "0\n",
      "1\n",
      "2\n",
      "4\n"
     ]
    }
   ],
   "source": [
    "# to continue iterating loop\n",
    "for i in range(5):\n",
    "    if i==3:\n",
    "        \n",
    "    print(i)"
   ]
  },
  {
   "cell_type": "code",
   "execution_count": 136,
   "id": "39c1f4ac",
   "metadata": {},
   "outputs": [
    {
     "name": "stdout",
     "output_type": "stream",
     "text": [
      "1\n",
      "2\n",
      "3\n",
      "4\n",
      "5\n",
      "6\n",
      "7\n"
     ]
    }
   ],
   "source": [
    "# to break the loop\n",
    "for i in range(1,9):\n",
    "    print(i)\n",
    "    if i%7==0:\n",
    "        break\n",
    "    "
   ]
  },
  {
   "cell_type": "code",
   "execution_count": 142,
   "id": "02e0f96a",
   "metadata": {},
   "outputs": [
    {
     "name": "stdout",
     "output_type": "stream",
     "text": [
      "(0, 'h')\n",
      "(1, 'e')\n",
      "(2, 'l')\n",
      "(3, 'l')\n",
      "(4, 'o')\n"
     ]
    }
   ],
   "source": [
    "# use enumerate to get the index\n",
    "s = 'hello'\n",
    "for i in enumerate(s):\n",
    "    print(i)"
   ]
  },
  {
   "cell_type": "markdown",
   "id": "338781a4",
   "metadata": {},
   "source": [
    "# **To make it more bolder**"
   ]
  },
  {
   "cell_type": "code",
   "execution_count": 1,
   "id": "8298ddaa",
   "metadata": {},
   "outputs": [],
   "source": [
    "# ** To make it more bolder**\n",
    "# *to make it slant*"
   ]
  },
  {
   "cell_type": "markdown",
   "id": "5def7356",
   "metadata": {},
   "source": [
    "# *Slant word*"
   ]
  },
  {
   "cell_type": "markdown",
   "id": "55c02ea5",
   "metadata": {},
   "source": [
    "## Factorial & Exponents\n",
    "### To write factorial we have to methods\n",
    "1. from math import factorial\n",
    "2. factorial = 6**6"
   ]
  },
  {
   "cell_type": "code",
   "execution_count": 9,
   "id": "cb958dd8",
   "metadata": {},
   "outputs": [
    {
     "data": {
      "text/plain": [
       "120"
      ]
     },
     "execution_count": 9,
     "metadata": {},
     "output_type": "execute_result"
    }
   ],
   "source": [
    "# let's import library\n",
    "from math import factorial\n",
    "factorial(5) # n! = n * (n-1) * (n-2) * ..."
   ]
  },
  {
   "cell_type": "code",
   "execution_count": 38,
   "id": "e51af217",
   "metadata": {},
   "outputs": [
    {
     "name": "stdout",
     "output_type": "stream",
     "text": [
      "The factorial of 23 is : 25852016738884976640000\n"
     ]
    }
   ],
   "source": [
    "# second using without library\n",
    "n = 23\n",
    "fact = 1\n",
    "  \n",
    "for i in range(1,1+n):\n",
    "    fact = fact * i\n",
    "      \n",
    "print (\"The factorial of 23 is : \",end=\"\")\n",
    "print (fact)"
   ]
  },
  {
   "cell_type": "code",
   "execution_count": 14,
   "id": "907eb716",
   "metadata": {},
   "outputs": [
    {
     "data": {
      "text/plain": [
       "3125"
      ]
     },
     "execution_count": 14,
     "metadata": {},
     "output_type": "execute_result"
    }
   ],
   "source": [
    "# Exponents are n^n = n * n * n * ...\n",
    "5**5 #5*5*5*5*5"
   ]
  },
  {
   "cell_type": "markdown",
   "id": "7daf4d0e",
   "metadata": {},
   "source": [
    "#### Strings can be concatenated (glued together) with the + operator, and repeated with *:"
   ]
  },
  {
   "cell_type": "code",
   "execution_count": 15,
   "id": "e1b57480",
   "metadata": {},
   "outputs": [
    {
     "data": {
      "text/plain": [
       "'unununium'"
      ]
     },
     "execution_count": 15,
     "metadata": {},
     "output_type": "execute_result"
    }
   ],
   "source": [
    "3 * 'un' + 'ium' #https://docs.python.org/3/tutorial/introduction.html"
   ]
  },
  {
   "cell_type": "code",
   "execution_count": 20,
   "id": "9a4b31fd",
   "metadata": {},
   "outputs": [],
   "source": [
    "q='python'"
   ]
  },
  {
   "cell_type": "code",
   "execution_count": 25,
   "id": "173055a7",
   "metadata": {},
   "outputs": [
    {
     "name": "stdout",
     "output_type": "stream",
     "text": [
      "python\n"
     ]
    }
   ],
   "source": [
    "print(q[:4] +q[4:])"
   ]
  },
  {
   "cell_type": "code",
   "execution_count": 29,
   "id": "210fad81",
   "metadata": {},
   "outputs": [
    {
     "name": "stdout",
     "output_type": "stream",
     "text": [
      "0\n",
      "1\n",
      "1\n",
      "2\n",
      "3\n",
      "5\n",
      "8\n"
     ]
    }
   ],
   "source": [
    "a, b = 0,1\n",
    "while a < 10:\n",
    "    print(a)\n",
    "    a, b = b, a+b"
   ]
  },
  {
   "cell_type": "code",
   "execution_count": 54,
   "id": "a4387a59",
   "metadata": {},
   "outputs": [
    {
     "name": "stdout",
     "output_type": "stream",
     "text": [
      "enter the digit5\n",
      "5\n",
      "10\n",
      "30\n",
      "120\n"
     ]
    }
   ],
   "source": [
    "x=int(input('enter the digit'))\n",
    "\n",
    "for i in range(1, x):\n",
    "    x = x*i\n",
    "    print(x)\n"
   ]
  },
  {
   "cell_type": "code",
   "execution_count": null,
   "id": "f21d8fd0",
   "metadata": {},
   "outputs": [],
   "source": [
    "def x(a,b):\n",
    "    result(a+b)\n",
    "    print(result);\n",
    "    \n",
    "c = int(input())\n",
    "d = int(input())\n",
    "y = (c+d)\n",
    "print(y)"
   ]
  },
  {
   "cell_type": "markdown",
   "id": "1f3de034",
   "metadata": {},
   "source": [
    "Task\n",
    "Given an integer, , perform the following conditional actions:\n",
    "\n",
    "If  is odd, print Weird\n",
    "If  is even and in the inclusive range of  to , print Not Weird\n",
    "If  is even and in the inclusive range of  to , print Weird\n",
    "If  is even and greater than , print Not Weird"
   ]
  },
  {
   "cell_type": "code",
   "execution_count": 44,
   "id": "b3d9c539",
   "metadata": {},
   "outputs": [
    {
     "name": "stdout",
     "output_type": "stream",
     "text": [
      "20\n",
      "Not Weird\n"
     ]
    }
   ],
   "source": [
    "n = int(input())\n",
    "\n",
    "if n % 2 == 1:\n",
    "    print('Weird')\n",
    "elif n <=5:\n",
    "    print('Not Weird')\n",
    "elif <=20 and n % 2 == 0:\n",
    "    print('Weird')\n",
    "# elif n > 20 and n % 2 == 0:\n",
    "#     print('Not Weird')\n",
    "else:\n",
    "    print('Not Weird')\n",
    "    \n",
    "\n"
   ]
  },
  {
   "cell_type": "markdown",
   "id": "94057859",
   "metadata": {},
   "source": [
    "from sklearn import svm, datasets\n",
    "from sklearn.model_selection import cross_val_score\n",
    "X, y = datasets.load_iris(return_X_y=True)"
   ]
  },
  {
   "cell_type": "code",
   "execution_count": 45,
   "id": "1f9e50b0",
   "metadata": {},
   "outputs": [],
   "source": [
    "from sklearn import svm, datasets \n",
    "from sklearn.model_selection import cross_val_score\n",
    "X, y = datasets.load_iris(return_X_y=True)"
   ]
  },
  {
   "cell_type": "code",
   "execution_count": 49,
   "id": "dc448411",
   "metadata": {},
   "outputs": [],
   "source": [
    "import pandas as pd\n",
    "import numpy as np\n",
    "df = pd.DataFrame(X,y)"
   ]
  },
  {
   "cell_type": "code",
   "execution_count": 51,
   "id": "8fda73ac",
   "metadata": {},
   "outputs": [
    {
     "name": "stdout",
     "output_type": "stream",
     "text": [
      "<class 'pandas.core.frame.DataFrame'>\n",
      "Int64Index: 150 entries, 0 to 2\n",
      "Data columns (total 4 columns):\n",
      " #   Column  Non-Null Count  Dtype  \n",
      "---  ------  --------------  -----  \n",
      " 0   0       150 non-null    float64\n",
      " 1   1       150 non-null    float64\n",
      " 2   2       150 non-null    float64\n",
      " 3   3       150 non-null    float64\n",
      "dtypes: float64(4)\n",
      "memory usage: 5.9 KB\n"
     ]
    }
   ],
   "source": [
    "df.info()"
   ]
  },
  {
   "cell_type": "markdown",
   "id": "00f57b6a",
   "metadata": {},
   "source": [
    "### Hacker Rank - 30 Days Code Challege"
   ]
  },
  {
   "cell_type": "markdown",
   "id": "1c94465f",
   "metadata": {},
   "source": [
    "#### Day 1"
   ]
  },
  {
   "cell_type": "code",
   "execution_count": 4,
   "id": "33addb80",
   "metadata": {},
   "outputs": [],
   "source": [
    "import numpy as np\n",
    "import pandas as pd\n",
    "i = 5\n",
    "d= 12.0\n",
    "s= \"let's do it!\""
   ]
  },
  {
   "cell_type": "code",
   "execution_count": 14,
   "id": "fff97213",
   "metadata": {},
   "outputs": [],
   "source": [
    "# day 2\n",
    "def solve(meal_cost):\n",
    "    tip_percent = meal_cost*20/100\n",
    "    tax_percent = meal_cost*8/100\n",
    "    total_cost = meal_cost + tip_percent + tax_percent\n",
    "    print(round(total_cost))\n"
   ]
  },
  {
   "cell_type": "code",
   "execution_count": 15,
   "id": "0574c125",
   "metadata": {},
   "outputs": [
    {
     "name": "stdout",
     "output_type": "stream",
     "text": [
      "15\n"
     ]
    }
   ],
   "source": [
    "solve(12)"
   ]
  },
  {
   "cell_type": "code",
   "execution_count": 2,
   "id": "48be7654",
   "metadata": {},
   "outputs": [
    {
     "name": "stdout",
     "output_type": "stream",
     "text": [
      "35\n",
      "Weird\n"
     ]
    }
   ],
   "source": [
    "# Day 3 Compare the triplets\n",
    "\n",
    "N = int(input())\n",
    "\n",
    "if N % 2 == 1:\n",
    "    print('Weird')\n",
    "elif N <=5:\n",
    "    print('Not Weird')\n",
    "elif N <=20 and n % 2 == 0:\n",
    "    print('Weird')\n",
    "# elif n > 20 and n % 2 == 0:\n",
    "#     print('Not Weird')\n",
    "else:\n",
    "    print('Not Weird')"
   ]
  },
  {
   "cell_type": "code",
   "execution_count": null,
   "id": "c828bd52",
   "metadata": {},
   "outputs": [],
   "source": [
    "# Day 4 Class Vs Instance\n"
   ]
  },
  {
   "cell_type": "code",
   "execution_count": 16,
   "id": "69393af0",
   "metadata": {},
   "outputs": [],
   "source": [
    "import numpy as np"
   ]
  },
  {
   "cell_type": "code",
   "execution_count": 19,
   "id": "2c81709a",
   "metadata": {},
   "outputs": [
    {
     "data": {
      "text/plain": [
       "array([[ 2,  7,  1],\n",
       "       [-2,  1,  8],\n",
       "       [ 3,  4, -2]])"
      ]
     },
     "execution_count": 19,
     "metadata": {},
     "output_type": "execute_result"
    }
   ],
   "source": [
    "a = np.array([[2,7,1],[-2,1,8],[3,4,-2]])\n",
    "b = np.array([[8,1,3], [3,5,8], [7,-2,-4]])\n",
    "a"
   ]
  },
  {
   "cell_type": "code",
   "execution_count": 18,
   "id": "5baaec73",
   "metadata": {},
   "outputs": [
    {
     "data": {
      "text/plain": [
       "array([[ 44,  35,  58],\n",
       "       [ 43, -13, -30],\n",
       "       [ 22,  27,  49]])"
      ]
     },
     "execution_count": 18,
     "metadata": {},
     "output_type": "execute_result"
    }
   ],
   "source": [
    "c = a @ b\n",
    "c"
   ]
  },
  {
   "cell_type": "code",
   "execution_count": 20,
   "id": "b4ebcbb1",
   "metadata": {},
   "outputs": [
    {
     "data": {
      "text/plain": [
       "array([[2, 1, 1],\n",
       "       [3, 2, 1],\n",
       "       [2, 1, 2]])"
      ]
     },
     "execution_count": 20,
     "metadata": {},
     "output_type": "execute_result"
    }
   ],
   "source": [
    "### matrix inverse\n",
    "x = np.array([[2,1,1], [3,2,1], [2,1,2]])\n",
    "x"
   ]
  },
  {
   "cell_type": "code",
   "execution_count": 22,
   "id": "422aa196",
   "metadata": {},
   "outputs": [
    {
     "data": {
      "text/plain": [
       "array([[ 3., -1., -1.],\n",
       "       [-4.,  2.,  1.],\n",
       "       [-1.,  0.,  1.]])"
      ]
     },
     "execution_count": 22,
     "metadata": {},
     "output_type": "execute_result"
    }
   ],
   "source": [
    "y = np.linalg.inv(x)\n",
    "y"
   ]
  },
  {
   "cell_type": "code",
   "execution_count": 25,
   "id": "d6e99f5c",
   "metadata": {},
   "outputs": [
    {
     "data": {
      "text/plain": [
       "array([[2., 1., 1.],\n",
       "       [3., 2., 1.],\n",
       "       [2., 1., 2.]])"
      ]
     },
     "execution_count": 25,
     "metadata": {},
     "output_type": "execute_result"
    }
   ],
   "source": [
    "z = np.linalg.inv(y)\n",
    "z"
   ]
  },
  {
   "cell_type": "code",
   "execution_count": 52,
   "id": "966a0ad7",
   "metadata": {},
   "outputs": [
    {
     "data": {
      "text/plain": [
       "array([[-4,  2],\n",
       "       [-6,  3]])"
      ]
     },
     "execution_count": 52,
     "metadata": {},
     "output_type": "execute_result"
    }
   ],
   "source": [
    "a = np.array([[-4,2], [-6,3]])\n",
    "a"
   ]
  },
  {
   "cell_type": "code",
   "execution_count": 47,
   "id": "b80fcc67",
   "metadata": {},
   "outputs": [],
   "source": [
    "c = np.linalg.inv(b)"
   ]
  },
  {
   "cell_type": "code",
   "execution_count": 42,
   "id": "56b897dd",
   "metadata": {},
   "outputs": [
    {
     "data": {
      "text/plain": [
       "array([[ 4., -3.],\n",
       "       [18., -9.]])"
      ]
     },
     "execution_count": 42,
     "metadata": {},
     "output_type": "execute_result"
    }
   ],
   "source": [
    "c"
   ]
  },
  {
   "cell_type": "code",
   "execution_count": 44,
   "id": "17a1020d",
   "metadata": {},
   "outputs": [
    {
     "data": {
      "text/plain": [
       "0.16666666666666666"
      ]
     },
     "execution_count": 44,
     "metadata": {},
     "output_type": "execute_result"
    }
   ],
   "source": [
    "1/6"
   ]
  },
  {
   "cell_type": "markdown",
   "id": "4b3ae9ec",
   "metadata": {},
   "source": [
    "$$ x_i = \\left( \\begin{array}{c} w_i \\\\ h_i \\\\ l_i \\end{array} \\right) \\quad\\text{and}\\quad x_i^T = \\left( w_i, h_i, l_i \\right)\\,. $$"
   ]
  },
  {
   "cell_type": "code",
   "execution_count": null,
   "id": "f109cf30",
   "metadata": {},
   "outputs": [],
   "source": [
    "$$ x_i = \\left( \\begin{array}{c} w_i \\\\ h_i \\\\ l_i \\end{array} \\right) \\quad\\text{and}\\quad x_i^T = \\left( w_i, h_i, l_i \\right)\\,. $$"
   ]
  },
  {
   "cell_type": "code",
   "execution_count": 13,
   "id": "dbccce10",
   "metadata": {},
   "outputs": [],
   "source": [
    "import numpy as np\n",
    "a = np.array([[7,3],[3,1]])\n",
    "b= np.array([3,1])"
   ]
  },
  {
   "cell_type": "code",
   "execution_count": 14,
   "id": "1e6683a9",
   "metadata": {},
   "outputs": [
    {
     "data": {
      "text/plain": [
       "array([[7, 3],\n",
       "       [3, 1]])"
      ]
     },
     "execution_count": 14,
     "metadata": {},
     "output_type": "execute_result"
    }
   ],
   "source": [
    "a"
   ]
  },
  {
   "cell_type": "code",
   "execution_count": 15,
   "id": "26911a33",
   "metadata": {},
   "outputs": [
    {
     "data": {
      "text/plain": [
       "array([24, 10])"
      ]
     },
     "execution_count": 15,
     "metadata": {},
     "output_type": "execute_result"
    }
   ],
   "source": [
    "c = a @ b\n",
    "c"
   ]
  },
  {
   "cell_type": "code",
   "execution_count": 16,
   "id": "fb1d9f2b",
   "metadata": {},
   "outputs": [
    {
     "data": {
      "text/plain": [
       "array([[-0.5,  1.5],\n",
       "       [ 1.5, -3.5]])"
      ]
     },
     "execution_count": 16,
     "metadata": {},
     "output_type": "execute_result"
    }
   ],
   "source": [
    "d = np.linalg.inv(a)\n",
    "d"
   ]
  },
  {
   "cell_type": "code",
   "execution_count": 7,
   "id": "224e6b43",
   "metadata": {},
   "outputs": [
    {
     "name": "stdout",
     "output_type": "stream",
     "text": [
      "1\n",
      "2\n",
      "3\n",
      "4\n",
      "1\n",
      "2\n",
      "3\n",
      "4\n",
      "1\n",
      "2\n",
      "3\n",
      "4\n",
      "1\n",
      "2\n",
      "3\n",
      "4\n"
     ]
    }
   ],
   "source": [
    "import pandas as pd\n",
    "import numpy as np\n",
    "\n",
    "i = 1\n",
    "while i < 5:\n",
    "    j=1\n",
    "    while j < 5:\n",
    "        print(j)\n",
    "        j=j+1\n",
    "    i=i+1"
   ]
  },
  {
   "cell_type": "code",
   "execution_count": 27,
   "id": "2b5179cb",
   "metadata": {},
   "outputs": [
    {
     "name": "stdout",
     "output_type": "stream",
     "text": [
      "*\n",
      "**\n",
      "***\n",
      "****\n",
      "*****\n"
     ]
    }
   ],
   "source": [
    "# Pymarid printing of 5 rows\n",
    "\n",
    "i = 1\n",
    "\n",
    "while i <= 5:\n",
    "    j = 1\n",
    "    while j <= i:\n",
    "        print('*', end='')\n",
    "        j = j + 1\n",
    "    print()\n",
    "    i = i +1\n"
   ]
  },
  {
   "cell_type": "code",
   "execution_count": 37,
   "id": "70030b26",
   "metadata": {},
   "outputs": [
    {
     "name": "stdout",
     "output_type": "stream",
     "text": [
      "1\n",
      "22\n",
      "333\n",
      "4444\n",
      "55555\n"
     ]
    }
   ],
   "source": [
    "# pyramind printing of 1 to 5 digits in each rows with same number of digit counts\n",
    "i = 1\n",
    "while i <= 5:\n",
    "    j = 1\n",
    "    while j <= i:\n",
    "        print(i, end='')\n",
    "        j = j+1\n",
    "    print()\n",
    "    i = i+1\n",
    "\n"
   ]
  },
  {
   "cell_type": "code",
   "execution_count": 38,
   "id": "8c4437f7",
   "metadata": {},
   "outputs": [
    {
     "name": "stdout",
     "output_type": "stream",
     "text": [
      "1\n",
      "12\n",
      "123\n",
      "1234\n",
      "12345\n"
     ]
    }
   ],
   "source": [
    "# pyramind printing of 1 to 5 digits in sequence in each rows\n",
    "i = 1\n",
    "while i <= 5:\n",
    "    j = 1\n",
    "    while j <= i:\n",
    "        print(j, end='')\n",
    "        j = j+1\n",
    "    print()\n",
    "    i = i+1"
   ]
  },
  {
   "cell_type": "markdown",
   "id": "703b8654",
   "metadata": {},
   "source": [
    "### Fibonacci Series Practice"
   ]
  },
  {
   "cell_type": "code",
   "execution_count": 20,
   "id": "df6e3b1b",
   "metadata": {},
   "outputs": [],
   "source": [
    "def fib(n):\n",
    "    a = 0\n",
    "    b = 1\n",
    "    print(a)\n",
    "    print(b)\n",
    "    for i in range(2, n):\n",
    "        c= a+b\n",
    "        a= b\n",
    "        b= c\n",
    "        print(c)\n",
    "    \n"
   ]
  },
  {
   "cell_type": "code",
   "execution_count": 21,
   "id": "1bb4f417",
   "metadata": {},
   "outputs": [
    {
     "name": "stdout",
     "output_type": "stream",
     "text": [
      "0\n",
      "1\n",
      "1\n",
      "2\n",
      "3\n",
      "5\n",
      "8\n",
      "13\n",
      "21\n",
      "34\n"
     ]
    }
   ],
   "source": [
    "fib(10)"
   ]
  },
  {
   "cell_type": "code",
   "execution_count": 81,
   "id": "41b48260",
   "metadata": {},
   "outputs": [
    {
     "name": "stdout",
     "output_type": "stream",
     "text": [
      "Enter the digit: 5\n",
      "0\n",
      "1\n",
      "1\n",
      "2\n",
      "3\n"
     ]
    }
   ],
   "source": [
    "# Other way to write fibnacci series\n",
    "def fib(n):\n",
    "        if n == 1:\n",
    "            return 0\n",
    "        if n == 2:\n",
    "            return 1\n",
    "        return(fib(n-1) + fib(n-2))\n",
    "\n",
    "n = int(input('Enter the digit: '))\n",
    "for i in range(1,n+1):\n",
    "    print(fib(i))\n",
    "    "
   ]
  },
  {
   "cell_type": "code",
   "execution_count": 79,
   "id": "18c6bdbf",
   "metadata": {},
   "outputs": [
    {
     "data": {
      "text/plain": [
       "3"
      ]
     },
     "execution_count": 79,
     "metadata": {},
     "output_type": "execute_result"
    }
   ],
   "source": []
  },
  {
   "cell_type": "markdown",
   "id": "b32747bb",
   "metadata": {},
   "source": [
    "### Factorial\n",
    "    "
   ]
  },
  {
   "cell_type": "code",
   "execution_count": 2,
   "id": "4b1254ef",
   "metadata": {},
   "outputs": [
    {
     "name": "stdout",
     "output_type": "stream",
     "text": [
      "Enter the digit: 5\n",
      "Factorial:  120\n"
     ]
    }
   ],
   "source": [
    "def fact(n):\n",
    "    if n == 1:\n",
    "        return 1\n",
    "    else:\n",
    "        return(n*fact(n-1))\n",
    "n = int(input('Enter the digit: '))\n",
    "z = fact(n)\n",
    "print('Factorial: ', z)"
   ]
  },
  {
   "cell_type": "code",
   "execution_count": 22,
   "id": "5bac3d51",
   "metadata": {},
   "outputs": [
    {
     "name": "stdout",
     "output_type": "stream",
     "text": [
      "1\n",
      "5\n",
      "25\n"
     ]
    }
   ],
   "source": [
    "# how to print factor of any number\n",
    "n = 25\n",
    "for i in range(1,n+1):\n",
    "    if n%i==0:\n",
    "        print(i)\n",
    "    "
   ]
  },
  {
   "cell_type": "markdown",
   "id": "d82294d4",
   "metadata": {},
   "source": [
    "### Find the nth largest number"
   ]
  },
  {
   "cell_type": "code",
   "execution_count": 36,
   "id": "720036ad",
   "metadata": {},
   "outputs": [
    {
     "data": {
      "text/plain": [
       "[0, 3, 4, 5, 6, 7, 9, 12, 22, 34]"
      ]
     },
     "execution_count": 36,
     "metadata": {},
     "output_type": "execute_result"
    }
   ],
   "source": [
    "l = [4,5,3,7,9,0,12,34,22,5,6,7,0]\n",
    "n=3\n",
    "sorted(list(set(l)))\n"
   ]
  },
  {
   "cell_type": "code",
   "execution_count": 84,
   "id": "4f06bab9",
   "metadata": {},
   "outputs": [
    {
     "name": "stdout",
     "output_type": "stream",
     "text": [
      "     student      grade\n",
      "0     monica  excellent\n",
      "1   nathalia  excellent\n",
      "2  anastasia       good\n",
      "3     marina  very good\n",
      "4        ema       good\n"
     ]
    }
   ],
   "source": [
    "import pandas as pd\n",
    "df = pd.DataFrame({\n",
    "        'student': [\n",
    "            'monica', 'nathalia', 'anastasia', 'marina', 'ema'\n",
    "        ],\n",
    "\n",
    "    'grade' : ['excellent', 'excellent', 'good', 'very good', 'good'\n",
    "    ]\n",
    "    })\n",
    "\n",
    "print (df)\n",
    "    "
   ]
  },
  {
   "cell_type": "code",
   "execution_count": 99,
   "id": "633df89d",
   "metadata": {},
   "outputs": [
    {
     "data": {
      "text/html": [
       "<div>\n",
       "<style scoped>\n",
       "    .dataframe tbody tr th:only-of-type {\n",
       "        vertical-align: middle;\n",
       "    }\n",
       "\n",
       "    .dataframe tbody tr th {\n",
       "        vertical-align: top;\n",
       "    }\n",
       "\n",
       "    .dataframe thead th {\n",
       "        text-align: right;\n",
       "    }\n",
       "</style>\n",
       "<table border=\"1\" class=\"dataframe\">\n",
       "  <thead>\n",
       "    <tr style=\"text-align: right;\">\n",
       "      <th></th>\n",
       "      <th>student</th>\n",
       "      <th>grade</th>\n",
       "    </tr>\n",
       "  </thead>\n",
       "  <tbody>\n",
       "    <tr>\n",
       "      <th>0</th>\n",
       "      <td>monica</td>\n",
       "      <td>excellent</td>\n",
       "    </tr>\n",
       "    <tr>\n",
       "      <th>1</th>\n",
       "      <td>nathalia</td>\n",
       "      <td>excellent</td>\n",
       "    </tr>\n",
       "    <tr>\n",
       "      <th>2</th>\n",
       "      <td>anastasia</td>\n",
       "      <td>good</td>\n",
       "    </tr>\n",
       "    <tr>\n",
       "      <th>3</th>\n",
       "      <td>marina</td>\n",
       "      <td>very good</td>\n",
       "    </tr>\n",
       "    <tr>\n",
       "      <th>4</th>\n",
       "      <td>ema</td>\n",
       "      <td>good</td>\n",
       "    </tr>\n",
       "  </tbody>\n",
       "</table>\n",
       "</div>"
      ],
      "text/plain": [
       "     student      grade\n",
       "0     monica  excellent\n",
       "1   nathalia  excellent\n",
       "2  anastasia       good\n",
       "3     marina  very good\n",
       "4        ema       good"
      ]
     },
     "execution_count": 99,
     "metadata": {},
     "output_type": "execute_result"
    }
   ],
   "source": [
    "df.sort_index(axis=0, inplace=False)"
   ]
  },
  {
   "cell_type": "code",
   "execution_count": 100,
   "id": "3a5ccdd2",
   "metadata": {},
   "outputs": [
    {
     "data": {
      "text/plain": [
       "256"
      ]
     },
     "execution_count": 100,
     "metadata": {},
     "output_type": "execute_result"
    }
   ],
   "source": [
    "16**2"
   ]
  },
  {
   "cell_type": "code",
   "execution_count": 4,
   "id": "463c1679",
   "metadata": {},
   "outputs": [
    {
     "name": "stdout",
     "output_type": "stream",
     "text": [
      "0000\n",
      "0110\n",
      "0110\n",
      "0000\n"
     ]
    }
   ],
   "source": [
    "n=4\n",
    "for i in range(n):\n",
    "    for j in range(n):\n",
    "        if i==0 or i== n-1 or j==0 or j==n-1:\n",
    "            print(0,end=\"\")\n",
    "        else:\n",
    "            print(1, end=\"\")\n",
    "    print()"
   ]
  },
  {
   "cell_type": "code",
   "execution_count": 10,
   "id": "a5ae7a0d",
   "metadata": {},
   "outputs": [],
   "source": [
    "L=[]\n",
    "for i in range(n):\n",
    "    t = []\n",
    "    for j in range(n):\n",
    "        if i==0 or i== n-1 or j==0 or j==n-1:\n",
    "            t.append(0)\n",
    "        else:\n",
    "            t.append(1)\n",
    "    L.append(t)"
   ]
  },
  {
   "cell_type": "code",
   "execution_count": 11,
   "id": "2d6c67f3",
   "metadata": {},
   "outputs": [
    {
     "data": {
      "text/plain": [
       "[[0, 0, 0, 0], [0, 1, 1, 0], [0, 1, 1, 0], [0, 0, 0, 0]]"
      ]
     },
     "execution_count": 11,
     "metadata": {},
     "output_type": "execute_result"
    }
   ],
   "source": [
    "L"
   ]
  },
  {
   "cell_type": "code",
   "execution_count": 15,
   "id": "ad6ef829",
   "metadata": {},
   "outputs": [
    {
     "name": "stdout",
     "output_type": "stream",
     "text": [
      "111111\n",
      "100001\n",
      "100001\n",
      "100001\n",
      "100001\n",
      "111111\n"
     ]
    }
   ],
   "source": [
    "# print Z using 1 and 0\n",
    "n=6\n",
    "for i in range(n):\n",
    "    for j in range(n):\n",
    "        if i==0 or i== n-1 or j==0 or j==n-1:\n",
    "            print(1,end='')\n",
    "        else:\n",
    "            print(0,end='')\n",
    "    print()"
   ]
  },
  {
   "cell_type": "code",
   "execution_count": 18,
   "id": "1ed92163",
   "metadata": {},
   "outputs": [],
   "source": [
    "# using list\n",
    "n = 6\n",
    "o = []\n",
    "for i in range(n):\n",
    "    t = []\n",
    "    for j in range(n):\n",
    "        if i==0 or i==n-1 or j==0 or j==n-1:\n",
    "            t.append(1)\n",
    "        else:\n",
    "            t.append(0)\n",
    "    o.append(t)\n",
    "    \n",
    "    "
   ]
  },
  {
   "cell_type": "code",
   "execution_count": 19,
   "id": "1522f7a0",
   "metadata": {},
   "outputs": [
    {
     "data": {
      "text/plain": [
       "[[1, 1, 1, 1, 1, 1],\n",
       " [1, 0, 0, 0, 0, 1],\n",
       " [1, 0, 0, 0, 0, 1],\n",
       " [1, 0, 0, 0, 0, 1],\n",
       " [1, 0, 0, 0, 0, 1],\n",
       " [1, 1, 1, 1, 1, 1]]"
      ]
     },
     "execution_count": 19,
     "metadata": {},
     "output_type": "execute_result"
    }
   ],
   "source": [
    "o"
   ]
  },
  {
   "cell_type": "code",
   "execution_count": null,
   "id": "6ad77342",
   "metadata": {},
   "outputs": [],
   "source": [
    "#create a pattern\n",
    "l=[]\n",
    "for i in range(1,input1+1):\n",
    "    l.append('_'*(input1-1)+'*'*i)\n",
    "return 1\n",
    "pass"
   ]
  },
  {
   "cell_type": "code",
   "execution_count": 48,
   "id": "a5486428",
   "metadata": {},
   "outputs": [
    {
     "name": "stdout",
     "output_type": "stream",
     "text": [
      "Enter digit: 18\n"
     ]
    }
   ],
   "source": [
    "for i in range():\n",
    "    if i= int(input('Enter digit: '))"
   ]
  },
  {
   "cell_type": "markdown",
   "id": "b0f937a8",
   "metadata": {},
   "source": [
    "#### write a program to print each number as count of it's own."
   ]
  },
  {
   "cell_type": "code",
   "execution_count": 13,
   "id": "bd17cd0d",
   "metadata": {},
   "outputs": [
    {
     "name": "stdout",
     "output_type": "stream",
     "text": [
      "Enter the digit: 3\n",
      "1\n",
      "2\n",
      "2\n",
      "3\n",
      "3\n",
      "3\n"
     ]
    }
   ],
   "source": [
    "n = int(input('Enter the digit: '))\n",
    "for i in range(n+1):\n",
    "    for j in range(i):\n",
    "        print(i)"
   ]
  },
  {
   "cell_type": "markdown",
   "id": "8e8cdd1c",
   "metadata": {},
   "source": [
    "#### write a program to print prime number between 1 to 20."
   ]
  },
  {
   "cell_type": "code",
   "execution_count": 27,
   "id": "1d25b2c5",
   "metadata": {},
   "outputs": [
    {
     "name": "stdout",
     "output_type": "stream",
     "text": [
      "1\n",
      "2\n",
      "3\n",
      "4 is not a prime number 2\n",
      "5\n",
      "6 is not a prime number 2\n",
      "7\n",
      "8 is not a prime number 2\n",
      "9 is not a prime number 3\n",
      "10 is not a prime number 2\n",
      "11\n",
      "12 is not a prime number 2\n",
      "13\n",
      "14 is not a prime number 2\n",
      "15 is not a prime number 3\n",
      "16 is not a prime number 2\n",
      "17\n",
      "18 is not a prime number 2\n",
      "19\n"
     ]
    }
   ],
   "source": [
    "# n = int(input('Enter the digit: '))\n",
    "for i in range(1,20):\n",
    "    flag=True\n",
    "    for j in range(2,i):\n",
    "        if i%j==0:\n",
    "            print(i,'is not a prime number', j)\n",
    "            flag=False\n",
    "            break\n",
    "    if flag==True:\n",
    "        print(i)\n",
    "            "
   ]
  },
  {
   "cell_type": "code",
   "execution_count": null,
   "id": "ea57fbaa",
   "metadata": {},
   "outputs": [],
   "source": [
    "as=1\n",
    "as"
   ]
  },
  {
   "cell_type": "code",
   "execution_count": 1,
   "id": "0c7ffa51",
   "metadata": {},
   "outputs": [
    {
     "name": "stdout",
     "output_type": "stream",
     "text": [
      "0\n"
     ]
    }
   ],
   "source": [
    "L=[2, 3, 4, 2, 1, 2, 3]\n",
    "print(L.index(2))"
   ]
  },
  {
   "cell_type": "code",
   "execution_count": 10,
   "id": "71a56386",
   "metadata": {},
   "outputs": [
    {
     "data": {
      "text/plain": [
       "3"
      ]
     },
     "execution_count": 10,
     "metadata": {},
     "output_type": "execute_result"
    }
   ],
   "source": [
    "L = [2, 1, 2, 4, 5, 3, 6]\n",
    "K = L.index(4)\n",
    "# K= 4 in L\n",
    "K"
   ]
  },
  {
   "cell_type": "code",
   "execution_count": 14,
   "id": "e66e6daf",
   "metadata": {},
   "outputs": [],
   "source": [
    "B = [45, 35, 25]\n",
    "A = [10, 20, 30]"
   ]
  },
  {
   "cell_type": "code",
   "execution_count": 15,
   "id": "9defc255",
   "metadata": {},
   "outputs": [
    {
     "data": {
      "text/plain": [
       "[45, 35, 25, 10, 20, 30]"
      ]
     },
     "execution_count": 15,
     "metadata": {},
     "output_type": "execute_result"
    }
   ],
   "source": [
    "B.extend(A)\n",
    "B"
   ]
  },
  {
   "cell_type": "markdown",
   "id": "a5846d89",
   "metadata": {},
   "source": [
    "### Calendar clash (Wedding Date)"
   ]
  },
  {
   "cell_type": "code",
   "execution_count": 21,
   "id": "a1244652",
   "metadata": {},
   "outputs": [
    {
     "name": "stdout",
     "output_type": "stream",
     "text": [
      "28\n",
      "0\n"
     ]
    }
   ],
   "source": [
    "list1=[ [29,31], [23,26], [24,25] ]\n",
    "wed_date=int(input())\n",
    "\n",
    "clash=0\n",
    "for i in list1:\n",
    "    if i[0] <= wed_date and i[1] >= wed_date:\n",
    "        clash=clash+1\n",
    "print(clash)"
   ]
  },
  {
   "cell_type": "code",
   "execution_count": 18,
   "id": "b5a07f34",
   "metadata": {},
   "outputs": [
    {
     "name": "stdout",
     "output_type": "stream",
     "text": [
      "[29, 31]\n",
      "[23, 26]\n",
      "[24, 25]\n"
     ]
    }
   ],
   "source": [
    "for i in list1:\n",
    "    print(i)"
   ]
  },
  {
   "cell_type": "code",
   "execution_count": 22,
   "id": "59f38b54",
   "metadata": {},
   "outputs": [
    {
     "name": "stdout",
     "output_type": "stream",
     "text": [
      "3\n"
     ]
    }
   ],
   "source": [
    "print(chr(51))"
   ]
  },
  {
   "cell_type": "code",
   "execution_count": 28,
   "id": "10bae74e",
   "metadata": {},
   "outputs": [
    {
     "name": "stdout",
     "output_type": "stream",
     "text": [
      "3 ( 51 )\n",
      "6 ( 54 )\n"
     ]
    }
   ],
   "source": [
    "# finding the ASCII value of an integer\n",
    "def convertToASCII(N):\n",
    " \n",
    "    num = str(N)\n",
    "#     i = 0\n",
    "     \n",
    "    for ch in num:\n",
    "        print(ch, \"(\", ord(ch), \")\")\n",
    " \n",
    "# Driver Code\n",
    "N = 36\n",
    " \n",
    "convertToASCII(N)"
   ]
  },
  {
   "cell_type": "code",
   "execution_count": 41,
   "id": "c4c1934d",
   "metadata": {},
   "outputs": [
    {
     "data": {
      "text/plain": [
       "'beesting'"
      ]
     },
     "execution_count": 41,
     "metadata": {},
     "output_type": "execute_result"
    }
   ],
   "source": [
    "S=' sting  '\n",
    "a = S.strip()\n",
    "b='bee'\n",
    "c=b+a\n",
    "c"
   ]
  },
  {
   "cell_type": "code",
   "execution_count": 29,
   "id": "a2199300",
   "metadata": {},
   "outputs": [
    {
     "data": {
      "text/plain": [
       "'{'"
      ]
     },
     "execution_count": 29,
     "metadata": {},
     "output_type": "execute_result"
    }
   ],
   "source": [
    "chr(123)"
   ]
  },
  {
   "cell_type": "markdown",
   "id": "6705652b",
   "metadata": {},
   "source": [
    "### finding the longest common prefix in two strings"
   ]
  },
  {
   "cell_type": "code",
   "execution_count": 47,
   "id": "e3e4efc3",
   "metadata": {},
   "outputs": [
    {
     "name": "stdout",
     "output_type": "stream",
     "text": [
      "program\n"
     ]
    }
   ],
   "source": [
    "s1=\"programsbuzz\"\n",
    "s2=\"programming\"\n",
    "\n",
    "l1 = len(s1)\n",
    "l2 = len(s2)\n",
    "l3 = min(l1,l2)\n",
    "l3\n",
    "\n",
    "for i in range(l3):\n",
    "    if s1[i]!=s2[i]:\n",
    "        break\n",
    "if i == 0:\n",
    "    print(-1)\n",
    "else:\n",
    "    print(s1[:i])"
   ]
  },
  {
   "cell_type": "code",
   "execution_count": 53,
   "id": "45ea700b",
   "metadata": {},
   "outputs": [
    {
     "data": {
      "text/plain": [
       "9"
      ]
     },
     "execution_count": 53,
     "metadata": {},
     "output_type": "execute_result"
    }
   ],
   "source": [
    "a='diversity'\n",
    "z='universit'\n",
    "d=len(z)\n",
    "b=len(a)\n",
    "c=min(b,d)\n",
    "c"
   ]
  },
  {
   "cell_type": "markdown",
   "id": "33b6ea05",
   "metadata": {},
   "source": [
    "### Comprehension"
   ]
  },
  {
   "cell_type": "code",
   "execution_count": 10,
   "id": "77822bb0",
   "metadata": {},
   "outputs": [],
   "source": [
    "# list comprehension\n",
    "L1 = [10, 20, 30, 24, 18]"
   ]
  },
  {
   "cell_type": "code",
   "execution_count": 17,
   "id": "d53b548e",
   "metadata": {},
   "outputs": [],
   "source": [
    "l3=[]\n",
    "for i in L1:\n",
    "    l3.append(i)"
   ]
  },
  {
   "cell_type": "code",
   "execution_count": 18,
   "id": "fecda5e1",
   "metadata": {},
   "outputs": [
    {
     "data": {
      "text/plain": [
       "[10, 20, 30, 24, 18]"
      ]
     },
     "execution_count": 18,
     "metadata": {},
     "output_type": "execute_result"
    }
   ],
   "source": [
    "l3"
   ]
  },
  {
   "cell_type": "code",
   "execution_count": 27,
   "id": "e067990c",
   "metadata": {},
   "outputs": [
    {
     "data": {
      "text/plain": [
       "[2, 6, 15, 4, 8]"
      ]
     },
     "execution_count": 27,
     "metadata": {},
     "output_type": "execute_result"
    }
   ],
   "source": [
    "L1 = [10, 20, 30, 24, 18]\n",
    "L2 = [8, 14, 15, 20, 10]\n",
    "L3 = []\n",
    "for  i in range(len(L1)):\n",
    "    L3.append(L1[i] - L2[i])\n",
    "L3"
   ]
  },
  {
   "cell_type": "code",
   "execution_count": 12,
   "id": "3e6c1186",
   "metadata": {},
   "outputs": [],
   "source": [
    "for i in range(len(L1)):\n",
    "    l3=i+i"
   ]
  },
  {
   "cell_type": "code",
   "execution_count": 13,
   "id": "0c160b54",
   "metadata": {},
   "outputs": [
    {
     "data": {
      "text/plain": [
       "8"
      ]
     },
     "execution_count": 13,
     "metadata": {},
     "output_type": "execute_result"
    }
   ],
   "source": [
    "l3"
   ]
  },
  {
   "cell_type": "code",
   "execution_count": 31,
   "id": "38471caf",
   "metadata": {},
   "outputs": [
    {
     "name": "stdout",
     "output_type": "stream",
     "text": [
      "{2: 4, 4: 16, 6: 36, 8: 64, 10: 100, 12: 144, 14: 196, 16: 256, 18: 324, 20: 400}\n"
     ]
    }
   ],
   "source": [
    "# dictionary comprehension \n",
    "updated_dict = {i : i**2 for i in range(2,21) if i % 2 ==0}\n",
    "print(updated_dict)"
   ]
  },
  {
   "cell_type": "code",
   "execution_count": 34,
   "id": "d5683939",
   "metadata": {},
   "outputs": [
    {
     "data": {
      "text/plain": [
       "120"
      ]
     },
     "execution_count": 34,
     "metadata": {},
     "output_type": "execute_result"
    }
   ],
   "source": [
    "# define function\n",
    "def factorial(n):\n",
    "    fact=1\n",
    "    for i in range(1,n+1):\n",
    "        fact= fact*i\n",
    "    return fact\n",
    "\n",
    "factorial(5)"
   ]
  },
  {
   "cell_type": "code",
   "execution_count": 38,
   "id": "9c7aeb46",
   "metadata": {},
   "outputs": [
    {
     "data": {
      "text/plain": [
       "279936"
      ]
     },
     "execution_count": 38,
     "metadata": {},
     "output_type": "execute_result"
    }
   ],
   "source": [
    "def x_mul_y(x,y):\n",
    "    outcome=0\n",
    "    for i in range(x,y):\n",
    "        outcome=x**y\n",
    "    return outcome\n",
    "\n",
    "x_mul_y(6,7)"
   ]
  },
  {
   "cell_type": "code",
   "execution_count": 45,
   "id": "7f27bb4f",
   "metadata": {},
   "outputs": [
    {
     "data": {
      "text/plain": [
       "23"
      ]
     },
     "execution_count": 45,
     "metadata": {},
     "output_type": "execute_result"
    }
   ],
   "source": [
    "def func(x, y=1):\n",
    "    z = x * y + x + y\n",
    "    return z\n",
    "\n",
    "func(2, func(3))"
   ]
  },
  {
   "cell_type": "code",
   "execution_count": 46,
   "id": "afe5b878",
   "metadata": {},
   "outputs": [
    {
     "data": {
      "text/plain": [
       "35"
      ]
     },
     "execution_count": 46,
     "metadata": {},
     "output_type": "execute_result"
    }
   ],
   "source": [
    "def func(x = 1 ,y = 2):\n",
    "    z = x * y + x + y\n",
    "    return z\n",
    "\n",
    "func(2, func(3))"
   ]
  },
  {
   "cell_type": "markdown",
   "id": "d26aeb3a",
   "metadata": {},
   "source": [
    "### Lambda function"
   ]
  },
  {
   "cell_type": "code",
   "execution_count": 47,
   "id": "a7a78581",
   "metadata": {},
   "outputs": [
    {
     "data": {
      "text/plain": [
       "3"
      ]
     },
     "execution_count": 47,
     "metadata": {},
     "output_type": "execute_result"
    }
   ],
   "source": [
    "# creating lambda function\n",
    "f = lambda x,y: x if x>y else y\n",
    "f(2,3)"
   ]
  },
  {
   "cell_type": "markdown",
   "id": "0e36894a",
   "metadata": {},
   "source": [
    "### Map, Filter and Reduce Functions"
   ]
  },
  {
   "cell_type": "markdown",
   "id": "46df564c",
   "metadata": {},
   "source": [
    "map(function,iterable object)\n",
    "\n",
    "    - The function here can be a lambda function or a function object.\n",
    "\n",
    "    - The iterable object can be a string, list, tuple, set or dictionary."
   ]
  },
  {
   "cell_type": "code",
   "execution_count": 49,
   "id": "f64d86d0",
   "metadata": {},
   "outputs": [
    {
     "data": {
      "text/plain": [
       "'INDIA'"
      ]
     },
     "execution_count": 49,
     "metadata": {},
     "output_type": "execute_result"
    }
   ],
   "source": [
    "countries=['India', 'Japan', 'Russia', 'USA']\n",
    "\n",
    "f = lambda x: x.upper()\n",
    "f('India')"
   ]
  },
  {
   "cell_type": "code",
   "execution_count": 62,
   "id": "b0d93d30",
   "metadata": {},
   "outputs": [
    {
     "data": {
      "text/plain": [
       "['INDIA', 'JAPAN', 'RUSSIA', 'USA']"
      ]
     },
     "execution_count": 62,
     "metadata": {},
     "output_type": "execute_result"
    }
   ],
   "source": [
    "# using for loop on entire list to changed it to upper case\n",
    "\n",
    "def upper_case(a):\n",
    "    l=[]\n",
    "    for i in countries:\n",
    "        l.append(i.upper())\n",
    "    return l\n",
    "        \n",
    "upper_case(countries)\n",
    "        \n",
    "    "
   ]
  },
  {
   "cell_type": "code",
   "execution_count": 67,
   "id": "2297c91b",
   "metadata": {},
   "outputs": [
    {
     "data": {
      "text/plain": [
       "['INDIA', 'JAPAN', 'RUSSIA', 'USA']"
      ]
     },
     "execution_count": 67,
     "metadata": {},
     "output_type": "execute_result"
    }
   ],
   "source": [
    "# using map on function or using it with lambda function\n",
    "f = map(lambda x: x.upper(), countries)\n",
    "list(f)\n",
    "# can use list infront of the map function to cast out the output"
   ]
  },
  {
   "cell_type": "code",
   "execution_count": 69,
   "id": "e5c3344f",
   "metadata": {},
   "outputs": [
    {
     "data": {
      "text/plain": [
       "[4, 16, 25]"
      ]
     },
     "execution_count": 69,
     "metadata": {},
     "output_type": "execute_result"
    }
   ],
   "source": [
    "# using map fuction to square root the list elements\n",
    "l=[2,4,5]\n",
    "\n",
    "list(map(lambda x: x**2,l))"
   ]
  },
  {
   "cell_type": "code",
   "execution_count": 71,
   "id": "5b20f4ab",
   "metadata": {},
   "outputs": [
    {
     "data": {
      "text/plain": [
       "[4, 16, 25]"
      ]
     },
     "execution_count": 71,
     "metadata": {},
     "output_type": "execute_result"
    }
   ],
   "source": [
    "# Othe way is to create variable for lambda function and use it map\n",
    "square_root = lambda x: x**2\n",
    "list(map(square_root,l))"
   ]
  },
  {
   "cell_type": "code",
   "execution_count": 92,
   "id": "fa402817",
   "metadata": {},
   "outputs": [],
   "source": [
    "# def sqrit(n):\n",
    "#     l=[]\n",
    "#     for i in n:\n",
    "#         l.append(i**2)\n",
    "#     return l\n",
    "\n",
    "# sqrit(l)\n",
    "        \n",
    "def sqrit(n):\n",
    "    return n**2\n"
   ]
  },
  {
   "cell_type": "code",
   "execution_count": 82,
   "id": "9e0eaefa",
   "metadata": {},
   "outputs": [
    {
     "data": {
      "text/plain": [
       "[4, 16, 25]"
      ]
     },
     "execution_count": 82,
     "metadata": {},
     "output_type": "execute_result"
    }
   ],
   "source": [
    "# Now map can be used on user defined function\n",
    "list(map(sqrit,l))"
   ]
  },
  {
   "cell_type": "markdown",
   "id": "6d295ed5",
   "metadata": {},
   "source": [
    "#### Filter operation is similar to map function, only distinguishing feature being that it requires the function to look for a condition and then returns only those elements from the collection that satisfy the condition.\n",
    "\n",
    "##### filter(function,iterable object)\n",
    "\n",
    "    - The function object passed to the filter function should always return a boolean value.\n",
    "\n",
    "    - The iterable object can be a string, list, tuple, set or dictionary."
   ]
  },
  {
   "cell_type": "code",
   "execution_count": 91,
   "id": "40ba5b1d",
   "metadata": {},
   "outputs": [
    {
     "data": {
      "text/plain": [
       "[3, False, False, 6, False, False, 9]"
      ]
     },
     "execution_count": 91,
     "metadata": {},
     "output_type": "execute_result"
    }
   ],
   "source": [
    "# Filter operation\n",
    "my_list=[3,4,5,6,7,8,9]\n",
    "\n",
    "divby3= lambda x: x if x%3==0 else False\n",
    "\n",
    "list(map(divby3, my_list))"
   ]
  },
  {
   "cell_type": "code",
   "execution_count": 94,
   "id": "1bf7ec86",
   "metadata": {},
   "outputs": [
    {
     "data": {
      "text/plain": [
       "[3, 6, 9]"
      ]
     },
     "execution_count": 94,
     "metadata": {},
     "output_type": "execute_result"
    }
   ],
   "source": [
    "# filter function returns the element once casted with list\n",
    "div = filter(divby3, my_list)\n",
    "list(div)"
   ]
  },
  {
   "cell_type": "code",
   "execution_count": 95,
   "id": "d5352a8d",
   "metadata": {},
   "outputs": [
    {
     "data": {
      "text/plain": [
       "{1: ['Sam', 15],\n",
       " 2: ['Rob', 18],\n",
       " 3: ['Kyle', 16],\n",
       " 4: ['Cornor', 19],\n",
       " 5: ['Trump', 20]}"
      ]
     },
     "execution_count": 95,
     "metadata": {},
     "output_type": "execute_result"
    }
   ],
   "source": [
    "students_data = {1:['Sam', 15] , 2:['Rob',18], 3:['Kyle', 16], 4:['Cornor',19], 5:['Trump',20]}\n",
    "students_data"
   ]
  },
  {
   "cell_type": "code",
   "execution_count": 106,
   "id": "f673e97e",
   "metadata": {},
   "outputs": [
    {
     "data": {
      "text/plain": [
       "False"
      ]
     },
     "execution_count": 106,
     "metadata": {},
     "output_type": "execute_result"
    }
   ],
   "source": [
    "f = lambda x: x[1] > 18\n",
    "f(['Sam', 15])"
   ]
  },
  {
   "cell_type": "code",
   "execution_count": 110,
   "id": "9f46e49c",
   "metadata": {},
   "outputs": [
    {
     "data": {
      "text/plain": [
       "[['Cornor', 19], ['Trump', 20]]"
      ]
     },
     "execution_count": 110,
     "metadata": {},
     "output_type": "execute_result"
    }
   ],
   "source": [
    "# to find the data of students of 18 yrs of age\n",
    "list(filter(f, students_data.values()))"
   ]
  },
  {
   "cell_type": "code",
   "execution_count": 112,
   "id": "cd1affcd",
   "metadata": {},
   "outputs": [
    {
     "data": {
      "text/plain": [
       "2"
      ]
     },
     "execution_count": 112,
     "metadata": {},
     "output_type": "execute_result"
    }
   ],
   "source": [
    "#to count the numbers of the students\n",
    "len(list(filter(f, students_data.values())))"
   ]
  },
  {
   "cell_type": "markdown",
   "id": "a3e1eca2",
   "metadata": {},
   "source": [
    "#### Reduce' is an operation that breaks down the entire process into pair-wise operations and uses the result from each operation, with the successive element. The syntax of reduce function is given below. \n",
    "\n",
    " \n",
    "\n",
    "reduce(function,iterable object)\n",
    "\n",
    "    - The function object passed to the reduce function decides what expression is passed to the iterable object.\n",
    "    - The iterable object can be a string, list, tuple, set or dictionary.\n",
    "    - Also, reduce function produces a single output."
   ]
  },
  {
   "cell_type": "code",
   "execution_count": 162,
   "id": "876199ce",
   "metadata": {},
   "outputs": [
    {
     "data": {
      "text/plain": [
       "[1, 2, 3, 4, 5, 6, 7, 8, 9]"
      ]
     },
     "execution_count": 162,
     "metadata": {},
     "output_type": "execute_result"
    }
   ],
   "source": [
    "from functools import reduce\n",
    "l=range(1,10)\n",
    "list(l)"
   ]
  },
  {
   "cell_type": "code",
   "execution_count": 163,
   "id": "72fc1ee0",
   "metadata": {},
   "outputs": [
    {
     "data": {
      "text/plain": [
       "362880"
      ]
     },
     "execution_count": 163,
     "metadata": {},
     "output_type": "execute_result"
    }
   ],
   "source": [
    "# to multiply all digits between range(1,10)\n",
    "f = lambda x,y: x*y\n",
    "reduce(f,l)"
   ]
  },
  {
   "cell_type": "code",
   "execution_count": 183,
   "id": "055af75c",
   "metadata": {},
   "outputs": [
    {
     "data": {
      "text/plain": [
       "2"
      ]
     },
     "execution_count": 183,
     "metadata": {},
     "output_type": "execute_result"
    }
   ],
   "source": [
    "# Q. Count the number that start With 'S' using map\n",
    "l=['Santa Cruz','Santa fe','Mumbai','Delhi']\n",
    "\n",
    "# f=lambda x: x[0]=='S'\n",
    "# d=list(map(f,l))\n",
    "sum(map(lambda x: x[0]=='S',l))\n"
   ]
  },
  {
   "cell_type": "code",
   "execution_count": 198,
   "id": "9dcc385d",
   "metadata": {},
   "outputs": [],
   "source": [
    "l= ['Ankur', 'Avik', 'Kiran', 'Nitin']\n",
    "b= ['Narang', 'Sarkar', 'R', 'Sareen']"
   ]
  },
  {
   "cell_type": "code",
   "execution_count": 201,
   "id": "18118fcf",
   "metadata": {},
   "outputs": [
    {
     "data": {
      "text/plain": [
       "['Ankur Narang', 'Avik Sarkar', 'Kiran R', 'Nitin Sareen']"
      ]
     },
     "execution_count": 201,
     "metadata": {},
     "output_type": "execute_result"
    }
   ],
   "source": [
    "f= lambda x,y: x+' '+y\n",
    "list(map(f,l,b))"
   ]
  },
  {
   "cell_type": "markdown",
   "id": "a70a768e",
   "metadata": {},
   "source": [
    "### Extract a list of numbers that are multiples of 5 from a list of integers named input_list."
   ]
  },
  {
   "cell_type": "code",
   "execution_count": 204,
   "id": "a60ccd8a",
   "metadata": {},
   "outputs": [],
   "source": [
    "l= [1, 2, 3, 4, 5, 6, 7, 8, 9, 10, 11, 12, 13, 14, 15, 16, 17, 18, 19, 20, 21, 22, 23, 24, 25, 26, 27, 28, 29, 30, 31, 32, 33, 34, 35, 36, 37, 38, 39, 40, 41, 42, 43, 44, 45, 46, 47, 48, 49, 50]"
   ]
  },
  {
   "cell_type": "code",
   "execution_count": 206,
   "id": "d14ebc67",
   "metadata": {},
   "outputs": [
    {
     "data": {
      "text/plain": [
       "[5, 10, 15, 20, 25, 30, 35, 40, 45, 50]"
      ]
     },
     "execution_count": 206,
     "metadata": {},
     "output_type": "execute_result"
    }
   ],
   "source": [
    "f=lambda x: x%5==0\n",
    "list(filter(f,l))"
   ]
  },
  {
   "cell_type": "markdown",
   "id": "20befe7e",
   "metadata": {},
   "source": [
    "### Extract a list of names that start with an ‘s’ and end with a ‘p’ (both 's' and 'p' are lowercase) in input_list."
   ]
  },
  {
   "cell_type": "code",
   "execution_count": 215,
   "id": "13e0882f",
   "metadata": {},
   "outputs": [
    {
     "data": {
      "text/plain": [
       "['salsap']"
      ]
     },
     "execution_count": 215,
     "metadata": {},
     "output_type": "execute_result"
    }
   ],
   "source": [
    "l=  ['hdjk', 'salsap', 'sherpa']\n",
    "f=lambda x: x if x[0]=='s' and x[-1]=='p' else False\n",
    "list(filter(f,l))"
   ]
  },
  {
   "cell_type": "markdown",
   "id": "32753907",
   "metadata": {},
   "source": [
    "### Using the Reduce function, concatenate a list of words in input_list, and print the output as a string.\n",
    "\n",
    "If input_list = ['I','Love','Python'], the output should be the string 'I Love Python'."
   ]
  },
  {
   "cell_type": "code",
   "execution_count": 222,
   "id": "e832be46",
   "metadata": {},
   "outputs": [
    {
     "data": {
      "text/plain": [
       "'All you have to fear is fear itself'"
      ]
     },
     "execution_count": 222,
     "metadata": {},
     "output_type": "execute_result"
    }
   ],
   "source": [
    "l = ['All','you','have','to','fear','is','fear','itself']\n",
    "\n",
    "f=lambda x,y: x+' '+y\n",
    "str(reduce(f,l))"
   ]
  },
  {
   "cell_type": "code",
   "execution_count": 224,
   "id": "a78e70a5",
   "metadata": {},
   "outputs": [
    {
     "data": {
      "text/plain": [
       "89"
      ]
     },
     "execution_count": 224,
     "metadata": {},
     "output_type": "execute_result"
    }
   ],
   "source": [
    "# find the largest number using reduce function\n",
    "input_list = [31, 63, 76, 89]\n",
    "f= lambda x,y: x if x > y else y\n",
    "reduce(f, input_list)"
   ]
  },
  {
   "cell_type": "code",
   "execution_count": null,
   "id": "93936d6f",
   "metadata": {},
   "outputs": [],
   "source": []
  }
 ],
 "metadata": {
  "kernelspec": {
   "display_name": "Python 3",
   "language": "python",
   "name": "python3"
  },
  "language_info": {
   "codemirror_mode": {
    "name": "ipython",
    "version": 3
   },
   "file_extension": ".py",
   "mimetype": "text/x-python",
   "name": "python",
   "nbconvert_exporter": "python",
   "pygments_lexer": "ipython3",
   "version": "3.8.8"
  }
 },
 "nbformat": 4,
 "nbformat_minor": 5
}
