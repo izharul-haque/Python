{
  "cells": [
    {
      "cell_type": "markdown",
      "metadata": {
        "id": "view-in-github",
        "colab_type": "text"
      },
      "source": [
        "<a href=\"https://colab.research.google.com/github/izharul-haque/Python/blob/main/Python_Exception_Handling.ipynb\" target=\"_parent\"><img src=\"https://colab.research.google.com/assets/colab-badge.svg\" alt=\"Open In Colab\"/></a>"
      ]
    },
    {
      "cell_type": "markdown",
      "id": "2065b3b1",
      "metadata": {
        "id": "2065b3b1"
      },
      "source": [
        "Error in Python can be of two types i.e. Syntax errors and Exceptions. Errors are the problems in a program due to which the program will stop the execution. On the other hand, exceptions are raised when some internal events occur which changes the normal flow of the program."
      ]
    },
    {
      "cell_type": "markdown",
      "id": "780c8168",
      "metadata": {
        "id": "780c8168"
      },
      "source": [
        "## Difference between Syntax Error and Exceptions\n",
        "\n",
        "Syntax Error: As the name suggests this error is caused by the wrong syntax in the code. It leads to the termination of the program. \n",
        "\n",
        "Example: "
      ]
    },
    {
      "cell_type": "code",
      "execution_count": null,
      "id": "441509cc",
      "metadata": {
        "id": "441509cc",
        "outputId": "831b1d86-da2d-4842-dbe0-3d39297b5127"
      },
      "outputs": [
        {
          "name": "stdout",
          "output_type": "stream",
          "text": [
            "You are eligible to purchase Dsa Self Paced\n",
            "tanuj\n"
          ]
        }
      ],
      "source": [
        "# initialize the amount variable\n",
        "amount = 10000\n",
        "  \n",
        "# check that You are eligible to\n",
        "#  purchase Dsa Self Paced or not\n",
        "if(amount > 2999):\n",
        "    print(\"You are eligible to purchase Dsa Self Paced\")\n",
        "\n",
        "    print('tanuj')"
      ]
    },
    {
      "cell_type": "markdown",
      "id": "1a20b931",
      "metadata": {
        "id": "1a20b931"
      },
      "source": [
        "Exceptions: Exceptions are raised when the program is syntactically correct, but the code resulted in an error. This error does not stop the execution of the program, however, it changes the normal flow of the program."
      ]
    },
    {
      "cell_type": "code",
      "execution_count": null,
      "id": "e1c7c66c",
      "metadata": {
        "id": "e1c7c66c",
        "outputId": "9dc79812-1ec0-4e2b-83b1-f9d5291a1f0c"
      },
      "outputs": [
        {
          "name": "stdout",
          "output_type": "stream",
          "text": [
            "ZeroDivisionError\n",
            "tanuj\n",
            "tanuj\n",
            "tanuj\n",
            "tanuj\n"
          ]
        }
      ],
      "source": [
        "# initialize the amount variable\n",
        "marks = 10000\n",
        "  \n",
        "# perform division with 0\n",
        "try:\n",
        "    a = marks /0\n",
        "    print(a)\n",
        "    \n",
        "except:\n",
        "    print ('ZeroDivisionError')\n",
        "    \n",
        "print('tanuj')\n",
        "print('tanuj')\n",
        "print('tanuj')\n",
        "print('tanuj')"
      ]
    },
    {
      "cell_type": "markdown",
      "id": "b49651d5",
      "metadata": {
        "id": "b49651d5"
      },
      "source": [
        "## Try and Except Statement – Catching Exceptions"
      ]
    },
    {
      "cell_type": "markdown",
      "id": "ba5af99a",
      "metadata": {
        "id": "ba5af99a"
      },
      "source": [
        "Try and except statements are used to catch and handle exceptions in Python. Statements that can raise exceptions are kept inside the try clause and the statements that handle the exception are written inside except clause.\n",
        "\n",
        "Example: Let us try to access the array element whose index is out of bound and handle the corresponding exception."
      ]
    },
    {
      "cell_type": "code",
      "execution_count": null,
      "id": "a60089de",
      "metadata": {
        "id": "a60089de",
        "outputId": "4df84bc9-4235-4856-bcab-6a926a353dae"
      },
      "outputs": [
        {
          "name": "stdout",
          "output_type": "stream",
          "text": [
            "Second element = 2\n",
            "An error occurred\n",
            "tanuj\n"
          ]
        }
      ],
      "source": [
        "# Python program to handle simple runtime error\n",
        "#Python 3\n",
        "  \n",
        "a = [1, 2, 3]\n",
        "try: \n",
        "    print (\"Second element = %d\" %(a[1]))\n",
        "  \n",
        "    # Throws error since there are only 3 elements in array\n",
        "    print (\"Fourth element = %d\" %(a[3]))\n",
        "    \n",
        "except:\n",
        "    print (\"An error occurred\")\n",
        "    \n",
        "    \n",
        "print ('tanuj')"
      ]
    },
    {
      "cell_type": "markdown",
      "id": "80354aed",
      "metadata": {
        "id": "80354aed"
      },
      "source": [
        "## Catching Specific Exception\n",
        "\n",
        "A try statement can have more than one except clause, to specify handlers for different exceptions. Please note that at most one handler will be executed. For example, we can add IndexError in the above code. The general syntax for adding specific exceptions are – "
      ]
    },
    {
      "cell_type": "code",
      "execution_count": null,
      "id": "eebea49f",
      "metadata": {
        "id": "eebea49f",
        "outputId": "05e5e3d9-6674-453b-8284-a1d29d7fb1bc"
      },
      "outputs": [
        {
          "name": "stdout",
          "output_type": "stream",
          "text": [
            "ZeroDivisionError Occurred and Handled\n"
          ]
        }
      ],
      "source": [
        "# Program to handle multiple errors with one\n",
        "# except statement\n",
        "# Python 3\n",
        "  \n",
        "def fun(a):\n",
        "    if a < 4:\n",
        "  \n",
        "        # throws ZeroDivisionError for a = 3\n",
        "        b = a/(a-3)\n",
        "  \n",
        "    # throws NameError if a >= 4\n",
        "    print(\"Value of b = \", b)\n",
        "      \n",
        "try:\n",
        "    fun(3)\n",
        "    fun(5)\n",
        "  \n",
        "# note that braces () are necessary here for \n",
        "# multiple exceptions\n",
        "except ZeroDivisionError:\n",
        "    print(\"ZeroDivisionError Occurred and Handled\")\n",
        "except NameError:\n",
        "    print(\"NameError Occurred and Handled\")"
      ]
    },
    {
      "cell_type": "code",
      "execution_count": null,
      "id": "0320816f",
      "metadata": {
        "id": "0320816f",
        "outputId": "9276fb4d-25fd-423e-845b-d249eb8d449f"
      },
      "outputs": [
        {
          "name": "stdout",
          "output_type": "stream",
          "text": [
            "NameError Occurred and Handled\n"
          ]
        }
      ],
      "source": [
        "# Program to handle multiple errors with one\n",
        "# except statement\n",
        "# Python 3\n",
        "  \n",
        "def fun(a):\n",
        "    if a < 4:\n",
        "  \n",
        "        # throws ZeroDivisionError for a = 3\n",
        "        b = a/(a-3)\n",
        "  \n",
        "    # throws NameError if a >= 4\n",
        "    print(\"Value of b = \", b)\n",
        "      \n",
        "try:\n",
        "    #fun(3)\n",
        "    fun(5)\n",
        "  \n",
        "# note that braces () are necessary here for \n",
        "# multiple exceptions\n",
        "except ZeroDivisionError:\n",
        "    print(\"ZeroDivisionError Occurred and Handled\")\n",
        "except NameError:\n",
        "    print(\"NameError Occurred and Handled\")"
      ]
    },
    {
      "cell_type": "code",
      "execution_count": null,
      "id": "2e84a923",
      "metadata": {
        "id": "2e84a923"
      },
      "outputs": [],
      "source": []
    },
    {
      "cell_type": "code",
      "execution_count": null,
      "id": "c4a26a86",
      "metadata": {
        "id": "c4a26a86"
      },
      "outputs": [],
      "source": []
    }
  ],
  "metadata": {
    "kernelspec": {
      "display_name": "Python 3 (ipykernel)",
      "language": "python",
      "name": "python3"
    },
    "language_info": {
      "codemirror_mode": {
        "name": "ipython",
        "version": 3
      },
      "file_extension": ".py",
      "mimetype": "text/x-python",
      "name": "python",
      "nbconvert_exporter": "python",
      "pygments_lexer": "ipython3",
      "version": "3.9.7"
    },
    "colab": {
      "provenance": [],
      "include_colab_link": true
    }
  },
  "nbformat": 4,
  "nbformat_minor": 5
}